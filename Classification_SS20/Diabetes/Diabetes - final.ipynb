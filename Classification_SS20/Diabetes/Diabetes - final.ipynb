{
 "cells": [
  {
   "cell_type": "markdown",
   "metadata": {},
   "source": [
    "# Import Libraries"
   ]
  },
  {
   "cell_type": "code",
   "execution_count": 1,
   "metadata": {},
   "outputs": [],
   "source": [
    "import numpy as np\n",
    "import pandas as pd\n",
    "import sklearn\n",
    "import math\n",
    "import random\n",
    "\n",
    "import matplotlib.pyplot as plt\n",
    "\n",
    "from sklearn.model_selection import cross_validate\n",
    "from sklearn.pipeline import make_pipeline\n",
    "from sklearn.metrics import precision_recall_fscore_support\n",
    "from sklearn.metrics import accuracy_score, precision_score, recall_score\n",
    "from sklearn.model_selection import RandomizedSearchCV, GridSearchCV\n",
    "from sklearn.model_selection import train_test_split\n",
    "\n",
    "# Data preprocessing\n",
    "from sklearn.preprocessing import StandardScaler\n",
    "from sklearn.preprocessing import RobustScaler\n",
    "from sklearn.preprocessing import MinMaxScaler\n",
    "from sklearn.preprocessing import PowerTransformer\n",
    "from sklearn.preprocessing import QuantileTransformer\n",
    "\n",
    "# Feature selection\n",
    "from sklearn.feature_selection import VarianceThreshold\n",
    "from sklearn.feature_selection import RFECV\n",
    "from sklearn.feature_selection import SelectFromModel\n",
    "\n",
    "# ML Models\n",
    "from sklearn.linear_model import LogisticRegression\n",
    "from sklearn.tree import DecisionTreeClassifier\n",
    "from sklearn.svm import SVC\n",
    "from sklearn.svm import NuSVC\n",
    "from sklearn.ensemble import RandomForestClassifier\n",
    "from sklearn.discriminant_analysis import LinearDiscriminantAnalysis, QuadraticDiscriminantAnalysis\n",
    "from sklearn.cluster import KMeans\n",
    "from sklearn.neighbors import KNeighborsClassifier\n",
    "from sklearn.naive_bayes import GaussianNB\n",
    "from sklearn.ensemble import ExtraTreesClassifier\n",
    "from sklearn.svm import LinearSVC\n",
    "from sklearn.ensemble import VotingClassifier\n",
    "from sklearn.neural_network import MLPClassifier"
   ]
  },
  {
   "cell_type": "markdown",
   "metadata": {},
   "source": [
    "# Result storage"
   ]
  },
  {
   "cell_type": "code",
   "execution_count": 52,
   "metadata": {},
   "outputs": [],
   "source": [
    "df_statistical_tests = pd.DataFrame()\n",
    "df_predictions_per_model = pd.DataFrame()"
   ]
  },
  {
   "cell_type": "markdown",
   "metadata": {},
   "source": [
    "# Data Loading"
   ]
  },
  {
   "cell_type": "code",
   "execution_count": 12,
   "metadata": {},
   "outputs": [],
   "source": [
    "df= pd.read_csv('./diabetes.csv', low_memory=False, sep=',')"
   ]
  },
  {
   "cell_type": "code",
   "execution_count": 13,
   "metadata": {},
   "outputs": [
    {
     "data": {
      "text/html": [
       "<div>\n",
       "<style scoped>\n",
       "    .dataframe tbody tr th:only-of-type {\n",
       "        vertical-align: middle;\n",
       "    }\n",
       "\n",
       "    .dataframe tbody tr th {\n",
       "        vertical-align: top;\n",
       "    }\n",
       "\n",
       "    .dataframe thead th {\n",
       "        text-align: right;\n",
       "    }\n",
       "</style>\n",
       "<table border=\"1\" class=\"dataframe\">\n",
       "  <thead>\n",
       "    <tr style=\"text-align: right;\">\n",
       "      <th></th>\n",
       "      <th>Pregnancies</th>\n",
       "      <th>Glucose</th>\n",
       "      <th>BloodPressure</th>\n",
       "      <th>SkinThickness</th>\n",
       "      <th>Insulin</th>\n",
       "      <th>BMI</th>\n",
       "      <th>DiabetesPedigreeFunction</th>\n",
       "      <th>Age</th>\n",
       "      <th>Outcome</th>\n",
       "    </tr>\n",
       "  </thead>\n",
       "  <tbody>\n",
       "    <tr>\n",
       "      <th>0</th>\n",
       "      <td>6</td>\n",
       "      <td>148</td>\n",
       "      <td>72</td>\n",
       "      <td>35</td>\n",
       "      <td>0</td>\n",
       "      <td>33.6</td>\n",
       "      <td>0.627</td>\n",
       "      <td>50</td>\n",
       "      <td>1</td>\n",
       "    </tr>\n",
       "    <tr>\n",
       "      <th>1</th>\n",
       "      <td>1</td>\n",
       "      <td>85</td>\n",
       "      <td>66</td>\n",
       "      <td>29</td>\n",
       "      <td>0</td>\n",
       "      <td>26.6</td>\n",
       "      <td>0.351</td>\n",
       "      <td>31</td>\n",
       "      <td>0</td>\n",
       "    </tr>\n",
       "    <tr>\n",
       "      <th>2</th>\n",
       "      <td>8</td>\n",
       "      <td>183</td>\n",
       "      <td>64</td>\n",
       "      <td>0</td>\n",
       "      <td>0</td>\n",
       "      <td>23.3</td>\n",
       "      <td>0.672</td>\n",
       "      <td>32</td>\n",
       "      <td>1</td>\n",
       "    </tr>\n",
       "    <tr>\n",
       "      <th>3</th>\n",
       "      <td>1</td>\n",
       "      <td>89</td>\n",
       "      <td>66</td>\n",
       "      <td>23</td>\n",
       "      <td>94</td>\n",
       "      <td>28.1</td>\n",
       "      <td>0.167</td>\n",
       "      <td>21</td>\n",
       "      <td>0</td>\n",
       "    </tr>\n",
       "    <tr>\n",
       "      <th>4</th>\n",
       "      <td>0</td>\n",
       "      <td>137</td>\n",
       "      <td>40</td>\n",
       "      <td>35</td>\n",
       "      <td>168</td>\n",
       "      <td>43.1</td>\n",
       "      <td>2.288</td>\n",
       "      <td>33</td>\n",
       "      <td>1</td>\n",
       "    </tr>\n",
       "  </tbody>\n",
       "</table>\n",
       "</div>"
      ],
      "text/plain": [
       "   Pregnancies  Glucose  BloodPressure  SkinThickness  Insulin   BMI  \\\n",
       "0            6      148             72             35        0  33.6   \n",
       "1            1       85             66             29        0  26.6   \n",
       "2            8      183             64              0        0  23.3   \n",
       "3            1       89             66             23       94  28.1   \n",
       "4            0      137             40             35      168  43.1   \n",
       "\n",
       "   DiabetesPedigreeFunction  Age  Outcome  \n",
       "0                     0.627   50        1  \n",
       "1                     0.351   31        0  \n",
       "2                     0.672   32        1  \n",
       "3                     0.167   21        0  \n",
       "4                     2.288   33        1  "
      ]
     },
     "execution_count": 13,
     "metadata": {},
     "output_type": "execute_result"
    }
   ],
   "source": [
    "df.head()"
   ]
  },
  {
   "cell_type": "markdown",
   "metadata": {},
   "source": [
    "# Target and Feature distribution"
   ]
  },
  {
   "cell_type": "code",
   "execution_count": 14,
   "metadata": {},
   "outputs": [
    {
     "data": {
      "text/plain": [
       "0    500\n",
       "1    268\n",
       "Name: Outcome, dtype: int64"
      ]
     },
     "metadata": {},
     "output_type": "display_data"
    },
    {
     "data": {
      "image/png": "[encoded data removed]",
      "text/plain": [
       "<Figure size 432x288 with 1 Axes>"
      ]
     },
     "metadata": {},
     "output_type": "display_data"
    }
   ],
   "source": [
    "display(df['Outcome'].value_counts())\n",
    "\n",
    "plt.pie( df['Outcome'].value_counts() , labels=['0','1'], \n",
    "        autopct='%1.1f%%', shadow=True)\n",
    "plt.axis('equal')\n",
    "plt.show()"
   ]
  },
  {
   "cell_type": "code",
   "execution_count": 15,
   "metadata": {},
   "outputs": [
    {
     "data": {
      "text/plain": [
       "Pregnancies                 0\n",
       "Glucose                     0\n",
       "BloodPressure               0\n",
       "SkinThickness               0\n",
       "Insulin                     0\n",
       "BMI                         0\n",
       "DiabetesPedigreeFunction    0\n",
       "Age                         0\n",
       "Outcome                     0\n",
       "dtype: int64"
      ]
     },
     "execution_count": 15,
     "metadata": {},
     "output_type": "execute_result"
    }
   ],
   "source": [
    "df.isnull().sum()"
   ]
  },
  {
   "cell_type": "markdown",
   "metadata": {},
   "source": [
    "# Data Preprocessing"
   ]
  },
  {
   "cell_type": "code",
   "execution_count": 16,
   "metadata": {},
   "outputs": [],
   "source": [
    "X = df.drop(['Outcome'],axis=1)\n",
    "Y = df['Outcome']\n"
   ]
  },
  {
   "cell_type": "markdown",
   "metadata": {},
   "source": [
    "# Baseline"
   ]
  },
  {
   "cell_type": "code",
   "execution_count": 53,
   "metadata": {},
   "outputs": [
    {
     "name": "stderr",
     "output_type": "stream",
     "text": [
      "C:\\anaconda3\\lib\\site-packages\\sklearn\\metrics\\_classification.py:1272: UndefinedMetricWarning: Precision is ill-defined and being set to 0.0 due to no predicted samples. Use `zero_division` parameter to control this behavior.\n",
      "  _warn_prf(average, modifier, msg_start, len(result))\n"
     ]
    },
    {
     "data": {
      "text/html": [
       "<div>\n",
       "<style scoped>\n",
       "    .dataframe tbody tr th:only-of-type {\n",
       "        vertical-align: middle;\n",
       "    }\n",
       "\n",
       "    .dataframe tbody tr th {\n",
       "        vertical-align: top;\n",
       "    }\n",
       "\n",
       "    .dataframe thead th {\n",
       "        text-align: right;\n",
       "    }\n",
       "</style>\n",
       "<table border=\"1\" class=\"dataframe\">\n",
       "  <thead>\n",
       "    <tr style=\"text-align: right;\">\n",
       "      <th></th>\n",
       "      <th>Type</th>\n",
       "      <th>accuracy</th>\n",
       "      <th>precision</th>\n",
       "      <th>recall</th>\n",
       "    </tr>\n",
       "  </thead>\n",
       "  <tbody>\n",
       "    <tr>\n",
       "      <th>0</th>\n",
       "      <td>Baseline All false</td>\n",
       "      <td>0.651042</td>\n",
       "      <td>0.000000</td>\n",
       "      <td>0.000000</td>\n",
       "    </tr>\n",
       "    <tr>\n",
       "      <th>1</th>\n",
       "      <td>Baseline All random</td>\n",
       "      <td>0.488281</td>\n",
       "      <td>0.323944</td>\n",
       "      <td>0.429104</td>\n",
       "    </tr>\n",
       "  </tbody>\n",
       "</table>\n",
       "</div>"
      ],
      "text/plain": [
       "                  Type  accuracy  precision    recall\n",
       "0   Baseline All false  0.651042   0.000000  0.000000\n",
       "1  Baseline All random  0.488281   0.323944  0.429104"
      ]
     },
     "metadata": {},
     "output_type": "display_data"
    },
    {
     "data": {
      "text/html": [
       "<div>\n",
       "<style scoped>\n",
       "    .dataframe tbody tr th:only-of-type {\n",
       "        vertical-align: middle;\n",
       "    }\n",
       "\n",
       "    .dataframe tbody tr th {\n",
       "        vertical-align: top;\n",
       "    }\n",
       "\n",
       "    .dataframe thead th {\n",
       "        text-align: right;\n",
       "    }\n",
       "</style>\n",
       "<table border=\"1\" class=\"dataframe\">\n",
       "  <thead>\n",
       "    <tr style=\"text-align: right;\">\n",
       "      <th></th>\n",
       "      <th>Type</th>\n",
       "      <th>false</th>\n",
       "      <th>false %</th>\n",
       "      <th>true</th>\n",
       "      <th>true %</th>\n",
       "    </tr>\n",
       "  </thead>\n",
       "  <tbody>\n",
       "    <tr>\n",
       "      <th>0</th>\n",
       "      <td>Baseline All false</td>\n",
       "      <td>768.0</td>\n",
       "      <td>100.00000</td>\n",
       "      <td>0.0</td>\n",
       "      <td>0.00000</td>\n",
       "    </tr>\n",
       "    <tr>\n",
       "      <th>1</th>\n",
       "      <td>Baseline All random</td>\n",
       "      <td>413.0</td>\n",
       "      <td>0.53776</td>\n",
       "      <td>355.0</td>\n",
       "      <td>0.46224</td>\n",
       "    </tr>\n",
       "  </tbody>\n",
       "</table>\n",
       "</div>"
      ],
      "text/plain": [
       "                  Type  false    false %   true   true %\n",
       "0   Baseline All false  768.0  100.00000    0.0  0.00000\n",
       "1  Baseline All random  413.0    0.53776  355.0  0.46224"
      ]
     },
     "metadata": {},
     "output_type": "display_data"
    }
   ],
   "source": [
    "# Prediction = false \n",
    "Y_all_false = [0 for i in range(0, len(Y))]\n",
    "df_statistical_tests = df_statistical_tests.append({\n",
    "    'Type': 'Baseline All false',\n",
    "    'accuracy': accuracy_score(Y, Y_all_false),\n",
    "    'precision': precision_score(Y, Y_all_false), \n",
    "    'recall': recall_score(Y, Y_all_false)\n",
    "}, ignore_index=True)\n",
    "\n",
    "\n",
    "df_predictions_per_model = df_predictions_per_model.append({\n",
    "    'Type': 'Baseline All false',\n",
    "    'false': np.size(Y_all_false),\n",
    "    'false %': 100,\n",
    "    'true': 0,\n",
    "    'true %': 0,\n",
    "}, ignore_index=True)\n",
    "\n",
    "\n",
    "# Prediction = random\n",
    "Y_random = [random.choice([0, 1]) for i in range(0, len(Y))]\n",
    "df_statistical_tests = df_statistical_tests.append({\n",
    "    'Type': 'Baseline All random',\n",
    "    'accuracy': accuracy_score(Y, Y_random),\n",
    "    'precision': precision_score(Y, Y_random), \n",
    "    'recall': recall_score(Y, Y_random)\n",
    "}, ignore_index=True)\n",
    "\n",
    "\n",
    "df_predictions_per_model = df_predictions_per_model.append({\n",
    "    'Type': 'Baseline All random',\n",
    "    'false': np.size(Y_random)-np.sum(Y_random),\n",
    "    'false %': (np.size(Y_random)-np.sum(Y_random))/np.size(Y_random),\n",
    "    'true':np.sum(Y_random),\n",
    "    'true %': (np.sum(Y_random))/np.size(Y_random),\n",
    "}, ignore_index=True)\n",
    "\n",
    "display(df_statistical_tests)\n",
    "display(df_predictions_per_model)"
   ]
  },
  {
   "cell_type": "markdown",
   "metadata": {},
   "source": [
    "# Random Forrest: Different Parameters"
   ]
  },
  {
   "cell_type": "code",
   "execution_count": 39,
   "metadata": {},
   "outputs": [
    {
     "name": "stdout",
     "output_type": "stream",
     "text": [
      "Fitting 3 folds for each of 32 candidates, totalling 96 fits\n"
     ]
    },
    {
     "name": "stderr",
     "output_type": "stream",
     "text": [
      "[Parallel(n_jobs=-1)]: Using backend LokyBackend with 4 concurrent workers.\n",
      "[Parallel(n_jobs=-1)]: Batch computation too fast (0.0403s.) Setting batch_size=2.\n",
      "[Parallel(n_jobs=-1)]: Done   5 tasks      | elapsed:    0.2s\n",
      "[Parallel(n_jobs=-1)]: Done  12 tasks      | elapsed:    0.9s\n",
      "[Parallel(n_jobs=-1)]: Done  26 tasks      | elapsed:    3.0s\n",
      "[Parallel(n_jobs=-1)]: Batch computation too slow (2.0313s.) Setting batch_size=1.\n",
      "[Parallel(n_jobs=-1)]: Done  40 tasks      | elapsed:    4.8s\n",
      "[Parallel(n_jobs=-1)]: Done  57 tasks      | elapsed:    7.6s\n",
      "[Parallel(n_jobs=-1)]: Done  66 tasks      | elapsed:    9.2s\n",
      "[Parallel(n_jobs=-1)]: Done  77 tasks      | elapsed:   10.6s\n",
      "[Parallel(n_jobs=-1)]: Done  88 tasks      | elapsed:   11.7s\n"
     ]
    },
    {
     "name": "stdout",
     "output_type": "stream",
     "text": [
      "{'criterion': 'entropy', 'max_depth': 20, 'n_estimators': 50}\n"
     ]
    },
    {
     "name": "stderr",
     "output_type": "stream",
     "text": [
      "[Parallel(n_jobs=-1)]: Done  96 out of  96 | elapsed:   12.6s finished\n"
     ]
    }
   ],
   "source": [
    "clf = RandomForestClassifier()\n",
    "\n",
    "parameter_grid = {\n",
    "    'n_estimators': [10, 50, 100, 200],\n",
    "    'criterion': ['gini', 'entropy'],\n",
    "    'max_depth': [None, 20, 30, 50]\n",
    "}\n",
    "cv_grid = GridSearchCV(clf, parameter_grid, cv=3, verbose=10, n_jobs=-1, scoring=['accuracy', 'precision', 'recall'], refit='accuracy')\n",
    "cv_grid.fit(X, Y)\n",
    "\n",
    "print(cv_grid.best_params_)"
   ]
  },
  {
   "cell_type": "markdown",
   "metadata": {},
   "source": [
    "# Random Forrest: Prediction"
   ]
  },
  {
   "cell_type": "code",
   "execution_count": 54,
   "metadata": {},
   "outputs": [
    {
     "data": {
      "text/html": [
       "<div>\n",
       "<style scoped>\n",
       "    .dataframe tbody tr th:only-of-type {\n",
       "        vertical-align: middle;\n",
       "    }\n",
       "\n",
       "    .dataframe tbody tr th {\n",
       "        vertical-align: top;\n",
       "    }\n",
       "\n",
       "    .dataframe thead th {\n",
       "        text-align: right;\n",
       "    }\n",
       "</style>\n",
       "<table border=\"1\" class=\"dataframe\">\n",
       "  <thead>\n",
       "    <tr style=\"text-align: right;\">\n",
       "      <th></th>\n",
       "      <th>Type</th>\n",
       "      <th>accuracy</th>\n",
       "      <th>precision</th>\n",
       "      <th>recall</th>\n",
       "    </tr>\n",
       "  </thead>\n",
       "  <tbody>\n",
       "    <tr>\n",
       "      <th>0</th>\n",
       "      <td>Baseline All false</td>\n",
       "      <td>0.651042</td>\n",
       "      <td>0.000000</td>\n",
       "      <td>0.000000</td>\n",
       "    </tr>\n",
       "    <tr>\n",
       "      <th>1</th>\n",
       "      <td>Baseline All random</td>\n",
       "      <td>0.488281</td>\n",
       "      <td>0.323944</td>\n",
       "      <td>0.429104</td>\n",
       "    </tr>\n",
       "    <tr>\n",
       "      <th>2</th>\n",
       "      <td>RandomForest</td>\n",
       "      <td>0.768229</td>\n",
       "      <td>0.719230</td>\n",
       "      <td>0.566916</td>\n",
       "    </tr>\n",
       "  </tbody>\n",
       "</table>\n",
       "</div>"
      ],
      "text/plain": [
       "                  Type  accuracy  precision    recall\n",
       "0   Baseline All false  0.651042   0.000000  0.000000\n",
       "1  Baseline All random  0.488281   0.323944  0.429104\n",
       "2         RandomForest  0.768229   0.719230  0.566916"
      ]
     },
     "metadata": {},
     "output_type": "display_data"
    },
    {
     "data": {
      "text/html": [
       "<div>\n",
       "<style scoped>\n",
       "    .dataframe tbody tr th:only-of-type {\n",
       "        vertical-align: middle;\n",
       "    }\n",
       "\n",
       "    .dataframe tbody tr th {\n",
       "        vertical-align: top;\n",
       "    }\n",
       "\n",
       "    .dataframe thead th {\n",
       "        text-align: right;\n",
       "    }\n",
       "</style>\n",
       "<table border=\"1\" class=\"dataframe\">\n",
       "  <thead>\n",
       "    <tr style=\"text-align: right;\">\n",
       "      <th></th>\n",
       "      <th>Type</th>\n",
       "      <th>false</th>\n",
       "      <th>false %</th>\n",
       "      <th>true</th>\n",
       "      <th>true %</th>\n",
       "    </tr>\n",
       "  </thead>\n",
       "  <tbody>\n",
       "    <tr>\n",
       "      <th>0</th>\n",
       "      <td>Baseline All false</td>\n",
       "      <td>768.0</td>\n",
       "      <td>100.00000</td>\n",
       "      <td>0.0</td>\n",
       "      <td>0.00000</td>\n",
       "    </tr>\n",
       "    <tr>\n",
       "      <th>1</th>\n",
       "      <td>Baseline All random</td>\n",
       "      <td>413.0</td>\n",
       "      <td>0.53776</td>\n",
       "      <td>355.0</td>\n",
       "      <td>0.46224</td>\n",
       "    </tr>\n",
       "    <tr>\n",
       "      <th>2</th>\n",
       "      <td>RandomForest</td>\n",
       "      <td>500.0</td>\n",
       "      <td>65.00000</td>\n",
       "      <td>268.0</td>\n",
       "      <td>35.00000</td>\n",
       "    </tr>\n",
       "  </tbody>\n",
       "</table>\n",
       "</div>"
      ],
      "text/plain": [
       "                  Type  false    false %   true    true %\n",
       "0   Baseline All false  768.0  100.00000    0.0   0.00000\n",
       "1  Baseline All random  413.0    0.53776  355.0   0.46224\n",
       "2         RandomForest  500.0   65.00000  268.0  35.00000"
      ]
     },
     "execution_count": 54,
     "metadata": {},
     "output_type": "execute_result"
    }
   ],
   "source": [
    "clf = make_pipeline(RandomForestClassifier(criterion='entropy', max_depth=20, n_estimators=50))\n",
    "clf.fit(X, Y)\n",
    "\n",
    "# CV\n",
    "cv_result = cross_validate(clf, X, Y, cv=3, scoring = ['accuracy', 'precision', 'recall'], n_jobs=-1)\n",
    "df_statistical_tests = df_statistical_tests.append({\n",
    "    'Type': 'RandomForest',\n",
    "    'accuracy': cv_result['test_accuracy'].mean(),\n",
    "    'precision': cv_result['test_precision'].mean(),\n",
    "    'recall': cv_result['test_recall'].mean()\n",
    "}, ignore_index=True)\n",
    "\n",
    "display(df_statistical_tests)\n",
    "\n",
    "# Predict\n",
    "y_prediction = clf.predict(X)\n",
    "\n",
    "unique_elements, counts_elements = np.unique(y_prediction, return_counts=True)\n",
    "\n",
    "df_predictions_per_model = df_predictions_per_model.append({\n",
    "    'Type': 'RandomForest',\n",
    "    'false': counts_elements[0],\n",
    "    'false %': int(round(counts_elements[0]/(counts_elements[0]+counts_elements[1])*100.0)),\n",
    "    'true': counts_elements[1],\n",
    "    'true %': int(round(counts_elements[1]/(counts_elements[0]+counts_elements[1])*100.0)),\n",
    "}, ignore_index=True)\n",
    "\n",
    "df_predictions_per_model"
   ]
  },
  {
   "cell_type": "markdown",
   "metadata": {},
   "source": [
    "# SVM: Different Parameters"
   ]
  },
  {
   "cell_type": "code",
   "execution_count": 43,
   "metadata": {},
   "outputs": [
    {
     "name": "stdout",
     "output_type": "stream",
     "text": [
      "Fitting 3 folds for each of 100 candidates, totalling 300 fits\n"
     ]
    },
    {
     "name": "stderr",
     "output_type": "stream",
     "text": [
      "[Parallel(n_jobs=-1)]: Using backend LokyBackend with 4 concurrent workers.\n",
      "[Parallel(n_jobs=-1)]: Batch computation too fast (0.0312s.) Setting batch_size=2.\n",
      "[Parallel(n_jobs=-1)]: Done   5 tasks      | elapsed:    0.0s\n",
      "[Parallel(n_jobs=-1)]: Batch computation too fast (0.0690s.) Setting batch_size=4.\n",
      "[Parallel(n_jobs=-1)]: Done  12 tasks      | elapsed:    0.0s\n",
      "[Parallel(n_jobs=-1)]: Done  28 tasks      | elapsed:    0.1s\n",
      "[Parallel(n_jobs=-1)]: Batch computation too fast (0.1068s.) Setting batch_size=8.\n",
      "[Parallel(n_jobs=-1)]: Done  56 tasks      | elapsed:    0.2s\n",
      "[Parallel(n_jobs=-1)]: Done 128 tasks      | elapsed:    0.6s\n",
      "[Parallel(n_jobs=-1)]: Done 200 tasks      | elapsed:    0.9s\n"
     ]
    },
    {
     "name": "stdout",
     "output_type": "stream",
     "text": [
      "{'C': 0.9108080808080807}\n"
     ]
    },
    {
     "name": "stderr",
     "output_type": "stream",
     "text": [
      "[Parallel(n_jobs=-1)]: Done 267 tasks      | elapsed:    1.3s\n",
      "[Parallel(n_jobs=-1)]: Done 292 tasks      | elapsed:    1.3s\n",
      "[Parallel(n_jobs=-1)]: Done 300 out of 300 | elapsed:    1.3s finished\n"
     ]
    }
   ],
   "source": [
    "clf = SVC()\n",
    "\n",
    "parameter_grid= {\n",
    "    'C': [x for x in np.linspace(start = 0.01, stop = 0.99, num = 100)]    \n",
    "}\n",
    "                     \n",
    "cv_grid = GridSearchCV(clf, parameter_grid, cv=3, verbose=10, n_jobs=-1, scoring=['accuracy', 'precision', 'recall'], refit='accuracy')\n",
    "cv_grid.fit(X, Y)\n",
    "\n",
    "print(cv_grid.best_params_)"
   ]
  },
  {
   "cell_type": "markdown",
   "metadata": {},
   "source": [
    "# SVM: Different Scaling"
   ]
  },
  {
   "cell_type": "code",
   "execution_count": 44,
   "metadata": {},
   "outputs": [
    {
     "name": "stdout",
     "output_type": "stream",
     "text": [
      "[0.73828125 0.75       0.765625  ]\n",
      "0.7513020833333334\n"
     ]
    }
   ],
   "source": [
    "clf = make_pipeline(SVC(C = 0.9108080808080807))\n",
    "clf.fit(X, Y)\n",
    "\n",
    "scores= cross_validate(clf, X, Y, cv=3, scoring=['accuracy', 'precision', 'recall'], n_jobs=-1)\n",
    "\n",
    "print(scores[\"test_accuracy\"])\n",
    "print(np.mean(scores[\"test_accuracy\"]))"
   ]
  },
  {
   "cell_type": "code",
   "execution_count": 45,
   "metadata": {},
   "outputs": [
    {
     "name": "stdout",
     "output_type": "stream",
     "text": [
      "[0.7578125  0.76171875 0.80078125]\n",
      "0.7734375\n"
     ]
    }
   ],
   "source": [
    "clf = make_pipeline(StandardScaler(),SVC(C=0.9108080808080807))\n",
    "clf.fit(X, Y)\n",
    "\n",
    "scores= cross_validate(clf, X, Y, cv=3, scoring=['accuracy', 'precision', 'recall'], n_jobs=-1)\n",
    "\n",
    "print(scores[\"test_accuracy\"])\n",
    "print(np.mean(scores[\"test_accuracy\"]))"
   ]
  },
  {
   "cell_type": "code",
   "execution_count": 61,
   "metadata": {},
   "outputs": [
    {
     "name": "stdout",
     "output_type": "stream",
     "text": [
      "[0.74609375 0.76171875 0.79296875]\n",
      "0.7669270833333334\n"
     ]
    }
   ],
   "source": [
    "clf = make_pipeline(RobustScaler(),SVC(C=0.9108080808080807))\n",
    "clf.fit(X, Y)\n",
    "\n",
    "scores= cross_validate(clf, X, Y, cv=3, scoring=['accuracy', 'precision', 'recall'], n_jobs=-1)\n",
    "\n",
    "print(scores[\"test_accuracy\"])\n",
    "print(np.mean(scores[\"test_accuracy\"]))"
   ]
  },
  {
   "cell_type": "markdown",
   "metadata": {},
   "source": [
    "# SVM: Prediction"
   ]
  },
  {
   "cell_type": "code",
   "execution_count": 55,
   "metadata": {},
   "outputs": [
    {
     "data": {
      "text/html": [
       "<div>\n",
       "<style scoped>\n",
       "    .dataframe tbody tr th:only-of-type {\n",
       "        vertical-align: middle;\n",
       "    }\n",
       "\n",
       "    .dataframe tbody tr th {\n",
       "        vertical-align: top;\n",
       "    }\n",
       "\n",
       "    .dataframe thead th {\n",
       "        text-align: right;\n",
       "    }\n",
       "</style>\n",
       "<table border=\"1\" class=\"dataframe\">\n",
       "  <thead>\n",
       "    <tr style=\"text-align: right;\">\n",
       "      <th></th>\n",
       "      <th>Type</th>\n",
       "      <th>accuracy</th>\n",
       "      <th>precision</th>\n",
       "      <th>recall</th>\n",
       "    </tr>\n",
       "  </thead>\n",
       "  <tbody>\n",
       "    <tr>\n",
       "      <th>0</th>\n",
       "      <td>Baseline All false</td>\n",
       "      <td>0.651042</td>\n",
       "      <td>0.000000</td>\n",
       "      <td>0.000000</td>\n",
       "    </tr>\n",
       "    <tr>\n",
       "      <th>1</th>\n",
       "      <td>Baseline All random</td>\n",
       "      <td>0.488281</td>\n",
       "      <td>0.323944</td>\n",
       "      <td>0.429104</td>\n",
       "    </tr>\n",
       "    <tr>\n",
       "      <th>2</th>\n",
       "      <td>RandomForest</td>\n",
       "      <td>0.768229</td>\n",
       "      <td>0.719230</td>\n",
       "      <td>0.566916</td>\n",
       "    </tr>\n",
       "    <tr>\n",
       "      <th>3</th>\n",
       "      <td>SVC</td>\n",
       "      <td>0.766927</td>\n",
       "      <td>0.726188</td>\n",
       "      <td>0.544694</td>\n",
       "    </tr>\n",
       "  </tbody>\n",
       "</table>\n",
       "</div>"
      ],
      "text/plain": [
       "                  Type  accuracy  precision    recall\n",
       "0   Baseline All false  0.651042   0.000000  0.000000\n",
       "1  Baseline All random  0.488281   0.323944  0.429104\n",
       "2         RandomForest  0.768229   0.719230  0.566916\n",
       "3                  SVC  0.766927   0.726188  0.544694"
      ]
     },
     "metadata": {},
     "output_type": "display_data"
    },
    {
     "data": {
      "text/html": [
       "<div>\n",
       "<style scoped>\n",
       "    .dataframe tbody tr th:only-of-type {\n",
       "        vertical-align: middle;\n",
       "    }\n",
       "\n",
       "    .dataframe tbody tr th {\n",
       "        vertical-align: top;\n",
       "    }\n",
       "\n",
       "    .dataframe thead th {\n",
       "        text-align: right;\n",
       "    }\n",
       "</style>\n",
       "<table border=\"1\" class=\"dataframe\">\n",
       "  <thead>\n",
       "    <tr style=\"text-align: right;\">\n",
       "      <th></th>\n",
       "      <th>Type</th>\n",
       "      <th>false</th>\n",
       "      <th>false %</th>\n",
       "      <th>true</th>\n",
       "      <th>true %</th>\n",
       "    </tr>\n",
       "  </thead>\n",
       "  <tbody>\n",
       "    <tr>\n",
       "      <th>0</th>\n",
       "      <td>Baseline All false</td>\n",
       "      <td>768.0</td>\n",
       "      <td>100.00000</td>\n",
       "      <td>0.0</td>\n",
       "      <td>0.00000</td>\n",
       "    </tr>\n",
       "    <tr>\n",
       "      <th>1</th>\n",
       "      <td>Baseline All random</td>\n",
       "      <td>413.0</td>\n",
       "      <td>0.53776</td>\n",
       "      <td>355.0</td>\n",
       "      <td>0.46224</td>\n",
       "    </tr>\n",
       "    <tr>\n",
       "      <th>2</th>\n",
       "      <td>RandomForest</td>\n",
       "      <td>500.0</td>\n",
       "      <td>65.00000</td>\n",
       "      <td>268.0</td>\n",
       "      <td>35.00000</td>\n",
       "    </tr>\n",
       "    <tr>\n",
       "      <th>3</th>\n",
       "      <td>SVC</td>\n",
       "      <td>562.0</td>\n",
       "      <td>73.00000</td>\n",
       "      <td>206.0</td>\n",
       "      <td>27.00000</td>\n",
       "    </tr>\n",
       "  </tbody>\n",
       "</table>\n",
       "</div>"
      ],
      "text/plain": [
       "                  Type  false    false %   true    true %\n",
       "0   Baseline All false  768.0  100.00000    0.0   0.00000\n",
       "1  Baseline All random  413.0    0.53776  355.0   0.46224\n",
       "2         RandomForest  500.0   65.00000  268.0  35.00000\n",
       "3                  SVC  562.0   73.00000  206.0  27.00000"
      ]
     },
     "execution_count": 55,
     "metadata": {},
     "output_type": "execute_result"
    }
   ],
   "source": [
    "clf = make_pipeline(StandardScaler(),SVC(C=0.9108080808080807))\n",
    "clf.fit(X, Y)\n",
    "# CV\n",
    "cv_result = cross_validate(clf, X, Y, cv=3, scoring=['accuracy', 'precision', 'recall'], n_jobs=-1)\n",
    "df_statistical_tests = df_statistical_tests.append({\n",
    "    'Type': 'SVC',\n",
    "    'accuracy': cv_result['test_accuracy'].mean(),\n",
    "    'precision': cv_result['test_precision'].mean(),\n",
    "    'recall': cv_result['test_recall'].mean()\n",
    "}, ignore_index=True)\n",
    "\n",
    "display(df_statistical_tests)\n",
    "\n",
    "# Predict\n",
    "y_prediction = clf.predict(X)\n",
    "\n",
    "unique_elements, counts_elements = np.unique(y_prediction, return_counts=True)\n",
    "\n",
    "df_predictions_per_model = df_predictions_per_model.append({\n",
    "    'Type': 'SVC',\n",
    "    'false': counts_elements[0],\n",
    "    'false %': int(round(counts_elements[0]/(counts_elements[0]+counts_elements[1])*100.0)),\n",
    "    'true': counts_elements[1],\n",
    "    'true %': int(round(counts_elements[1]/(counts_elements[0]+counts_elements[1])*100.0)),\n",
    "}, ignore_index=True)\n",
    "\n",
    "df_predictions_per_model"
   ]
  },
  {
   "cell_type": "markdown",
   "metadata": {},
   "source": [
    "# NuSVC: Different Parameter"
   ]
  },
  {
   "cell_type": "code",
   "execution_count": 48,
   "metadata": {},
   "outputs": [
    {
     "name": "stdout",
     "output_type": "stream",
     "text": [
      "Fitting 3 folds for each of 100 candidates, totalling 300 fits\n"
     ]
    },
    {
     "name": "stderr",
     "output_type": "stream",
     "text": [
      "[Parallel(n_jobs=-1)]: Using backend LokyBackend with 4 concurrent workers.\n",
      "[Parallel(n_jobs=-1)]: Batch computation too fast (0.0302s.) Setting batch_size=2.\n",
      "[Parallel(n_jobs=-1)]: Done   5 tasks      | elapsed:    0.0s\n",
      "[Parallel(n_jobs=-1)]: Batch computation too fast (0.0604s.) Setting batch_size=4.\n",
      "[Parallel(n_jobs=-1)]: Done  12 tasks      | elapsed:    0.0s\n",
      "[Parallel(n_jobs=-1)]: Done  28 tasks      | elapsed:    0.3s\n",
      "[Parallel(n_jobs=-1)]: Done  56 tasks      | elapsed:    0.7s\n",
      "[Parallel(n_jobs=-1)]: Done  92 tasks      | elapsed:    1.6s\n",
      "[Parallel(n_jobs=-1)]: Done 128 tasks      | elapsed:    2.6s\n",
      "[Parallel(n_jobs=-1)]: Done 172 tasks      | elapsed:    3.2s\n",
      "[Parallel(n_jobs=-1)]: Done 216 tasks      | elapsed:    3.6s\n",
      "[Parallel(n_jobs=-1)]: Batch computation too fast (0.1831s.) Setting batch_size=8.\n",
      "[Parallel(n_jobs=-1)]: Done 268 tasks      | elapsed:    3.8s\n"
     ]
    },
    {
     "name": "stdout",
     "output_type": "stream",
     "text": [
      "{'nu': 0.5643434343434344}\n"
     ]
    },
    {
     "name": "stderr",
     "output_type": "stream",
     "text": [
      "[Parallel(n_jobs=-1)]: Done 287 tasks      | elapsed:    3.8s\n",
      "[Parallel(n_jobs=-1)]: Done 300 out of 300 | elapsed:    3.8s finished\n"
     ]
    }
   ],
   "source": [
    "clf = NuSVC()\n",
    "\n",
    "parameter_grid= {\n",
    "    'nu': [x for x in np.linspace(start = 0.01, stop = 0.99, num = 100)]    \n",
    "}\n",
    "                     \n",
    "cv_grid = GridSearchCV(clf, parameter_grid, cv=3, verbose=10, n_jobs=-1, scoring=['accuracy', 'precision', 'recall'], refit='accuracy')\n",
    "cv_grid.fit(X, Y)\n",
    "\n",
    "print(cv_grid.best_params_)"
   ]
  },
  {
   "cell_type": "markdown",
   "metadata": {},
   "source": [
    "# NuSVC: Different Scaling"
   ]
  },
  {
   "cell_type": "code",
   "execution_count": 28,
   "metadata": {},
   "outputs": [
    {
     "name": "stdout",
     "output_type": "stream",
     "text": [
      "[0.734375   0.75390625 0.76953125]\n",
      "0.7526041666666666\n"
     ]
    }
   ],
   "source": [
    "clf = make_pipeline(NuSVC(nu=0.5643434343434344))\n",
    "clf.fit(X, Y)\n",
    "\n",
    "scores= cross_validate(clf, X, Y, cv=3, scoring=['accuracy', 'precision', 'recall'], n_jobs=-1)\n",
    "\n",
    "print(scores[\"test_accuracy\"])\n",
    "print(np.mean(scores[\"test_accuracy\"]))"
   ]
  },
  {
   "cell_type": "code",
   "execution_count": 29,
   "metadata": {},
   "outputs": [
    {
     "name": "stdout",
     "output_type": "stream",
     "text": [
      "[0.74609375 0.73828125 0.8203125 ]\n",
      "0.7682291666666666\n"
     ]
    }
   ],
   "source": [
    "clf = make_pipeline(StandardScaler(), NuSVC(nu=0.5643434343434344))\n",
    "clf.fit(X, Y)\n",
    "\n",
    "scores= cross_validate(clf, X, Y, cv=3, scoring=['accuracy', 'precision', 'recall'], n_jobs=-1)\n",
    "\n",
    "print(scores[\"test_accuracy\"])\n",
    "print(np.mean(scores[\"test_accuracy\"]))"
   ]
  },
  {
   "cell_type": "code",
   "execution_count": 30,
   "metadata": {},
   "outputs": [
    {
     "name": "stdout",
     "output_type": "stream",
     "text": [
      "[0.73828125 0.75       0.8203125 ]\n",
      "0.76953125\n"
     ]
    }
   ],
   "source": [
    "clf = make_pipeline(RobustScaler(), NuSVC(nu=0.5643434343434344))\n",
    "clf.fit(X, Y)\n",
    "\n",
    "scores= cross_validate(clf, X, Y, cv=3, scoring=['accuracy', 'precision', 'recall'], n_jobs=-1)\n",
    "\n",
    "print(scores[\"test_accuracy\"])\n",
    "print(np.mean(scores[\"test_accuracy\"]))"
   ]
  },
  {
   "cell_type": "code",
   "execution_count": 31,
   "metadata": {},
   "outputs": [
    {
     "name": "stdout",
     "output_type": "stream",
     "text": [
      "[0.734375   0.7421875  0.79296875]\n",
      "0.7565104166666666\n"
     ]
    }
   ],
   "source": [
    "clf = make_pipeline(MinMaxScaler(), NuSVC(nu=0.5643434343434344))\n",
    "clf.fit(X, Y)\n",
    "\n",
    "scores= cross_validate(clf, X, Y, cv=3, scoring=['accuracy', 'precision', 'recall'], n_jobs=-1)\n",
    "\n",
    "print(scores[\"test_accuracy\"])\n",
    "print(np.mean(scores[\"test_accuracy\"]))"
   ]
  },
  {
   "cell_type": "markdown",
   "metadata": {},
   "source": [
    "# NuSVC: Prediction"
   ]
  },
  {
   "cell_type": "code",
   "execution_count": 56,
   "metadata": {},
   "outputs": [
    {
     "data": {
      "text/html": [
       "<div>\n",
       "<style scoped>\n",
       "    .dataframe tbody tr th:only-of-type {\n",
       "        vertical-align: middle;\n",
       "    }\n",
       "\n",
       "    .dataframe tbody tr th {\n",
       "        vertical-align: top;\n",
       "    }\n",
       "\n",
       "    .dataframe thead th {\n",
       "        text-align: right;\n",
       "    }\n",
       "</style>\n",
       "<table border=\"1\" class=\"dataframe\">\n",
       "  <thead>\n",
       "    <tr style=\"text-align: right;\">\n",
       "      <th></th>\n",
       "      <th>Type</th>\n",
       "      <th>accuracy</th>\n",
       "      <th>precision</th>\n",
       "      <th>recall</th>\n",
       "    </tr>\n",
       "  </thead>\n",
       "  <tbody>\n",
       "    <tr>\n",
       "      <th>0</th>\n",
       "      <td>Baseline All false</td>\n",
       "      <td>0.651042</td>\n",
       "      <td>0.000000</td>\n",
       "      <td>0.000000</td>\n",
       "    </tr>\n",
       "    <tr>\n",
       "      <th>1</th>\n",
       "      <td>Baseline All random</td>\n",
       "      <td>0.488281</td>\n",
       "      <td>0.323944</td>\n",
       "      <td>0.429104</td>\n",
       "    </tr>\n",
       "    <tr>\n",
       "      <th>2</th>\n",
       "      <td>RandomForest</td>\n",
       "      <td>0.768229</td>\n",
       "      <td>0.719230</td>\n",
       "      <td>0.566916</td>\n",
       "    </tr>\n",
       "    <tr>\n",
       "      <th>3</th>\n",
       "      <td>SVC</td>\n",
       "      <td>0.766927</td>\n",
       "      <td>0.726188</td>\n",
       "      <td>0.544694</td>\n",
       "    </tr>\n",
       "    <tr>\n",
       "      <th>4</th>\n",
       "      <td>NuSVC</td>\n",
       "      <td>0.759115</td>\n",
       "      <td>0.715532</td>\n",
       "      <td>0.522222</td>\n",
       "    </tr>\n",
       "  </tbody>\n",
       "</table>\n",
       "</div>"
      ],
      "text/plain": [
       "                  Type  accuracy  precision    recall\n",
       "0   Baseline All false  0.651042   0.000000  0.000000\n",
       "1  Baseline All random  0.488281   0.323944  0.429104\n",
       "2         RandomForest  0.768229   0.719230  0.566916\n",
       "3                  SVC  0.766927   0.726188  0.544694\n",
       "4                NuSVC  0.759115   0.715532  0.522222"
      ]
     },
     "metadata": {},
     "output_type": "display_data"
    },
    {
     "data": {
      "text/html": [
       "<div>\n",
       "<style scoped>\n",
       "    .dataframe tbody tr th:only-of-type {\n",
       "        vertical-align: middle;\n",
       "    }\n",
       "\n",
       "    .dataframe tbody tr th {\n",
       "        vertical-align: top;\n",
       "    }\n",
       "\n",
       "    .dataframe thead th {\n",
       "        text-align: right;\n",
       "    }\n",
       "</style>\n",
       "<table border=\"1\" class=\"dataframe\">\n",
       "  <thead>\n",
       "    <tr style=\"text-align: right;\">\n",
       "      <th></th>\n",
       "      <th>Type</th>\n",
       "      <th>false</th>\n",
       "      <th>false %</th>\n",
       "      <th>true</th>\n",
       "      <th>true %</th>\n",
       "    </tr>\n",
       "  </thead>\n",
       "  <tbody>\n",
       "    <tr>\n",
       "      <th>0</th>\n",
       "      <td>Baseline All false</td>\n",
       "      <td>768.0</td>\n",
       "      <td>100.00000</td>\n",
       "      <td>0.0</td>\n",
       "      <td>0.00000</td>\n",
       "    </tr>\n",
       "    <tr>\n",
       "      <th>1</th>\n",
       "      <td>Baseline All random</td>\n",
       "      <td>413.0</td>\n",
       "      <td>0.53776</td>\n",
       "      <td>355.0</td>\n",
       "      <td>0.46224</td>\n",
       "    </tr>\n",
       "    <tr>\n",
       "      <th>2</th>\n",
       "      <td>RandomForest</td>\n",
       "      <td>500.0</td>\n",
       "      <td>65.00000</td>\n",
       "      <td>268.0</td>\n",
       "      <td>35.00000</td>\n",
       "    </tr>\n",
       "    <tr>\n",
       "      <th>3</th>\n",
       "      <td>SVC</td>\n",
       "      <td>562.0</td>\n",
       "      <td>73.00000</td>\n",
       "      <td>206.0</td>\n",
       "      <td>27.00000</td>\n",
       "    </tr>\n",
       "    <tr>\n",
       "      <th>4</th>\n",
       "      <td>NuSVC</td>\n",
       "      <td>565.0</td>\n",
       "      <td>74.00000</td>\n",
       "      <td>203.0</td>\n",
       "      <td>26.00000</td>\n",
       "    </tr>\n",
       "  </tbody>\n",
       "</table>\n",
       "</div>"
      ],
      "text/plain": [
       "                  Type  false    false %   true    true %\n",
       "0   Baseline All false  768.0  100.00000    0.0   0.00000\n",
       "1  Baseline All random  413.0    0.53776  355.0   0.46224\n",
       "2         RandomForest  500.0   65.00000  268.0  35.00000\n",
       "3                  SVC  562.0   73.00000  206.0  27.00000\n",
       "4                NuSVC  565.0   74.00000  203.0  26.00000"
      ]
     },
     "execution_count": 56,
     "metadata": {},
     "output_type": "execute_result"
    }
   ],
   "source": [
    "clf = make_pipeline(RobustScaler(), NuSVC(nu=0.5643434343434344))\n",
    "clf.fit(X, Y)\n",
    "\n",
    "# CV\n",
    "cv_result = cross_validate(clf, X, Y, cv=3, scoring=['accuracy', 'precision', 'recall'], n_jobs=-1)\n",
    "df_statistical_tests = df_statistical_tests.append({\n",
    "    'Type': 'NuSVC',\n",
    "    'accuracy': cv_result['test_accuracy'].mean(),\n",
    "    'precision': cv_result['test_precision'].mean(),\n",
    "    'recall': cv_result['test_recall'].mean()\n",
    "}, ignore_index=True)\n",
    "\n",
    "display(df_statistical_tests)\n",
    "\n",
    "# Predict\n",
    "y_prediction = clf.predict(X)\n",
    "\n",
    "unique_elements, counts_elements = np.unique(y_prediction, return_counts=True)\n",
    "\n",
    "df_predictions_per_model = df_predictions_per_model.append({\n",
    "    'Type': 'NuSVC',\n",
    "    'false': counts_elements[0],\n",
    "    'false %': int(round(counts_elements[0]/(counts_elements[0]+counts_elements[1])*100.0)),\n",
    "    'true': counts_elements[1],\n",
    "    'true %': int(round(counts_elements[1]/(counts_elements[0]+counts_elements[1])*100.0)),\n",
    "}, ignore_index=True)\n",
    "\n",
    "df_predictions_per_model"
   ]
  },
  {
   "cell_type": "markdown",
   "metadata": {},
   "source": [
    "# Neural Network: Different Parameters"
   ]
  },
  {
   "cell_type": "code",
   "execution_count": 50,
   "metadata": {},
   "outputs": [
    {
     "name": "stdout",
     "output_type": "stream",
     "text": [
      "Fitting 3 folds for each of 21 candidates, totalling 63 fits\n"
     ]
    },
    {
     "name": "stderr",
     "output_type": "stream",
     "text": [
      "[Parallel(n_jobs=-1)]: Using backend LokyBackend with 4 concurrent workers.\n",
      "[Parallel(n_jobs=-1)]: Batch computation too fast (0.0313s.) Setting batch_size=2.\n",
      "[Parallel(n_jobs=-1)]: Done   5 tasks      | elapsed:    0.1s\n",
      "[Parallel(n_jobs=-1)]: Done  12 tasks      | elapsed:    0.8s\n",
      "[Parallel(n_jobs=-1)]: Done  26 tasks      | elapsed:    2.7s\n",
      "[Parallel(n_jobs=-1)]: Batch computation too slow (2.0546s.) Setting batch_size=1.\n",
      "[Parallel(n_jobs=-1)]: Done  40 tasks      | elapsed:    4.6s\n",
      "[Parallel(n_jobs=-1)]: Done  56 out of  63 | elapsed:   17.2s remaining:    2.1s\n",
      "[Parallel(n_jobs=-1)]: Done  63 out of  63 | elapsed:   23.4s remaining:    0.0s\n",
      "[Parallel(n_jobs=-1)]: Done  63 out of  63 | elapsed:   23.4s finished\n"
     ]
    },
    {
     "name": "stdout",
     "output_type": "stream",
     "text": [
      "{'hidden_layer_sizes': (3, 3), 'max_iter': 1000}\n"
     ]
    }
   ],
   "source": [
    "clf = MLPClassifier()\n",
    "\n",
    "parameter_grid= {\n",
    "    'max_iter': [10,50,100,150,200,300,1000],\n",
    "    'hidden_layer_sizes' : [(2,2),(3,3),(10,4)]\n",
    "}\n",
    "                     \n",
    "cv_grid = GridSearchCV(clf, parameter_grid, cv=3, verbose=10, n_jobs=-1, scoring=['accuracy', 'precision', 'recall'], refit='accuracy')\n",
    "cv_grid.fit(X, Y)\n",
    "\n",
    "print(cv_grid.best_params_)"
   ]
  },
  {
   "cell_type": "code",
   "execution_count": 34,
   "metadata": {},
   "outputs": [
    {
     "name": "stdout",
     "output_type": "stream",
     "text": [
      "[0.64453125 0.73046875 0.68359375]\n",
      "0.6861979166666666\n"
     ]
    }
   ],
   "source": [
    "clf = MLPClassifier(hidden_layer_sizes=(3,3), max_iter = 1000)\n",
    "\n",
    "clf.fit(X, Y)\n",
    "\n",
    "scores= cross_validate(clf, X, Y, cv=3, scoring=['accuracy', 'precision', 'recall'], n_jobs=-1)\n",
    "\n",
    "print(scores[\"test_accuracy\"])\n",
    "print(np.mean(scores[\"test_accuracy\"]))"
   ]
  },
  {
   "cell_type": "markdown",
   "metadata": {},
   "source": [
    "# MLP: Prediction"
   ]
  },
  {
   "cell_type": "code",
   "execution_count": 57,
   "metadata": {},
   "outputs": [
    {
     "data": {
      "text/html": [
       "<div>\n",
       "<style scoped>\n",
       "    .dataframe tbody tr th:only-of-type {\n",
       "        vertical-align: middle;\n",
       "    }\n",
       "\n",
       "    .dataframe tbody tr th {\n",
       "        vertical-align: top;\n",
       "    }\n",
       "\n",
       "    .dataframe thead th {\n",
       "        text-align: right;\n",
       "    }\n",
       "</style>\n",
       "<table border=\"1\" class=\"dataframe\">\n",
       "  <thead>\n",
       "    <tr style=\"text-align: right;\">\n",
       "      <th></th>\n",
       "      <th>Type</th>\n",
       "      <th>accuracy</th>\n",
       "      <th>precision</th>\n",
       "      <th>recall</th>\n",
       "    </tr>\n",
       "  </thead>\n",
       "  <tbody>\n",
       "    <tr>\n",
       "      <th>0</th>\n",
       "      <td>Baseline All false</td>\n",
       "      <td>0.651042</td>\n",
       "      <td>0.000000</td>\n",
       "      <td>0.000000</td>\n",
       "    </tr>\n",
       "    <tr>\n",
       "      <th>1</th>\n",
       "      <td>Baseline All random</td>\n",
       "      <td>0.488281</td>\n",
       "      <td>0.323944</td>\n",
       "      <td>0.429104</td>\n",
       "    </tr>\n",
       "    <tr>\n",
       "      <th>2</th>\n",
       "      <td>RandomForest</td>\n",
       "      <td>0.768229</td>\n",
       "      <td>0.719230</td>\n",
       "      <td>0.566916</td>\n",
       "    </tr>\n",
       "    <tr>\n",
       "      <th>3</th>\n",
       "      <td>SVC</td>\n",
       "      <td>0.766927</td>\n",
       "      <td>0.726188</td>\n",
       "      <td>0.544694</td>\n",
       "    </tr>\n",
       "    <tr>\n",
       "      <th>4</th>\n",
       "      <td>NuSVC</td>\n",
       "      <td>0.759115</td>\n",
       "      <td>0.715532</td>\n",
       "      <td>0.522222</td>\n",
       "    </tr>\n",
       "    <tr>\n",
       "      <th>5</th>\n",
       "      <td>MLP</td>\n",
       "      <td>0.651042</td>\n",
       "      <td>0.166667</td>\n",
       "      <td>0.003704</td>\n",
       "    </tr>\n",
       "  </tbody>\n",
       "</table>\n",
       "</div>"
      ],
      "text/plain": [
       "                  Type  accuracy  precision    recall\n",
       "0   Baseline All false  0.651042   0.000000  0.000000\n",
       "1  Baseline All random  0.488281   0.323944  0.429104\n",
       "2         RandomForest  0.768229   0.719230  0.566916\n",
       "3                  SVC  0.766927   0.726188  0.544694\n",
       "4                NuSVC  0.759115   0.715532  0.522222\n",
       "5                  MLP  0.651042   0.166667  0.003704"
      ]
     },
     "metadata": {},
     "output_type": "display_data"
    },
    {
     "data": {
      "text/html": [
       "<div>\n",
       "<style scoped>\n",
       "    .dataframe tbody tr th:only-of-type {\n",
       "        vertical-align: middle;\n",
       "    }\n",
       "\n",
       "    .dataframe tbody tr th {\n",
       "        vertical-align: top;\n",
       "    }\n",
       "\n",
       "    .dataframe thead th {\n",
       "        text-align: right;\n",
       "    }\n",
       "</style>\n",
       "<table border=\"1\" class=\"dataframe\">\n",
       "  <thead>\n",
       "    <tr style=\"text-align: right;\">\n",
       "      <th></th>\n",
       "      <th>Type</th>\n",
       "      <th>false</th>\n",
       "      <th>false %</th>\n",
       "      <th>true</th>\n",
       "      <th>true %</th>\n",
       "    </tr>\n",
       "  </thead>\n",
       "  <tbody>\n",
       "    <tr>\n",
       "      <th>0</th>\n",
       "      <td>Baseline All false</td>\n",
       "      <td>768.0</td>\n",
       "      <td>100.00000</td>\n",
       "      <td>0.0</td>\n",
       "      <td>0.00000</td>\n",
       "    </tr>\n",
       "    <tr>\n",
       "      <th>1</th>\n",
       "      <td>Baseline All random</td>\n",
       "      <td>413.0</td>\n",
       "      <td>0.53776</td>\n",
       "      <td>355.0</td>\n",
       "      <td>0.46224</td>\n",
       "    </tr>\n",
       "    <tr>\n",
       "      <th>2</th>\n",
       "      <td>RandomForest</td>\n",
       "      <td>500.0</td>\n",
       "      <td>65.00000</td>\n",
       "      <td>268.0</td>\n",
       "      <td>35.00000</td>\n",
       "    </tr>\n",
       "    <tr>\n",
       "      <th>3</th>\n",
       "      <td>SVC</td>\n",
       "      <td>562.0</td>\n",
       "      <td>73.00000</td>\n",
       "      <td>206.0</td>\n",
       "      <td>27.00000</td>\n",
       "    </tr>\n",
       "    <tr>\n",
       "      <th>4</th>\n",
       "      <td>NuSVC</td>\n",
       "      <td>565.0</td>\n",
       "      <td>74.00000</td>\n",
       "      <td>203.0</td>\n",
       "      <td>26.00000</td>\n",
       "    </tr>\n",
       "    <tr>\n",
       "      <th>5</th>\n",
       "      <td>MLP</td>\n",
       "      <td>767.0</td>\n",
       "      <td>100.00000</td>\n",
       "      <td>1.0</td>\n",
       "      <td>0.00000</td>\n",
       "    </tr>\n",
       "  </tbody>\n",
       "</table>\n",
       "</div>"
      ],
      "text/plain": [
       "                  Type  false    false %   true    true %\n",
       "0   Baseline All false  768.0  100.00000    0.0   0.00000\n",
       "1  Baseline All random  413.0    0.53776  355.0   0.46224\n",
       "2         RandomForest  500.0   65.00000  268.0  35.00000\n",
       "3                  SVC  562.0   73.00000  206.0  27.00000\n",
       "4                NuSVC  565.0   74.00000  203.0  26.00000\n",
       "5                  MLP  767.0  100.00000    1.0   0.00000"
      ]
     },
     "execution_count": 57,
     "metadata": {},
     "output_type": "execute_result"
    }
   ],
   "source": [
    "clf = MLPClassifier(hidden_layer_sizes=(3, 3), max_iter = 1000)\n",
    "clf.fit(X, Y)\n",
    "\n",
    "# CV\n",
    "cv_result = cross_validate(clf, X, Y, cv=3, scoring=['accuracy', 'precision', 'recall'], n_jobs=-1)\n",
    "df_statistical_tests = df_statistical_tests.append({\n",
    "    'Type': 'MLP',\n",
    "    'accuracy': cv_result['test_accuracy'].mean(),\n",
    "    'precision': cv_result['test_precision'].mean(),\n",
    "    'recall': cv_result['test_recall'].mean()\n",
    "}, ignore_index=True)\n",
    "\n",
    "display(df_statistical_tests)\n",
    "\n",
    "# Predict\n",
    "y_prediction = clf.predict(X)\n",
    "\n",
    "unique_elements, counts_elements = np.unique(y_prediction, return_counts=True)\n",
    "\n",
    "df_predictions_per_model = df_predictions_per_model.append({\n",
    "    'Type': 'MLP',\n",
    "    'false': counts_elements[0],\n",
    "    'false %': int(round(counts_elements[0]/(counts_elements[0]+counts_elements[1])*100.0)),\n",
    "    'true': counts_elements[1],\n",
    "    'true %': int(round(counts_elements[1]/(counts_elements[0]+counts_elements[1])*100.0)),\n",
    "}, ignore_index=True)\n",
    "\n",
    "df_predictions_per_model"
   ]
  },
  {
   "cell_type": "markdown",
   "metadata": {},
   "source": [
    "# Significance Test"
   ]
  },
  {
   "cell_type": "code",
   "execution_count": 59,
   "metadata": {},
   "outputs": [
    {
     "data": {
      "text/html": [
       "<div>\n",
       "<style scoped>\n",
       "    .dataframe tbody tr th:only-of-type {\n",
       "        vertical-align: middle;\n",
       "    }\n",
       "\n",
       "    .dataframe tbody tr th {\n",
       "        vertical-align: top;\n",
       "    }\n",
       "\n",
       "    .dataframe thead th {\n",
       "        text-align: right;\n",
       "    }\n",
       "</style>\n",
       "<table border=\"1\" class=\"dataframe\">\n",
       "  <thead>\n",
       "    <tr style=\"text-align: right;\">\n",
       "      <th></th>\n",
       "      <th>accuracy</th>\n",
       "      <th>precision</th>\n",
       "      <th>recall</th>\n",
       "    </tr>\n",
       "    <tr>\n",
       "      <th>Type</th>\n",
       "      <th></th>\n",
       "      <th></th>\n",
       "      <th></th>\n",
       "    </tr>\n",
       "  </thead>\n",
       "  <tbody>\n",
       "    <tr>\n",
       "      <th>Baseline All false</th>\n",
       "      <td>0.651042</td>\n",
       "      <td>0.000000</td>\n",
       "      <td>0.000000</td>\n",
       "    </tr>\n",
       "    <tr>\n",
       "      <th>Baseline All random</th>\n",
       "      <td>0.488281</td>\n",
       "      <td>0.323944</td>\n",
       "      <td>0.429104</td>\n",
       "    </tr>\n",
       "    <tr>\n",
       "      <th>RandomForest</th>\n",
       "      <td>0.768229</td>\n",
       "      <td>0.719230</td>\n",
       "      <td>0.566916</td>\n",
       "    </tr>\n",
       "    <tr>\n",
       "      <th>SVC</th>\n",
       "      <td>0.766927</td>\n",
       "      <td>0.726188</td>\n",
       "      <td>0.544694</td>\n",
       "    </tr>\n",
       "    <tr>\n",
       "      <th>NuSVC</th>\n",
       "      <td>0.759115</td>\n",
       "      <td>0.715532</td>\n",
       "      <td>0.522222</td>\n",
       "    </tr>\n",
       "    <tr>\n",
       "      <th>MLP</th>\n",
       "      <td>0.651042</td>\n",
       "      <td>0.166667</td>\n",
       "      <td>0.003704</td>\n",
       "    </tr>\n",
       "  </tbody>\n",
       "</table>\n",
       "</div>"
      ],
      "text/plain": [
       "                     accuracy  precision    recall\n",
       "Type                                              \n",
       "Baseline All false   0.651042   0.000000  0.000000\n",
       "Baseline All random  0.488281   0.323944  0.429104\n",
       "RandomForest         0.768229   0.719230  0.566916\n",
       "SVC                  0.766927   0.726188  0.544694\n",
       "NuSVC                0.759115   0.715532  0.522222\n",
       "MLP                  0.651042   0.166667  0.003704"
      ]
     },
     "metadata": {},
     "output_type": "display_data"
    },
    {
     "name": "stdout",
     "output_type": "stream",
     "text": [
      "\n"
     ]
    },
    {
     "data": {
      "text/html": [
       "<div>\n",
       "<style scoped>\n",
       "    .dataframe tbody tr th:only-of-type {\n",
       "        vertical-align: middle;\n",
       "    }\n",
       "\n",
       "    .dataframe tbody tr th {\n",
       "        vertical-align: top;\n",
       "    }\n",
       "\n",
       "    .dataframe thead th {\n",
       "        text-align: right;\n",
       "    }\n",
       "</style>\n",
       "<table border=\"1\" class=\"dataframe\">\n",
       "  <thead>\n",
       "    <tr style=\"text-align: right;\">\n",
       "      <th></th>\n",
       "      <th>accuracy</th>\n",
       "      <th>accuracy(Baseline All false)</th>\n",
       "      <th>accuracy(Baseline All random)</th>\n",
       "      <th>accuracy(RandomForest)</th>\n",
       "    </tr>\n",
       "    <tr>\n",
       "      <th>Type</th>\n",
       "      <th></th>\n",
       "      <th></th>\n",
       "      <th></th>\n",
       "      <th></th>\n",
       "    </tr>\n",
       "  </thead>\n",
       "  <tbody>\n",
       "    <tr>\n",
       "      <th>RandomForest</th>\n",
       "      <td>0.768229</td>\n",
       "      <td>0.651042</td>\n",
       "      <td>0.488281</td>\n",
       "      <td>0.768229</td>\n",
       "    </tr>\n",
       "    <tr>\n",
       "      <th>SVC</th>\n",
       "      <td>0.766927</td>\n",
       "      <td>0.651042</td>\n",
       "      <td>0.488281</td>\n",
       "      <td>0.768229</td>\n",
       "    </tr>\n",
       "    <tr>\n",
       "      <th>NuSVC</th>\n",
       "      <td>0.759115</td>\n",
       "      <td>0.651042</td>\n",
       "      <td>0.488281</td>\n",
       "      <td>0.768229</td>\n",
       "    </tr>\n",
       "    <tr>\n",
       "      <th>MLP</th>\n",
       "      <td>0.651042</td>\n",
       "      <td>0.651042</td>\n",
       "      <td>0.488281</td>\n",
       "      <td>0.768229</td>\n",
       "    </tr>\n",
       "  </tbody>\n",
       "</table>\n",
       "</div>"
      ],
      "text/plain": [
       "              accuracy  accuracy(Baseline All false)  \\\n",
       "Type                                                   \n",
       "RandomForest  0.768229                      0.651042   \n",
       "SVC           0.766927                      0.651042   \n",
       "NuSVC         0.759115                      0.651042   \n",
       "MLP           0.651042                      0.651042   \n",
       "\n",
       "              accuracy(Baseline All random)  accuracy(RandomForest)  \n",
       "Type                                                                 \n",
       "RandomForest                       0.488281                0.768229  \n",
       "SVC                                0.488281                0.768229  \n",
       "NuSVC                              0.488281                0.768229  \n",
       "MLP                                0.488281                0.768229  "
      ]
     },
     "metadata": {},
     "output_type": "display_data"
    },
    {
     "data": {
      "text/html": [
       "<div>\n",
       "<style scoped>\n",
       "    .dataframe tbody tr th:only-of-type {\n",
       "        vertical-align: middle;\n",
       "    }\n",
       "\n",
       "    .dataframe tbody tr th {\n",
       "        vertical-align: top;\n",
       "    }\n",
       "\n",
       "    .dataframe thead th {\n",
       "        text-align: right;\n",
       "    }\n",
       "</style>\n",
       "<table border=\"1\" class=\"dataframe\">\n",
       "  <thead>\n",
       "    <tr style=\"text-align: right;\">\n",
       "      <th></th>\n",
       "      <th>precision</th>\n",
       "      <th>precision(Baseline All false)</th>\n",
       "      <th>precision(Baseline All random)</th>\n",
       "      <th>precision(RandomForest)</th>\n",
       "    </tr>\n",
       "    <tr>\n",
       "      <th>Type</th>\n",
       "      <th></th>\n",
       "      <th></th>\n",
       "      <th></th>\n",
       "      <th></th>\n",
       "    </tr>\n",
       "  </thead>\n",
       "  <tbody>\n",
       "    <tr>\n",
       "      <th>RandomForest</th>\n",
       "      <td>0.719230</td>\n",
       "      <td>0.0</td>\n",
       "      <td>0.323944</td>\n",
       "      <td>0.71923</td>\n",
       "    </tr>\n",
       "    <tr>\n",
       "      <th>SVC</th>\n",
       "      <td>0.726188</td>\n",
       "      <td>0.0</td>\n",
       "      <td>0.323944</td>\n",
       "      <td>0.71923</td>\n",
       "    </tr>\n",
       "    <tr>\n",
       "      <th>NuSVC</th>\n",
       "      <td>0.715532</td>\n",
       "      <td>0.0</td>\n",
       "      <td>0.323944</td>\n",
       "      <td>0.71923</td>\n",
       "    </tr>\n",
       "    <tr>\n",
       "      <th>MLP</th>\n",
       "      <td>0.166667</td>\n",
       "      <td>0.0</td>\n",
       "      <td>0.323944</td>\n",
       "      <td>0.71923</td>\n",
       "    </tr>\n",
       "  </tbody>\n",
       "</table>\n",
       "</div>"
      ],
      "text/plain": [
       "              precision  precision(Baseline All false)  \\\n",
       "Type                                                     \n",
       "RandomForest   0.719230                            0.0   \n",
       "SVC            0.726188                            0.0   \n",
       "NuSVC          0.715532                            0.0   \n",
       "MLP            0.166667                            0.0   \n",
       "\n",
       "              precision(Baseline All random)  precision(RandomForest)  \n",
       "Type                                                                   \n",
       "RandomForest                        0.323944                  0.71923  \n",
       "SVC                                 0.323944                  0.71923  \n",
       "NuSVC                               0.323944                  0.71923  \n",
       "MLP                                 0.323944                  0.71923  "
      ]
     },
     "metadata": {},
     "output_type": "display_data"
    },
    {
     "data": {
      "text/html": [
       "<div>\n",
       "<style scoped>\n",
       "    .dataframe tbody tr th:only-of-type {\n",
       "        vertical-align: middle;\n",
       "    }\n",
       "\n",
       "    .dataframe tbody tr th {\n",
       "        vertical-align: top;\n",
       "    }\n",
       "\n",
       "    .dataframe thead th {\n",
       "        text-align: right;\n",
       "    }\n",
       "</style>\n",
       "<table border=\"1\" class=\"dataframe\">\n",
       "  <thead>\n",
       "    <tr style=\"text-align: right;\">\n",
       "      <th></th>\n",
       "      <th>recall</th>\n",
       "      <th>recall(Baseline All false)</th>\n",
       "      <th>recall(Baseline All random)</th>\n",
       "      <th>recall(RandomForest)</th>\n",
       "    </tr>\n",
       "    <tr>\n",
       "      <th>Type</th>\n",
       "      <th></th>\n",
       "      <th></th>\n",
       "      <th></th>\n",
       "      <th></th>\n",
       "    </tr>\n",
       "  </thead>\n",
       "  <tbody>\n",
       "    <tr>\n",
       "      <th>RandomForest</th>\n",
       "      <td>0.566916</td>\n",
       "      <td>0.0</td>\n",
       "      <td>0.429104</td>\n",
       "      <td>0.566916</td>\n",
       "    </tr>\n",
       "    <tr>\n",
       "      <th>SVC</th>\n",
       "      <td>0.544694</td>\n",
       "      <td>0.0</td>\n",
       "      <td>0.429104</td>\n",
       "      <td>0.566916</td>\n",
       "    </tr>\n",
       "    <tr>\n",
       "      <th>NuSVC</th>\n",
       "      <td>0.522222</td>\n",
       "      <td>0.0</td>\n",
       "      <td>0.429104</td>\n",
       "      <td>0.566916</td>\n",
       "    </tr>\n",
       "    <tr>\n",
       "      <th>MLP</th>\n",
       "      <td>0.003704</td>\n",
       "      <td>0.0</td>\n",
       "      <td>0.429104</td>\n",
       "      <td>0.566916</td>\n",
       "    </tr>\n",
       "  </tbody>\n",
       "</table>\n",
       "</div>"
      ],
      "text/plain": [
       "                recall  recall(Baseline All false)  \\\n",
       "Type                                                 \n",
       "RandomForest  0.566916                         0.0   \n",
       "SVC           0.544694                         0.0   \n",
       "NuSVC         0.522222                         0.0   \n",
       "MLP           0.003704                         0.0   \n",
       "\n",
       "              recall(Baseline All random)  recall(RandomForest)  \n",
       "Type                                                             \n",
       "RandomForest                     0.429104              0.566916  \n",
       "SVC                              0.429104              0.566916  \n",
       "NuSVC                            0.429104              0.566916  \n",
       "MLP                              0.429104              0.566916  "
      ]
     },
     "metadata": {},
     "output_type": "display_data"
    }
   ],
   "source": [
    "df_statistical_tests_complete = df_statistical_tests.copy()\n",
    "\n",
    "df_statistical_tests_complete = df_statistical_tests_complete.set_index('Type')\n",
    "display(df_statistical_tests_complete)\n",
    "print()\n",
    "\n",
    "measure = 'accuracy'\n",
    "\n",
    "df_statistical_tests_accuracy =  df_statistical_tests_complete.tail(4).copy()[[measure]]\n",
    "df_statistical_tests_accuracy['%s(Baseline All false)' % measure] = df_statistical_tests_complete.iloc[0][measure]\n",
    "df_statistical_tests_accuracy['%s(Baseline All random)' % measure] = df_statistical_tests_complete.iloc[1][measure]\n",
    "df_statistical_tests_accuracy['%s(RandomForest)' % measure] = df_statistical_tests_complete.iloc[2][measure]\n",
    "\n",
    "display (df_statistical_tests_accuracy)\n",
    "\n",
    "measure = 'precision'\n",
    "\n",
    "df_statistical_tests_precision =  df_statistical_tests_complete.tail(4).copy()[[measure]]\n",
    "df_statistical_tests_precision['%s(Baseline All false)' % measure] = df_statistical_tests_complete.iloc[0][measure]\n",
    "df_statistical_tests_precision['%s(Baseline All random)' % measure] = df_statistical_tests_complete.iloc[1][measure]\n",
    "df_statistical_tests_precision['%s(RandomForest)' % measure] = df_statistical_tests_complete.iloc[2][measure]\n",
    "\n",
    "display (df_statistical_tests_precision)\n",
    "\n",
    "measure = 'recall'\n",
    "\n",
    "df_statistical_tests_recall =  df_statistical_tests_complete.tail(4).copy()[[measure]]\n",
    "df_statistical_tests_recall['%s(Baseline All false)' % measure] = df_statistical_tests_complete.iloc[0][measure]\n",
    "df_statistical_tests_recall['%s(Baseline All random)' % measure] = df_statistical_tests_complete.iloc[1][measure]\n",
    "df_statistical_tests_recall['%s(RandomForest)' % measure] = df_statistical_tests_complete.iloc[2][measure]\n",
    "\n",
    "display (df_statistical_tests_recall)"
   ]
  },
  {
   "cell_type": "code",
   "execution_count": null,
   "metadata": {},
   "outputs": [],
   "source": []
  }
 ],
 "metadata": {
  "kernelspec": {
   "display_name": "Python 3",
   "language": "python",
   "name": "python3"
  },
  "language_info": {
   "codemirror_mode": {
    "name": "ipython",
    "version": 3
   },
   "file_extension": ".py",
   "mimetype": "text/x-python",
   "name": "python",
   "nbconvert_exporter": "python",
   "pygments_lexer": "ipython3",
   "version": "3.7.6"
  }
 },
 "nbformat": 4,
 "nbformat_minor": 4
}
