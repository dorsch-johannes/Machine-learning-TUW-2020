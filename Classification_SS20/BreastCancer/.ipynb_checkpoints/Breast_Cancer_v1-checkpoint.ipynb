{
 "cells": [
  {
   "cell_type": "markdown",
   "metadata": {},
   "source": [
    "# Import Libraries"
   ]
  },
  {
   "cell_type": "code",
   "execution_count": 1,
   "metadata": {},
   "outputs": [],
   "source": [
    "import numpy as np\n",
    "import pandas as pd\n",
    "import sklearn\n",
    "import math\n",
    "import random\n",
    "\n",
    "import matplotlib.pyplot as plt\n",
    "\n",
    "from sklearn.model_selection import cross_validate\n",
    "from sklearn.pipeline import make_pipeline\n",
    "from sklearn.metrics import precision_recall_fscore_support\n",
    "from sklearn.metrics import accuracy_score, precision_score, recall_score\n",
    "from sklearn.model_selection import RandomizedSearchCV, GridSearchCV\n",
    "from sklearn.model_selection import train_test_split\n",
    "\n",
    "# Data preprocessing\n",
    "from sklearn.preprocessing import StandardScaler\n",
    "from sklearn.preprocessing import RobustScaler\n",
    "from sklearn.preprocessing import MinMaxScaler\n",
    "from sklearn.preprocessing import PowerTransformer\n",
    "from sklearn.preprocessing import QuantileTransformer\n",
    "\n",
    "# Feature selection\n",
    "from sklearn.feature_selection import VarianceThreshold\n",
    "from sklearn.feature_selection import RFECV\n",
    "from sklearn.feature_selection import SelectFromModel\n",
    "\n",
    "# ML Models\n",
    "from sklearn.linear_model import LogisticRegression\n",
    "from sklearn.tree import DecisionTreeClassifier\n",
    "from sklearn.svm import SVC\n",
    "from sklearn.svm import NuSVC\n",
    "from sklearn.ensemble import RandomForestClassifier\n",
    "from sklearn.discriminant_analysis import LinearDiscriminantAnalysis, QuadraticDiscriminantAnalysis\n",
    "from sklearn.cluster import KMeans\n",
    "from sklearn.neighbors import KNeighborsClassifier\n",
    "from sklearn.naive_bayes import GaussianNB\n",
    "from sklearn.ensemble import ExtraTreesClassifier\n",
    "from sklearn.svm import LinearSVC\n",
    "from sklearn.ensemble import VotingClassifier\n",
    "from sklearn.neural_network import MLPClassifier"
   ]
  },
  {
   "cell_type": "markdown",
   "metadata": {},
   "source": [
    "# Result storage"
   ]
  },
  {
   "cell_type": "code",
   "execution_count": 42,
   "metadata": {},
   "outputs": [],
   "source": [
    "df_statistical_tests = pd.DataFrame()\n",
    "df_predictions_per_model = pd.DataFrame()"
   ]
  },
  {
   "cell_type": "markdown",
   "metadata": {},
   "source": [
    "# Data Loading"
   ]
  },
  {
   "cell_type": "code",
   "execution_count": 3,
   "metadata": {},
   "outputs": [],
   "source": [
    "df_train = pd.read_csv('./data_breastCancer/breast-cancer-diagnostic.shuf.lrn.csv', low_memory=False, sep=',')\n",
    "df_test = pd.read_csv('./data_breastCancer/breast-cancer-diagnostic.shuf.tes.csv', low_memory=False, sep=',')"
   ]
  },
  {
   "cell_type": "code",
   "execution_count": 4,
   "metadata": {},
   "outputs": [
    {
     "data": {
      "text/html": [
       "<div>\n",
       "<style scoped>\n",
       "    .dataframe tbody tr th:only-of-type {\n",
       "        vertical-align: middle;\n",
       "    }\n",
       "\n",
       "    .dataframe tbody tr th {\n",
       "        vertical-align: top;\n",
       "    }\n",
       "\n",
       "    .dataframe thead th {\n",
       "        text-align: right;\n",
       "    }\n",
       "</style>\n",
       "<table border=\"1\" class=\"dataframe\">\n",
       "  <thead>\n",
       "    <tr style=\"text-align: right;\">\n",
       "      <th></th>\n",
       "      <th>ID</th>\n",
       "      <th>MALIGNANT</th>\n",
       "      <th>radiusMean</th>\n",
       "      <th>textureMean</th>\n",
       "      <th>perimeterMean</th>\n",
       "      <th>areaMean</th>\n",
       "      <th>smoothnessMean</th>\n",
       "      <th>compactnessMean</th>\n",
       "      <th>concavityMean</th>\n",
       "      <th>concavePointsMean</th>\n",
       "      <th>...</th>\n",
       "      <th>radiusWorst</th>\n",
       "      <th>textureWorst</th>\n",
       "      <th>perimeterWorst</th>\n",
       "      <th>areaWorst</th>\n",
       "      <th>smoothnessWorst</th>\n",
       "      <th>compactnessWorst</th>\n",
       "      <th>concavityWorst</th>\n",
       "      <th>concavePointsWorst</th>\n",
       "      <th>symmetryWorst</th>\n",
       "      <th>fractalDimensionWorst</th>\n",
       "    </tr>\n",
       "  </thead>\n",
       "  <tbody>\n",
       "    <tr>\n",
       "      <th>0</th>\n",
       "      <td>868682</td>\n",
       "      <td>False</td>\n",
       "      <td>11.43</td>\n",
       "      <td>15.39</td>\n",
       "      <td>73.06</td>\n",
       "      <td>399.8</td>\n",
       "      <td>0.09639</td>\n",
       "      <td>0.06889</td>\n",
       "      <td>0.03503</td>\n",
       "      <td>0.02875</td>\n",
       "      <td>...</td>\n",
       "      <td>12.32</td>\n",
       "      <td>22.02</td>\n",
       "      <td>79.93</td>\n",
       "      <td>462.0</td>\n",
       "      <td>0.1190</td>\n",
       "      <td>0.1648</td>\n",
       "      <td>0.1399</td>\n",
       "      <td>0.08476</td>\n",
       "      <td>0.2676</td>\n",
       "      <td>0.06765</td>\n",
       "    </tr>\n",
       "    <tr>\n",
       "      <th>1</th>\n",
       "      <td>881972</td>\n",
       "      <td>True</td>\n",
       "      <td>17.05</td>\n",
       "      <td>19.08</td>\n",
       "      <td>113.40</td>\n",
       "      <td>895.0</td>\n",
       "      <td>0.11410</td>\n",
       "      <td>0.15720</td>\n",
       "      <td>0.19100</td>\n",
       "      <td>0.10900</td>\n",
       "      <td>...</td>\n",
       "      <td>19.59</td>\n",
       "      <td>24.89</td>\n",
       "      <td>133.50</td>\n",
       "      <td>1189.0</td>\n",
       "      <td>0.1703</td>\n",
       "      <td>0.3934</td>\n",
       "      <td>0.5018</td>\n",
       "      <td>0.25430</td>\n",
       "      <td>0.3109</td>\n",
       "      <td>0.09061</td>\n",
       "    </tr>\n",
       "    <tr>\n",
       "      <th>2</th>\n",
       "      <td>901315</td>\n",
       "      <td>False</td>\n",
       "      <td>10.57</td>\n",
       "      <td>20.22</td>\n",
       "      <td>70.15</td>\n",
       "      <td>338.3</td>\n",
       "      <td>0.09073</td>\n",
       "      <td>0.16600</td>\n",
       "      <td>0.22800</td>\n",
       "      <td>0.05941</td>\n",
       "      <td>...</td>\n",
       "      <td>10.85</td>\n",
       "      <td>22.82</td>\n",
       "      <td>76.51</td>\n",
       "      <td>351.9</td>\n",
       "      <td>0.1143</td>\n",
       "      <td>0.3619</td>\n",
       "      <td>0.6030</td>\n",
       "      <td>0.14650</td>\n",
       "      <td>0.2597</td>\n",
       "      <td>0.12000</td>\n",
       "    </tr>\n",
       "    <tr>\n",
       "      <th>3</th>\n",
       "      <td>9112367</td>\n",
       "      <td>False</td>\n",
       "      <td>13.21</td>\n",
       "      <td>25.25</td>\n",
       "      <td>84.10</td>\n",
       "      <td>537.9</td>\n",
       "      <td>0.08791</td>\n",
       "      <td>0.05205</td>\n",
       "      <td>0.02772</td>\n",
       "      <td>0.02068</td>\n",
       "      <td>...</td>\n",
       "      <td>14.35</td>\n",
       "      <td>34.23</td>\n",
       "      <td>91.29</td>\n",
       "      <td>632.9</td>\n",
       "      <td>0.1289</td>\n",
       "      <td>0.1063</td>\n",
       "      <td>0.1390</td>\n",
       "      <td>0.06005</td>\n",
       "      <td>0.2444</td>\n",
       "      <td>0.06788</td>\n",
       "    </tr>\n",
       "    <tr>\n",
       "      <th>4</th>\n",
       "      <td>8711202</td>\n",
       "      <td>True</td>\n",
       "      <td>17.68</td>\n",
       "      <td>20.74</td>\n",
       "      <td>117.40</td>\n",
       "      <td>963.7</td>\n",
       "      <td>0.11150</td>\n",
       "      <td>0.16650</td>\n",
       "      <td>0.18550</td>\n",
       "      <td>0.10540</td>\n",
       "      <td>...</td>\n",
       "      <td>20.47</td>\n",
       "      <td>25.11</td>\n",
       "      <td>132.90</td>\n",
       "      <td>1302.0</td>\n",
       "      <td>0.1418</td>\n",
       "      <td>0.3498</td>\n",
       "      <td>0.3583</td>\n",
       "      <td>0.15150</td>\n",
       "      <td>0.2463</td>\n",
       "      <td>0.07738</td>\n",
       "    </tr>\n",
       "  </tbody>\n",
       "</table>\n",
       "<p>5 rows × 32 columns</p>\n",
       "</div>"
      ],
      "text/plain": [
       "        ID  MALIGNANT  radiusMean   textureMean   perimeterMean   areaMean  \\\n",
       "0   868682      False       11.43         15.39           73.06      399.8   \n",
       "1   881972       True       17.05         19.08          113.40      895.0   \n",
       "2   901315      False       10.57         20.22           70.15      338.3   \n",
       "3  9112367      False       13.21         25.25           84.10      537.9   \n",
       "4  8711202       True       17.68         20.74          117.40      963.7   \n",
       "\n",
       "    smoothnessMean   compactnessMean   concavityMean   concavePointsMean  ...  \\\n",
       "0          0.09639           0.06889         0.03503             0.02875  ...   \n",
       "1          0.11410           0.15720         0.19100             0.10900  ...   \n",
       "2          0.09073           0.16600         0.22800             0.05941  ...   \n",
       "3          0.08791           0.05205         0.02772             0.02068  ...   \n",
       "4          0.11150           0.16650         0.18550             0.10540  ...   \n",
       "\n",
       "    radiusWorst   textureWorst   perimeterWorst   areaWorst   smoothnessWorst  \\\n",
       "0         12.32          22.02            79.93       462.0            0.1190   \n",
       "1         19.59          24.89           133.50      1189.0            0.1703   \n",
       "2         10.85          22.82            76.51       351.9            0.1143   \n",
       "3         14.35          34.23            91.29       632.9            0.1289   \n",
       "4         20.47          25.11           132.90      1302.0            0.1418   \n",
       "\n",
       "    compactnessWorst   concavityWorst   concavePointsWorst   symmetryWorst  \\\n",
       "0             0.1648           0.1399              0.08476          0.2676   \n",
       "1             0.3934           0.5018              0.25430          0.3109   \n",
       "2             0.3619           0.6030              0.14650          0.2597   \n",
       "3             0.1063           0.1390              0.06005          0.2444   \n",
       "4             0.3498           0.3583              0.15150          0.2463   \n",
       "\n",
       "    fractalDimensionWorst  \n",
       "0                 0.06765  \n",
       "1                 0.09061  \n",
       "2                 0.12000  \n",
       "3                 0.06788  \n",
       "4                 0.07738  \n",
       "\n",
       "[5 rows x 32 columns]"
      ]
     },
     "execution_count": 4,
     "metadata": {},
     "output_type": "execute_result"
    }
   ],
   "source": [
    "df_train.head()"
   ]
  },
  {
   "cell_type": "markdown",
   "metadata": {},
   "source": [
    "# Target and Feature distribution"
   ]
  },
  {
   "cell_type": "code",
   "execution_count": 5,
   "metadata": {},
   "outputs": [
    {
     "data": {
      "text/plain": [
       "False    189\n",
       "True      96\n",
       "Name: MALIGNANT, dtype: int64"
      ]
     },
     "metadata": {},
     "output_type": "display_data"
    },
    {
     "data": {
      "image/png": "[encoded data removed]",
      "text/plain": [
       "<Figure size 432x288 with 1 Axes>"
      ]
     },
     "metadata": {},
     "output_type": "display_data"
    }
   ],
   "source": [
    "display(df_train['MALIGNANT'].value_counts())\n",
    "\n",
    "plt.pie( df_train['MALIGNANT'].value_counts() , labels=['false','true'], \n",
    "        autopct='%1.1f%%', shadow=True)\n",
    "plt.axis('equal')\n",
    "plt.show()"
   ]
  },
  {
   "cell_type": "code",
   "execution_count": 6,
   "metadata": {},
   "outputs": [
    {
     "data": {
      "text/plain": [
       "ID                         0\n",
       "MALIGNANT                  0\n",
       "radiusMean                 0\n",
       " textureMean               0\n",
       " perimeterMean             0\n",
       " areaMean                  0\n",
       " smoothnessMean            0\n",
       " compactnessMean           0\n",
       " concavityMean             0\n",
       " concavePointsMean         0\n",
       " symmetryMean              0\n",
       " fractalDimensionMean      0\n",
       " radiusStdErr              0\n",
       " textureStdErr             0\n",
       " perimeterStdErr           0\n",
       " areaStdErr                0\n",
       " smoothnessStdErr          0\n",
       " compactnessStdErr         0\n",
       " concavityStdErr           0\n",
       " concavePointsStdErr       0\n",
       " symmetryStdErr            0\n",
       " fractalDimensionStdErr    0\n",
       " radiusWorst               0\n",
       " textureWorst              0\n",
       " perimeterWorst            0\n",
       " areaWorst                 0\n",
       " smoothnessWorst           0\n",
       " compactnessWorst          0\n",
       " concavityWorst            0\n",
       " concavePointsWorst        0\n",
       " symmetryWorst             0\n",
       " fractalDimensionWorst     0\n",
       "dtype: int64"
      ]
     },
     "execution_count": 6,
     "metadata": {},
     "output_type": "execute_result"
    }
   ],
   "source": [
    "df_train.isnull().sum()"
   ]
  },
  {
   "cell_type": "markdown",
   "metadata": {},
   "source": [
    "# Data Preprocessing"
   ]
  },
  {
   "cell_type": "code",
   "execution_count": 7,
   "metadata": {},
   "outputs": [],
   "source": [
    "#Create target column\n",
    "Y = df_train['MALIGNANT']\n",
    "#Create feature dataframe\n",
    "X = df_train.drop(['ID','MALIGNANT'],axis=1)\n",
    "#Create test dataframe\n",
    "X_test = df_test.drop(['ID'],axis=1)"
   ]
  },
  {
   "cell_type": "markdown",
   "metadata": {},
   "source": [
    "# Baseline"
   ]
  },
  {
   "cell_type": "code",
   "execution_count": 43,
   "metadata": {},
   "outputs": [
    {
     "name": "stderr",
     "output_type": "stream",
     "text": [
      "C:\\anaconda3\\lib\\site-packages\\sklearn\\metrics\\_classification.py:1272: UndefinedMetricWarning: Precision is ill-defined and being set to 0.0 due to no predicted samples. Use `zero_division` parameter to control this behavior.\n",
      "  _warn_prf(average, modifier, msg_start, len(result))\n"
     ]
    },
    {
     "data": {
      "text/html": [
       "<div>\n",
       "<style scoped>\n",
       "    .dataframe tbody tr th:only-of-type {\n",
       "        vertical-align: middle;\n",
       "    }\n",
       "\n",
       "    .dataframe tbody tr th {\n",
       "        vertical-align: top;\n",
       "    }\n",
       "\n",
       "    .dataframe thead th {\n",
       "        text-align: right;\n",
       "    }\n",
       "</style>\n",
       "<table border=\"1\" class=\"dataframe\">\n",
       "  <thead>\n",
       "    <tr style=\"text-align: right;\">\n",
       "      <th></th>\n",
       "      <th>Type</th>\n",
       "      <th>accuracy</th>\n",
       "      <th>precision</th>\n",
       "      <th>recall</th>\n",
       "    </tr>\n",
       "  </thead>\n",
       "  <tbody>\n",
       "    <tr>\n",
       "      <th>0</th>\n",
       "      <td>Baseline All false</td>\n",
       "      <td>0.663158</td>\n",
       "      <td>0.000000</td>\n",
       "      <td>0.000000</td>\n",
       "    </tr>\n",
       "    <tr>\n",
       "      <th>1</th>\n",
       "      <td>Baseline All random</td>\n",
       "      <td>0.578947</td>\n",
       "      <td>0.403226</td>\n",
       "      <td>0.520833</td>\n",
       "    </tr>\n",
       "  </tbody>\n",
       "</table>\n",
       "</div>"
      ],
      "text/plain": [
       "                  Type  accuracy  precision    recall\n",
       "0   Baseline All false  0.663158   0.000000  0.000000\n",
       "1  Baseline All random  0.578947   0.403226  0.520833"
      ]
     },
     "metadata": {},
     "output_type": "display_data"
    },
    {
     "data": {
      "text/html": [
       "<div>\n",
       "<style scoped>\n",
       "    .dataframe tbody tr th:only-of-type {\n",
       "        vertical-align: middle;\n",
       "    }\n",
       "\n",
       "    .dataframe tbody tr th {\n",
       "        vertical-align: top;\n",
       "    }\n",
       "\n",
       "    .dataframe thead th {\n",
       "        text-align: right;\n",
       "    }\n",
       "</style>\n",
       "<table border=\"1\" class=\"dataframe\">\n",
       "  <thead>\n",
       "    <tr style=\"text-align: right;\">\n",
       "      <th></th>\n",
       "      <th>Type</th>\n",
       "      <th>false</th>\n",
       "      <th>false %</th>\n",
       "      <th>true</th>\n",
       "      <th>true %</th>\n",
       "    </tr>\n",
       "  </thead>\n",
       "  <tbody>\n",
       "    <tr>\n",
       "      <th>0</th>\n",
       "      <td>Baseline All false</td>\n",
       "      <td>285.0</td>\n",
       "      <td>100.000000</td>\n",
       "      <td>0.0</td>\n",
       "      <td>0.000000</td>\n",
       "    </tr>\n",
       "    <tr>\n",
       "      <th>1</th>\n",
       "      <td>Baseline All random</td>\n",
       "      <td>161.0</td>\n",
       "      <td>0.564912</td>\n",
       "      <td>124.0</td>\n",
       "      <td>0.435088</td>\n",
       "    </tr>\n",
       "  </tbody>\n",
       "</table>\n",
       "</div>"
      ],
      "text/plain": [
       "                  Type  false     false %   true    true %\n",
       "0   Baseline All false  285.0  100.000000    0.0  0.000000\n",
       "1  Baseline All random  161.0    0.564912  124.0  0.435088"
      ]
     },
     "metadata": {},
     "output_type": "display_data"
    }
   ],
   "source": [
    "# Prediction = false \n",
    "Y_all_false = [0 for i in range(0, len(Y))]\n",
    "df_statistical_tests = df_statistical_tests.append({\n",
    "    'Type': 'Baseline All false',\n",
    "    'accuracy': accuracy_score(Y, Y_all_false),\n",
    "    'precision': precision_score(Y, Y_all_false), \n",
    "    'recall': recall_score(Y, Y_all_false)\n",
    "}, ignore_index=True)\n",
    "\n",
    "\n",
    "df_predictions_per_model = df_predictions_per_model.append({\n",
    "    'Type': 'Baseline All false',\n",
    "    'false': np.size(Y_all_false),\n",
    "    'false %': 100,\n",
    "    'true': 0,\n",
    "    'true %': 0,\n",
    "}, ignore_index=True)\n",
    "\n",
    "\n",
    "# Prediction = random\n",
    "Y_random = [random.choice([0, 1]) for i in range(0, len(Y))]\n",
    "df_statistical_tests = df_statistical_tests.append({\n",
    "    'Type': 'Baseline All random',\n",
    "    'accuracy': accuracy_score(Y, Y_random),\n",
    "    'precision': precision_score(Y, Y_random), \n",
    "    'recall': recall_score(Y, Y_random)\n",
    "}, ignore_index=True)\n",
    "\n",
    "\n",
    "df_predictions_per_model = df_predictions_per_model.append({\n",
    "    'Type': 'Baseline All random',\n",
    "    'false': np.size(Y_random)-np.sum(Y_random),\n",
    "    'false %': (np.size(Y_random)-np.sum(Y_random))/np.size(Y_random),\n",
    "    'true':np.sum(Y_random),\n",
    "    'true %': (np.sum(Y_random))/np.size(Y_random),\n",
    "}, ignore_index=True)\n",
    "\n",
    "display(df_statistical_tests)\n",
    "display(df_predictions_per_model)"
   ]
  },
  {
   "cell_type": "markdown",
   "metadata": {},
   "source": [
    "# Random Forrest: Different Parameters"
   ]
  },
  {
   "cell_type": "code",
   "execution_count": 30,
   "metadata": {},
   "outputs": [
    {
     "name": "stdout",
     "output_type": "stream",
     "text": [
      "Fitting 3 folds for each of 32 candidates, totalling 96 fits\n"
     ]
    },
    {
     "name": "stderr",
     "output_type": "stream",
     "text": [
      "[Parallel(n_jobs=-1)]: Using backend LokyBackend with 4 concurrent workers.\n",
      "[Parallel(n_jobs=-1)]: Batch computation too fast (0.0378s.) Setting batch_size=2.\n",
      "[Parallel(n_jobs=-1)]: Done   5 tasks      | elapsed:    0.1s\n",
      "[Parallel(n_jobs=-1)]: Done  12 tasks      | elapsed:    0.5s\n",
      "[Parallel(n_jobs=-1)]: Done  26 tasks      | elapsed:    1.3s\n",
      "[Parallel(n_jobs=-1)]: Done  40 tasks      | elapsed:    2.0s\n",
      "[Parallel(n_jobs=-1)]: Done  58 tasks      | elapsed:    3.1s\n",
      "[Parallel(n_jobs=-1)]: Done  76 tasks      | elapsed:    5.0s\n"
     ]
    },
    {
     "name": "stdout",
     "output_type": "stream",
     "text": [
      "{'criterion': 'gini', 'max_depth': None, 'n_estimators': 50}\n"
     ]
    },
    {
     "name": "stderr",
     "output_type": "stream",
     "text": [
      "[Parallel(n_jobs=-1)]: Done  96 out of  96 | elapsed:   10.2s finished\n"
     ]
    }
   ],
   "source": [
    "clf = RandomForestClassifier()\n",
    "\n",
    "parameter_grid = {\n",
    "    'n_estimators': [10, 50, 100, 200],\n",
    "    'criterion': ['gini', 'entropy'],\n",
    "    'max_depth': [None, 20, 30, 50]\n",
    "}\n",
    "cv_grid = GridSearchCV(clf, parameter_grid, cv=3, verbose=10, n_jobs=-1, scoring=['accuracy', 'precision', 'recall'], refit='accuracy')\n",
    "cv_grid.fit(X, Y)\n",
    "\n",
    "print(cv_grid.best_params_)"
   ]
  },
  {
   "cell_type": "markdown",
   "metadata": {},
   "source": [
    "# Random Forrest: Prediction"
   ]
  },
  {
   "cell_type": "code",
   "execution_count": 44,
   "metadata": {},
   "outputs": [
    {
     "data": {
      "text/html": [
       "<div>\n",
       "<style scoped>\n",
       "    .dataframe tbody tr th:only-of-type {\n",
       "        vertical-align: middle;\n",
       "    }\n",
       "\n",
       "    .dataframe tbody tr th {\n",
       "        vertical-align: top;\n",
       "    }\n",
       "\n",
       "    .dataframe thead th {\n",
       "        text-align: right;\n",
       "    }\n",
       "</style>\n",
       "<table border=\"1\" class=\"dataframe\">\n",
       "  <thead>\n",
       "    <tr style=\"text-align: right;\">\n",
       "      <th></th>\n",
       "      <th>Type</th>\n",
       "      <th>accuracy</th>\n",
       "      <th>precision</th>\n",
       "      <th>recall</th>\n",
       "    </tr>\n",
       "  </thead>\n",
       "  <tbody>\n",
       "    <tr>\n",
       "      <th>0</th>\n",
       "      <td>Baseline All false</td>\n",
       "      <td>0.663158</td>\n",
       "      <td>0.000000</td>\n",
       "      <td>0.000000</td>\n",
       "    </tr>\n",
       "    <tr>\n",
       "      <th>1</th>\n",
       "      <td>Baseline All random</td>\n",
       "      <td>0.578947</td>\n",
       "      <td>0.403226</td>\n",
       "      <td>0.520833</td>\n",
       "    </tr>\n",
       "    <tr>\n",
       "      <th>2</th>\n",
       "      <td>RandomForest</td>\n",
       "      <td>0.954386</td>\n",
       "      <td>0.948440</td>\n",
       "      <td>0.916667</td>\n",
       "    </tr>\n",
       "  </tbody>\n",
       "</table>\n",
       "</div>"
      ],
      "text/plain": [
       "                  Type  accuracy  precision    recall\n",
       "0   Baseline All false  0.663158   0.000000  0.000000\n",
       "1  Baseline All random  0.578947   0.403226  0.520833\n",
       "2         RandomForest  0.954386   0.948440  0.916667"
      ]
     },
     "metadata": {},
     "output_type": "display_data"
    },
    {
     "data": {
      "text/html": [
       "<div>\n",
       "<style scoped>\n",
       "    .dataframe tbody tr th:only-of-type {\n",
       "        vertical-align: middle;\n",
       "    }\n",
       "\n",
       "    .dataframe tbody tr th {\n",
       "        vertical-align: top;\n",
       "    }\n",
       "\n",
       "    .dataframe thead th {\n",
       "        text-align: right;\n",
       "    }\n",
       "</style>\n",
       "<table border=\"1\" class=\"dataframe\">\n",
       "  <thead>\n",
       "    <tr style=\"text-align: right;\">\n",
       "      <th></th>\n",
       "      <th>Type</th>\n",
       "      <th>false</th>\n",
       "      <th>false %</th>\n",
       "      <th>true</th>\n",
       "      <th>true %</th>\n",
       "    </tr>\n",
       "  </thead>\n",
       "  <tbody>\n",
       "    <tr>\n",
       "      <th>0</th>\n",
       "      <td>Baseline All false</td>\n",
       "      <td>285.0</td>\n",
       "      <td>100.000000</td>\n",
       "      <td>0.0</td>\n",
       "      <td>0.000000</td>\n",
       "    </tr>\n",
       "    <tr>\n",
       "      <th>1</th>\n",
       "      <td>Baseline All random</td>\n",
       "      <td>161.0</td>\n",
       "      <td>0.564912</td>\n",
       "      <td>124.0</td>\n",
       "      <td>0.435088</td>\n",
       "    </tr>\n",
       "    <tr>\n",
       "      <th>2</th>\n",
       "      <td>RandomForest</td>\n",
       "      <td>173.0</td>\n",
       "      <td>61.000000</td>\n",
       "      <td>111.0</td>\n",
       "      <td>39.000000</td>\n",
       "    </tr>\n",
       "  </tbody>\n",
       "</table>\n",
       "</div>"
      ],
      "text/plain": [
       "                  Type  false     false %   true     true %\n",
       "0   Baseline All false  285.0  100.000000    0.0   0.000000\n",
       "1  Baseline All random  161.0    0.564912  124.0   0.435088\n",
       "2         RandomForest  173.0   61.000000  111.0  39.000000"
      ]
     },
     "execution_count": 44,
     "metadata": {},
     "output_type": "execute_result"
    }
   ],
   "source": [
    "clf = make_pipeline( RandomForestClassifier(criterion='gini', max_depth=None, n_estimators=50))\n",
    "clf.fit(X, Y)\n",
    "\n",
    "# CV\n",
    "cv_result = cross_validate(clf, X, Y, cv=3, scoring = ['accuracy', 'precision', 'recall'], n_jobs=-1)\n",
    "df_statistical_tests = df_statistical_tests.append({\n",
    "    'Type': 'RandomForest',\n",
    "    'accuracy': cv_result['test_accuracy'].mean(),\n",
    "    'precision': cv_result['test_precision'].mean(),\n",
    "    'recall': cv_result['test_recall'].mean()\n",
    "}, ignore_index=True)\n",
    "\n",
    "display(df_statistical_tests)\n",
    "\n",
    "# Predict\n",
    "y_prediction = clf.predict(X_test)\n",
    "\n",
    "unique_elements, counts_elements = np.unique(y_prediction, return_counts=True)\n",
    "\n",
    "df_predictions_per_model = df_predictions_per_model.append({\n",
    "    'Type': 'RandomForest',\n",
    "    'false': counts_elements[0],\n",
    "    'false %': int(round(counts_elements[0]/(counts_elements[0]+counts_elements[1])*100.0)),\n",
    "    'true': counts_elements[1],\n",
    "    'true %': int(round(counts_elements[1]/(counts_elements[0]+counts_elements[1])*100.0)),\n",
    "}, ignore_index=True)\n",
    "\n",
    "df_predictions_per_model"
   ]
  },
  {
   "cell_type": "markdown",
   "metadata": {},
   "source": [
    "# SVM: Different Parameters"
   ]
  },
  {
   "cell_type": "code",
   "execution_count": 11,
   "metadata": {},
   "outputs": [
    {
     "name": "stdout",
     "output_type": "stream",
     "text": [
      "Fitting 3 folds for each of 200 candidates, totalling 600 fits\n"
     ]
    },
    {
     "name": "stderr",
     "output_type": "stream",
     "text": [
      "[Parallel(n_jobs=-1)]: Using backend LokyBackend with 4 concurrent workers.\n",
      "[Parallel(n_jobs=-1)]: Batch computation too fast (0.0690s.) Setting batch_size=2.\n",
      "[Parallel(n_jobs=-1)]: Done   5 tasks      | elapsed:    0.0s\n",
      "[Parallel(n_jobs=-1)]: Batch computation too fast (0.0867s.) Setting batch_size=4.\n",
      "[Parallel(n_jobs=-1)]: Done  15 tasks      | elapsed:    0.3s\n",
      "[Parallel(n_jobs=-1)]: Batch computation too slow (2.5490s.) Setting batch_size=1.\n",
      "[Parallel(n_jobs=-1)]: Done  34 tasks      | elapsed:    3.3s\n",
      "[Parallel(n_jobs=-1)]: Done  50 tasks      | elapsed:   13.1s\n",
      "[Parallel(n_jobs=-1)]: Done  59 tasks      | elapsed:   21.9s\n",
      "[Parallel(n_jobs=-1)]: Done  68 tasks      | elapsed:   38.2s\n",
      "[Parallel(n_jobs=-1)]: Done  79 tasks      | elapsed:   47.0s\n",
      "[Parallel(n_jobs=-1)]: Done  90 tasks      | elapsed:   47.9s\n",
      "[Parallel(n_jobs=-1)]: Done 106 tasks      | elapsed:   52.7s\n",
      "[Parallel(n_jobs=-1)]: Done 122 tasks      | elapsed:   56.1s\n",
      "[Parallel(n_jobs=-1)]: Done 137 tasks      | elapsed:   58.6s\n",
      "[Parallel(n_jobs=-1)]: Done 152 tasks      | elapsed:  1.1min\n",
      "[Parallel(n_jobs=-1)]: Done 169 tasks      | elapsed:  1.1min\n",
      "[Parallel(n_jobs=-1)]: Done 186 tasks      | elapsed:  1.2min\n",
      "[Parallel(n_jobs=-1)]: Done 205 tasks      | elapsed:  1.3min\n",
      "[Parallel(n_jobs=-1)]: Done 224 tasks      | elapsed:  1.4min\n",
      "[Parallel(n_jobs=-1)]: Done 245 tasks      | elapsed:  1.5min\n",
      "[Parallel(n_jobs=-1)]: Done 266 tasks      | elapsed:  1.6min\n",
      "[Parallel(n_jobs=-1)]: Done 289 tasks      | elapsed:  1.7min\n",
      "[Parallel(n_jobs=-1)]: Done 312 tasks      | elapsed:  1.9min\n",
      "[Parallel(n_jobs=-1)]: Done 337 tasks      | elapsed:  2.0min\n",
      "[Parallel(n_jobs=-1)]: Done 362 tasks      | elapsed:  2.1min\n",
      "[Parallel(n_jobs=-1)]: Done 389 tasks      | elapsed:  2.3min\n",
      "[Parallel(n_jobs=-1)]: Done 416 tasks      | elapsed:  2.4min\n",
      "[Parallel(n_jobs=-1)]: Done 445 tasks      | elapsed:  2.6min\n",
      "[Parallel(n_jobs=-1)]: Done 474 tasks      | elapsed:  2.7min\n",
      "[Parallel(n_jobs=-1)]: Done 505 tasks      | elapsed:  2.9min\n",
      "[Parallel(n_jobs=-1)]: Done 536 tasks      | elapsed:  3.1min\n",
      "[Parallel(n_jobs=-1)]: Done 569 tasks      | elapsed:  3.3min\n",
      "[Parallel(n_jobs=-1)]: Done 600 out of 600 | elapsed:  3.5min finished\n"
     ]
    },
    {
     "name": "stdout",
     "output_type": "stream",
     "text": [
      "{'C': 0.1, 'gamma': 'auto', 'kernel': 'poly'}\n"
     ]
    }
   ],
   "source": [
    "clf = SVC()\n",
    "\n",
    "parameter_grid= {\n",
    "    'C': [x for x in np.linspace(start = 0.1, stop = 1.0, num = 25)],\n",
    "    'gamma': ['auto','scale'],\n",
    "    'kernel' : ['linear','poly','sgmoid','rbf']\n",
    "    \n",
    "}\n",
    "                     \n",
    "cv_grid = GridSearchCV(clf, parameter_grid, cv=3, verbose=10, n_jobs=-1, scoring=['accuracy', 'precision', 'recall'], refit='accuracy')\n",
    "cv_grid.fit(X, Y)\n",
    "\n",
    "print(cv_grid.best_params_)"
   ]
  },
  {
   "cell_type": "code",
   "execution_count": 12,
   "metadata": {},
   "outputs": [
    {
     "name": "stdout",
     "output_type": "stream",
     "text": [
      "Fitting 3 folds for each of 10 candidates, totalling 30 fits\n"
     ]
    },
    {
     "name": "stderr",
     "output_type": "stream",
     "text": [
      "[Parallel(n_jobs=-1)]: Using backend LokyBackend with 4 concurrent workers.\n",
      "[Parallel(n_jobs=-1)]: Done   5 tasks      | elapsed:    8.4s\n",
      "[Parallel(n_jobs=-1)]: Done  10 tasks      | elapsed:   20.9s\n",
      "[Parallel(n_jobs=-1)]: Done  17 tasks      | elapsed:   35.3s\n",
      "[Parallel(n_jobs=-1)]: Done  27 out of  30 | elapsed:   56.2s remaining:    6.2s\n",
      "[Parallel(n_jobs=-1)]: Done  30 out of  30 | elapsed:  1.1min finished\n"
     ]
    },
    {
     "name": "stdout",
     "output_type": "stream",
     "text": [
      "{'C': 0.1, 'gamma': 'auto', 'kernel': 'poly'}\n"
     ]
    }
   ],
   "source": [
    "clf = SVC()\n",
    "\n",
    "parameter_grid= {\n",
    "    'C': [x for x in np.linspace(start = 0.1, stop = 1.0, num = 10)],\n",
    "    'gamma': ['auto'],\n",
    "    'kernel' : ['poly']\n",
    "    \n",
    "}\n",
    "cv_grid = GridSearchCV(clf, parameter_grid, cv=3, verbose=10, n_jobs=-1, scoring=['accuracy', 'precision', 'recall'], refit='accuracy')\n",
    "cv_grid.fit(X, Y)\n",
    "\n",
    "print(cv_grid.best_params_)"
   ]
  },
  {
   "cell_type": "code",
   "execution_count": 13,
   "metadata": {},
   "outputs": [
    {
     "name": "stdout",
     "output_type": "stream",
     "text": [
      "Fitting 3 folds for each of 10 candidates, totalling 30 fits\n"
     ]
    },
    {
     "name": "stderr",
     "output_type": "stream",
     "text": [
      "[Parallel(n_jobs=-1)]: Using backend LokyBackend with 4 concurrent workers.\n",
      "[Parallel(n_jobs=-1)]: Done   5 tasks      | elapsed:    9.4s\n",
      "[Parallel(n_jobs=-1)]: Done  10 tasks      | elapsed:   22.6s\n",
      "[Parallel(n_jobs=-1)]: Done  17 tasks      | elapsed:   37.4s\n",
      "[Parallel(n_jobs=-1)]: Done  27 out of  30 | elapsed:   57.8s remaining:    6.3s\n",
      "[Parallel(n_jobs=-1)]: Done  30 out of  30 | elapsed:  1.1min finished\n"
     ]
    },
    {
     "name": "stdout",
     "output_type": "stream",
     "text": [
      "{'C': 0.01, 'gamma': 'auto', 'kernel': 'poly'}\n"
     ]
    }
   ],
   "source": [
    "clf = SVC()\n",
    "\n",
    "parameter_grid= {\n",
    "    'C': [x for x in np.linspace(start = 0.01, stop = 0.11, num = 10)],\n",
    "    'gamma': ['auto'],\n",
    "    'kernel' : ['poly']\n",
    "    \n",
    "}\n",
    "cv_grid = GridSearchCV(clf, parameter_grid, cv=3, verbose=10, n_jobs=-1, scoring=['accuracy', 'precision', 'recall'], refit='accuracy')\n",
    "cv_grid.fit(X, Y)\n",
    "\n",
    "print(cv_grid.best_params_)   "
   ]
  },
  {
   "cell_type": "code",
   "execution_count": 14,
   "metadata": {},
   "outputs": [
    {
     "name": "stdout",
     "output_type": "stream",
     "text": [
      "Fitting 3 folds for each of 100 candidates, totalling 300 fits\n"
     ]
    },
    {
     "name": "stderr",
     "output_type": "stream",
     "text": [
      "[Parallel(n_jobs=-1)]: Using backend LokyBackend with 4 concurrent workers.\n",
      "[Parallel(n_jobs=-1)]: Batch computation too fast (0.0156s.) Setting batch_size=2.\n",
      "[Parallel(n_jobs=-1)]: Done   5 tasks      | elapsed:    0.0s\n",
      "[Parallel(n_jobs=-1)]: Batch computation too fast (0.0156s.) Setting batch_size=4.\n",
      "[Parallel(n_jobs=-1)]: Done  12 tasks      | elapsed:    0.0s\n",
      "[Parallel(n_jobs=-1)]: Done  28 tasks      | elapsed:    0.0s\n",
      "[Parallel(n_jobs=-1)]: Batch computation too fast (0.0690s.) Setting batch_size=8.\n",
      "[Parallel(n_jobs=-1)]: Done  56 tasks      | elapsed:    0.1s\n",
      "[Parallel(n_jobs=-1)]: Batch computation too fast (0.1139s.) Setting batch_size=16.\n",
      "[Parallel(n_jobs=-1)]: Done 136 tasks      | elapsed:    0.4s\n",
      "[Parallel(n_jobs=-1)]: Done 220 tasks      | elapsed:    0.6s\n",
      "[Parallel(n_jobs=-1)]: Done 261 tasks      | elapsed:    0.6s\n"
     ]
    },
    {
     "name": "stdout",
     "output_type": "stream",
     "text": [
      "{'C': 0.6732323232323232}\n"
     ]
    },
    {
     "name": "stderr",
     "output_type": "stream",
     "text": [
      "[Parallel(n_jobs=-1)]: Done 272 tasks      | elapsed:    0.7s\n",
      "[Parallel(n_jobs=-1)]: Done 285 tasks      | elapsed:    0.7s\n",
      "[Parallel(n_jobs=-1)]: Done 300 out of 300 | elapsed:    0.7s finished\n"
     ]
    }
   ],
   "source": [
    "clf = SVC()\n",
    "\n",
    "parameter_grid= {\n",
    "    'C': [x for x in np.linspace(start = 0.01, stop = 0.99, num = 100)]    \n",
    "}\n",
    "\n",
    "cv_grid = GridSearchCV(clf, parameter_grid, cv=3, verbose=10, n_jobs=-1, scoring=['accuracy', 'precision', 'recall'], refit='accuracy')\n",
    "cv_grid.fit(X, Y)\n",
    "\n",
    "print(cv_grid.best_params_)            "
   ]
  },
  {
   "cell_type": "markdown",
   "metadata": {},
   "source": [
    "# SVM: Different Scaling"
   ]
  },
  {
   "cell_type": "code",
   "execution_count": 15,
   "metadata": {},
   "outputs": [
    {
     "name": "stdout",
     "output_type": "stream",
     "text": [
      "[0.97894737 0.94736842 0.95789474]\n",
      "0.9614035087719298\n"
     ]
    }
   ],
   "source": [
    "clf = make_pipeline(SVC(C = 0.01,gamma='auto',kernel='poly'))\n",
    "clf.fit(X, Y)\n",
    "\n",
    "scores= cross_validate(clf, X, Y, cv=3, scoring=['accuracy', 'precision', 'recall'], n_jobs=-1)\n",
    "\n",
    "print(scores[\"test_accuracy\"])\n",
    "print(np.mean(scores[\"test_accuracy\"]))"
   ]
  },
  {
   "cell_type": "code",
   "execution_count": 16,
   "metadata": {},
   "outputs": [
    {
     "name": "stdout",
     "output_type": "stream",
     "text": [
      "[0.73684211 0.76842105 0.67368421]\n",
      "0.7263157894736841\n"
     ]
    }
   ],
   "source": [
    "clf = make_pipeline(StandardScaler(),SVC(C = 0.01,gamma='auto',kernel='poly'))\n",
    "clf.fit(X, Y)\n",
    "\n",
    "scores= cross_validate(clf, X, Y, cv=3, scoring=['accuracy', 'precision', 'recall'], n_jobs=-1)\n",
    "print(scores[\"test_accuracy\"])\n",
    "print(np.mean(scores[\"test_accuracy\"]))"
   ]
  },
  {
   "cell_type": "code",
   "execution_count": 17,
   "metadata": {},
   "outputs": [
    {
     "name": "stdout",
     "output_type": "stream",
     "text": [
      "[0.72631579 0.76842105 0.66315789]\n",
      "0.7192982456140351\n"
     ]
    }
   ],
   "source": [
    "clf = make_pipeline(RobustScaler(),SVC(C = 0.01,gamma='auto',kernel='poly'))\n",
    "clf.fit(X, Y)\n",
    "\n",
    "scores= cross_validate(clf, X, Y, cv=3, scoring=['accuracy', 'precision', 'recall'], n_jobs=-1)\n",
    "print(scores[\"test_accuracy\"])\n",
    "print(np.mean(scores[\"test_accuracy\"]))"
   ]
  },
  {
   "cell_type": "markdown",
   "metadata": {},
   "source": [
    "# SVM: Prediction"
   ]
  },
  {
   "cell_type": "code",
   "execution_count": 45,
   "metadata": {},
   "outputs": [
    {
     "data": {
      "text/html": [
       "<div>\n",
       "<style scoped>\n",
       "    .dataframe tbody tr th:only-of-type {\n",
       "        vertical-align: middle;\n",
       "    }\n",
       "\n",
       "    .dataframe tbody tr th {\n",
       "        vertical-align: top;\n",
       "    }\n",
       "\n",
       "    .dataframe thead th {\n",
       "        text-align: right;\n",
       "    }\n",
       "</style>\n",
       "<table border=\"1\" class=\"dataframe\">\n",
       "  <thead>\n",
       "    <tr style=\"text-align: right;\">\n",
       "      <th></th>\n",
       "      <th>Type</th>\n",
       "      <th>accuracy</th>\n",
       "      <th>precision</th>\n",
       "      <th>recall</th>\n",
       "    </tr>\n",
       "  </thead>\n",
       "  <tbody>\n",
       "    <tr>\n",
       "      <th>0</th>\n",
       "      <td>Baseline All false</td>\n",
       "      <td>0.663158</td>\n",
       "      <td>0.000000</td>\n",
       "      <td>0.000000</td>\n",
       "    </tr>\n",
       "    <tr>\n",
       "      <th>1</th>\n",
       "      <td>Baseline All random</td>\n",
       "      <td>0.578947</td>\n",
       "      <td>0.403226</td>\n",
       "      <td>0.520833</td>\n",
       "    </tr>\n",
       "    <tr>\n",
       "      <th>2</th>\n",
       "      <td>RandomForest</td>\n",
       "      <td>0.954386</td>\n",
       "      <td>0.948440</td>\n",
       "      <td>0.916667</td>\n",
       "    </tr>\n",
       "    <tr>\n",
       "      <th>3</th>\n",
       "      <td>SVC</td>\n",
       "      <td>0.961404</td>\n",
       "      <td>0.958586</td>\n",
       "      <td>0.927083</td>\n",
       "    </tr>\n",
       "  </tbody>\n",
       "</table>\n",
       "</div>"
      ],
      "text/plain": [
       "                  Type  accuracy  precision    recall\n",
       "0   Baseline All false  0.663158   0.000000  0.000000\n",
       "1  Baseline All random  0.578947   0.403226  0.520833\n",
       "2         RandomForest  0.954386   0.948440  0.916667\n",
       "3                  SVC  0.961404   0.958586  0.927083"
      ]
     },
     "metadata": {},
     "output_type": "display_data"
    },
    {
     "data": {
      "text/html": [
       "<div>\n",
       "<style scoped>\n",
       "    .dataframe tbody tr th:only-of-type {\n",
       "        vertical-align: middle;\n",
       "    }\n",
       "\n",
       "    .dataframe tbody tr th {\n",
       "        vertical-align: top;\n",
       "    }\n",
       "\n",
       "    .dataframe thead th {\n",
       "        text-align: right;\n",
       "    }\n",
       "</style>\n",
       "<table border=\"1\" class=\"dataframe\">\n",
       "  <thead>\n",
       "    <tr style=\"text-align: right;\">\n",
       "      <th></th>\n",
       "      <th>Type</th>\n",
       "      <th>false</th>\n",
       "      <th>false %</th>\n",
       "      <th>true</th>\n",
       "      <th>true %</th>\n",
       "    </tr>\n",
       "  </thead>\n",
       "  <tbody>\n",
       "    <tr>\n",
       "      <th>0</th>\n",
       "      <td>Baseline All false</td>\n",
       "      <td>285.0</td>\n",
       "      <td>100.000000</td>\n",
       "      <td>0.0</td>\n",
       "      <td>0.000000</td>\n",
       "    </tr>\n",
       "    <tr>\n",
       "      <th>1</th>\n",
       "      <td>Baseline All random</td>\n",
       "      <td>161.0</td>\n",
       "      <td>0.564912</td>\n",
       "      <td>124.0</td>\n",
       "      <td>0.435088</td>\n",
       "    </tr>\n",
       "    <tr>\n",
       "      <th>2</th>\n",
       "      <td>RandomForest</td>\n",
       "      <td>173.0</td>\n",
       "      <td>61.000000</td>\n",
       "      <td>111.0</td>\n",
       "      <td>39.000000</td>\n",
       "    </tr>\n",
       "    <tr>\n",
       "      <th>3</th>\n",
       "      <td>SVC</td>\n",
       "      <td>180.0</td>\n",
       "      <td>63.000000</td>\n",
       "      <td>104.0</td>\n",
       "      <td>37.000000</td>\n",
       "    </tr>\n",
       "  </tbody>\n",
       "</table>\n",
       "</div>"
      ],
      "text/plain": [
       "                  Type  false     false %   true     true %\n",
       "0   Baseline All false  285.0  100.000000    0.0   0.000000\n",
       "1  Baseline All random  161.0    0.564912  124.0   0.435088\n",
       "2         RandomForest  173.0   61.000000  111.0  39.000000\n",
       "3                  SVC  180.0   63.000000  104.0  37.000000"
      ]
     },
     "execution_count": 45,
     "metadata": {},
     "output_type": "execute_result"
    }
   ],
   "source": [
    "clf = make_pipeline(SVC(C = 0.01,gamma='auto',kernel='poly'))\n",
    "clf.fit(X, Y)\n",
    "# CV\n",
    "cv_result = cross_validate(clf, X, Y, cv=3, scoring=['accuracy', 'precision', 'recall'], n_jobs=-1)\n",
    "df_statistical_tests = df_statistical_tests.append({\n",
    "    'Type': 'SVC',\n",
    "    'accuracy': cv_result['test_accuracy'].mean(),\n",
    "    'precision': cv_result['test_precision'].mean(),\n",
    "    'recall': cv_result['test_recall'].mean()\n",
    "}, ignore_index=True)\n",
    "\n",
    "display(df_statistical_tests)\n",
    "\n",
    "# Predict\n",
    "y_prediction = clf.predict(X_test)\n",
    "\n",
    "unique_elements, counts_elements = np.unique(y_prediction, return_counts=True)\n",
    "\n",
    "df_predictions_per_model = df_predictions_per_model.append({\n",
    "    'Type': 'SVC',\n",
    "    'false': counts_elements[0],\n",
    "    'false %': int(round(counts_elements[0]/(counts_elements[0]+counts_elements[1])*100.0)),\n",
    "    'true': counts_elements[1],\n",
    "    'true %': int(round(counts_elements[1]/(counts_elements[0]+counts_elements[1])*100.0)),\n",
    "}, ignore_index=True)\n",
    "\n",
    "df_predictions_per_model"
   ]
  },
  {
   "cell_type": "markdown",
   "metadata": {},
   "source": [
    "# NuSVC: Different Parameter"
   ]
  },
  {
   "cell_type": "code",
   "execution_count": 31,
   "metadata": {},
   "outputs": [
    {
     "name": "stdout",
     "output_type": "stream",
     "text": [
      "Fitting 3 folds for each of 100 candidates, totalling 300 fits\n"
     ]
    },
    {
     "name": "stderr",
     "output_type": "stream",
     "text": [
      "[Parallel(n_jobs=-1)]: Using backend LokyBackend with 4 concurrent workers.\n",
      "[Parallel(n_jobs=-1)]: Batch computation too fast (0.0156s.) Setting batch_size=2.\n",
      "[Parallel(n_jobs=-1)]: Done   5 tasks      | elapsed:    0.0s\n",
      "[Parallel(n_jobs=-1)]: Batch computation too fast (0.0312s.) Setting batch_size=4.\n",
      "[Parallel(n_jobs=-1)]: Done  12 tasks      | elapsed:    0.0s\n",
      "[Parallel(n_jobs=-1)]: Done  28 tasks      | elapsed:    0.0s\n",
      "[Parallel(n_jobs=-1)]: Batch computation too fast (0.0685s.) Setting batch_size=8.\n",
      "[Parallel(n_jobs=-1)]: Done  56 tasks      | elapsed:    0.1s\n",
      "[Parallel(n_jobs=-1)]: Batch computation too fast (0.1103s.) Setting batch_size=16.\n",
      "[Parallel(n_jobs=-1)]: Done 136 tasks      | elapsed:    0.4s\n",
      "[Parallel(n_jobs=-1)]: Batch computation too fast (0.1914s.) Setting batch_size=32.\n",
      "[Parallel(n_jobs=-1)]: Done 235 tasks      | elapsed:    0.5s\n",
      "[Parallel(n_jobs=-1)]: Done 246 tasks      | elapsed:    0.5s\n",
      "[Parallel(n_jobs=-1)]: Done 257 tasks      | elapsed:    0.5s\n"
     ]
    },
    {
     "name": "stdout",
     "output_type": "stream",
     "text": [
      "{'nu': 0.06939393939393938}\n"
     ]
    },
    {
     "name": "stderr",
     "output_type": "stream",
     "text": [
      "[Parallel(n_jobs=-1)]: Done 285 tasks      | elapsed:    0.6s\n",
      "[Parallel(n_jobs=-1)]: Done 300 out of 300 | elapsed:    0.6s finished\n"
     ]
    }
   ],
   "source": [
    "clf = NuSVC()\n",
    "\n",
    "parameter_grid= {\n",
    "    'nu': [x for x in np.linspace(start = 0.01, stop = 0.99, num = 100)]    \n",
    "}\n",
    "                     \n",
    "cv_grid = GridSearchCV(clf, parameter_grid, cv=3, verbose=10, n_jobs=-1, scoring=['accuracy', 'precision', 'recall'], refit='accuracy')\n",
    "cv_grid.fit(X, Y)\n",
    "\n",
    "print(cv_grid.best_params_)"
   ]
  },
  {
   "cell_type": "markdown",
   "metadata": {},
   "source": [
    "# NuSVC: Different Scaling"
   ]
  },
  {
   "cell_type": "code",
   "execution_count": 32,
   "metadata": {},
   "outputs": [
    {
     "name": "stdout",
     "output_type": "stream",
     "text": [
      "[0.93684211 0.94736842 0.96842105]\n",
      "0.9508771929824561\n"
     ]
    }
   ],
   "source": [
    "clf = make_pipeline(NuSVC(nu=0.06939393939393938))\n",
    "clf.fit(X, Y)\n",
    "\n",
    "scores= cross_validate(clf, X, Y, cv=3, scoring=['accuracy', 'precision', 'recall'], n_jobs=-1)\n",
    "\n",
    "print(scores[\"test_accuracy\"])\n",
    "print(np.mean(scores[\"test_accuracy\"]))"
   ]
  },
  {
   "cell_type": "code",
   "execution_count": 33,
   "metadata": {},
   "outputs": [
    {
     "name": "stdout",
     "output_type": "stream",
     "text": [
      "[0.95789474 0.98947368 0.97894737]\n",
      "0.975438596491228\n"
     ]
    }
   ],
   "source": [
    "clf = make_pipeline(StandardScaler(), NuSVC(nu=0.06939393939393938))\n",
    "clf.fit(X, Y)\n",
    "\n",
    "scores= cross_validate(clf, X, Y, cv=3, scoring=['accuracy', 'precision', 'recall'], n_jobs=-1)\n",
    "\n",
    "print(scores[\"test_accuracy\"])\n",
    "print(np.mean(scores[\"test_accuracy\"]))"
   ]
  },
  {
   "cell_type": "code",
   "execution_count": 34,
   "metadata": {},
   "outputs": [
    {
     "name": "stdout",
     "output_type": "stream",
     "text": [
      "[0.95789474 0.98947368 0.97894737]\n",
      "0.975438596491228\n"
     ]
    }
   ],
   "source": [
    "clf = make_pipeline(RobustScaler(), NuSVC(nu=0.06939393939393938))\n",
    "clf.fit(X, Y)\n",
    "\n",
    "scores= cross_validate(clf, X, Y, cv=3, scoring=['accuracy', 'precision', 'recall'], n_jobs=-1)\n",
    "\n",
    "print(scores[\"test_accuracy\"])\n",
    "print(np.mean(scores[\"test_accuracy\"]))"
   ]
  },
  {
   "cell_type": "code",
   "execution_count": 35,
   "metadata": {},
   "outputs": [
    {
     "name": "stdout",
     "output_type": "stream",
     "text": [
      "[0.95789474 0.98947368 0.97894737]\n",
      "0.975438596491228\n"
     ]
    }
   ],
   "source": [
    "clf = make_pipeline(MinMaxScaler(), NuSVC(nu=0.06939393939393938))\n",
    "clf.fit(X, Y)\n",
    "\n",
    "scores= cross_validate(clf, X, Y, cv=3, scoring=['accuracy', 'precision', 'recall'], n_jobs=-1)\n",
    "\n",
    "print(scores[\"test_accuracy\"])\n",
    "print(np.mean(scores[\"test_accuracy\"]))"
   ]
  },
  {
   "cell_type": "markdown",
   "metadata": {},
   "source": [
    "# NuSVC: Prediction"
   ]
  },
  {
   "cell_type": "code",
   "execution_count": 46,
   "metadata": {},
   "outputs": [
    {
     "data": {
      "text/html": [
       "<div>\n",
       "<style scoped>\n",
       "    .dataframe tbody tr th:only-of-type {\n",
       "        vertical-align: middle;\n",
       "    }\n",
       "\n",
       "    .dataframe tbody tr th {\n",
       "        vertical-align: top;\n",
       "    }\n",
       "\n",
       "    .dataframe thead th {\n",
       "        text-align: right;\n",
       "    }\n",
       "</style>\n",
       "<table border=\"1\" class=\"dataframe\">\n",
       "  <thead>\n",
       "    <tr style=\"text-align: right;\">\n",
       "      <th></th>\n",
       "      <th>Type</th>\n",
       "      <th>accuracy</th>\n",
       "      <th>precision</th>\n",
       "      <th>recall</th>\n",
       "    </tr>\n",
       "  </thead>\n",
       "  <tbody>\n",
       "    <tr>\n",
       "      <th>0</th>\n",
       "      <td>Baseline All false</td>\n",
       "      <td>0.663158</td>\n",
       "      <td>0.000000</td>\n",
       "      <td>0.000000</td>\n",
       "    </tr>\n",
       "    <tr>\n",
       "      <th>1</th>\n",
       "      <td>Baseline All random</td>\n",
       "      <td>0.578947</td>\n",
       "      <td>0.403226</td>\n",
       "      <td>0.520833</td>\n",
       "    </tr>\n",
       "    <tr>\n",
       "      <th>2</th>\n",
       "      <td>RandomForest</td>\n",
       "      <td>0.954386</td>\n",
       "      <td>0.948440</td>\n",
       "      <td>0.916667</td>\n",
       "    </tr>\n",
       "    <tr>\n",
       "      <th>3</th>\n",
       "      <td>SVC</td>\n",
       "      <td>0.961404</td>\n",
       "      <td>0.958586</td>\n",
       "      <td>0.927083</td>\n",
       "    </tr>\n",
       "    <tr>\n",
       "      <th>4</th>\n",
       "      <td>NuSVC</td>\n",
       "      <td>0.975439</td>\n",
       "      <td>0.978472</td>\n",
       "      <td>0.947917</td>\n",
       "    </tr>\n",
       "  </tbody>\n",
       "</table>\n",
       "</div>"
      ],
      "text/plain": [
       "                  Type  accuracy  precision    recall\n",
       "0   Baseline All false  0.663158   0.000000  0.000000\n",
       "1  Baseline All random  0.578947   0.403226  0.520833\n",
       "2         RandomForest  0.954386   0.948440  0.916667\n",
       "3                  SVC  0.961404   0.958586  0.927083\n",
       "4                NuSVC  0.975439   0.978472  0.947917"
      ]
     },
     "metadata": {},
     "output_type": "display_data"
    },
    {
     "data": {
      "text/html": [
       "<div>\n",
       "<style scoped>\n",
       "    .dataframe tbody tr th:only-of-type {\n",
       "        vertical-align: middle;\n",
       "    }\n",
       "\n",
       "    .dataframe tbody tr th {\n",
       "        vertical-align: top;\n",
       "    }\n",
       "\n",
       "    .dataframe thead th {\n",
       "        text-align: right;\n",
       "    }\n",
       "</style>\n",
       "<table border=\"1\" class=\"dataframe\">\n",
       "  <thead>\n",
       "    <tr style=\"text-align: right;\">\n",
       "      <th></th>\n",
       "      <th>Type</th>\n",
       "      <th>false</th>\n",
       "      <th>false %</th>\n",
       "      <th>true</th>\n",
       "      <th>true %</th>\n",
       "    </tr>\n",
       "  </thead>\n",
       "  <tbody>\n",
       "    <tr>\n",
       "      <th>0</th>\n",
       "      <td>Baseline All false</td>\n",
       "      <td>285.0</td>\n",
       "      <td>100.000000</td>\n",
       "      <td>0.0</td>\n",
       "      <td>0.000000</td>\n",
       "    </tr>\n",
       "    <tr>\n",
       "      <th>1</th>\n",
       "      <td>Baseline All random</td>\n",
       "      <td>161.0</td>\n",
       "      <td>0.564912</td>\n",
       "      <td>124.0</td>\n",
       "      <td>0.435088</td>\n",
       "    </tr>\n",
       "    <tr>\n",
       "      <th>2</th>\n",
       "      <td>RandomForest</td>\n",
       "      <td>173.0</td>\n",
       "      <td>61.000000</td>\n",
       "      <td>111.0</td>\n",
       "      <td>39.000000</td>\n",
       "    </tr>\n",
       "    <tr>\n",
       "      <th>3</th>\n",
       "      <td>SVC</td>\n",
       "      <td>180.0</td>\n",
       "      <td>63.000000</td>\n",
       "      <td>104.0</td>\n",
       "      <td>37.000000</td>\n",
       "    </tr>\n",
       "    <tr>\n",
       "      <th>4</th>\n",
       "      <td>NuSVC</td>\n",
       "      <td>174.0</td>\n",
       "      <td>61.000000</td>\n",
       "      <td>110.0</td>\n",
       "      <td>39.000000</td>\n",
       "    </tr>\n",
       "  </tbody>\n",
       "</table>\n",
       "</div>"
      ],
      "text/plain": [
       "                  Type  false     false %   true     true %\n",
       "0   Baseline All false  285.0  100.000000    0.0   0.000000\n",
       "1  Baseline All random  161.0    0.564912  124.0   0.435088\n",
       "2         RandomForest  173.0   61.000000  111.0  39.000000\n",
       "3                  SVC  180.0   63.000000  104.0  37.000000\n",
       "4                NuSVC  174.0   61.000000  110.0  39.000000"
      ]
     },
     "execution_count": 46,
     "metadata": {},
     "output_type": "execute_result"
    }
   ],
   "source": [
    "clf = make_pipeline(StandardScaler(), NuSVC(nu=0.06939393939393938))\n",
    "clf.fit(X, Y)\n",
    "\n",
    "# CV\n",
    "cv_result = cross_validate(clf, X, Y, cv=3, scoring=['accuracy', 'precision', 'recall'], n_jobs=-1)\n",
    "df_statistical_tests = df_statistical_tests.append({\n",
    "    'Type': 'NuSVC',\n",
    "    'accuracy': cv_result['test_accuracy'].mean(),\n",
    "    'precision': cv_result['test_precision'].mean(),\n",
    "    'recall': cv_result['test_recall'].mean()\n",
    "}, ignore_index=True)\n",
    "\n",
    "display(df_statistical_tests)\n",
    "\n",
    "# Predict\n",
    "y_prediction = clf.predict(X_test)\n",
    "\n",
    "unique_elements, counts_elements = np.unique(y_prediction, return_counts=True)\n",
    "\n",
    "df_predictions_per_model = df_predictions_per_model.append({\n",
    "    'Type': 'NuSVC',\n",
    "    'false': counts_elements[0],\n",
    "    'false %': int(round(counts_elements[0]/(counts_elements[0]+counts_elements[1])*100.0)),\n",
    "    'true': counts_elements[1],\n",
    "    'true %': int(round(counts_elements[1]/(counts_elements[0]+counts_elements[1])*100.0)),\n",
    "}, ignore_index=True)\n",
    "\n",
    "df_predictions_per_model"
   ]
  },
  {
   "cell_type": "markdown",
   "metadata": {},
   "source": [
    "# Neural Network: Different Parameters"
   ]
  },
  {
   "cell_type": "code",
   "execution_count": 37,
   "metadata": {},
   "outputs": [
    {
     "name": "stdout",
     "output_type": "stream",
     "text": [
      "Fitting 3 folds for each of 21 candidates, totalling 63 fits\n"
     ]
    },
    {
     "name": "stderr",
     "output_type": "stream",
     "text": [
      "[Parallel(n_jobs=-1)]: Using backend LokyBackend with 4 concurrent workers.\n",
      "[Parallel(n_jobs=-1)]: Batch computation too fast (0.0312s.) Setting batch_size=2.\n",
      "[Parallel(n_jobs=-1)]: Done   5 tasks      | elapsed:    0.0s\n",
      "[Parallel(n_jobs=-1)]: Done  12 tasks      | elapsed:    0.3s\n",
      "[Parallel(n_jobs=-1)]: Done  26 tasks      | elapsed:    0.6s\n",
      "[Parallel(n_jobs=-1)]: Done  40 tasks      | elapsed:    0.9s\n",
      "[Parallel(n_jobs=-1)]: Done  56 out of  63 | elapsed:    1.6s remaining:    0.1s\n"
     ]
    },
    {
     "name": "stdout",
     "output_type": "stream",
     "text": [
      "{'hidden_layer_sizes': (3, 3), 'max_iter': 1000}\n"
     ]
    },
    {
     "name": "stderr",
     "output_type": "stream",
     "text": [
      "[Parallel(n_jobs=-1)]: Done  63 out of  63 | elapsed:    2.2s remaining:    0.0s\n",
      "[Parallel(n_jobs=-1)]: Done  63 out of  63 | elapsed:    2.2s finished\n"
     ]
    }
   ],
   "source": [
    "clf = MLPClassifier()\n",
    "\n",
    "parameter_grid= {\n",
    "    'max_iter': [10,50,100,150,200,300,1000],\n",
    "    'hidden_layer_sizes' : [(2,2),(3,3),(10,4)]\n",
    "}\n",
    "                     \n",
    "cv_grid = GridSearchCV(clf, parameter_grid, cv=3, verbose=10, n_jobs=-1, scoring=['accuracy', 'precision', 'recall'], refit='accuracy')\n",
    "cv_grid.fit(X, Y)\n",
    "\n",
    "print(cv_grid.best_params_)"
   ]
  },
  {
   "cell_type": "code",
   "execution_count": 38,
   "metadata": {},
   "outputs": [
    {
     "name": "stdout",
     "output_type": "stream",
     "text": [
      "[0.33684211 0.74736842 0.93684211]\n",
      "0.6736842105263158\n"
     ]
    }
   ],
   "source": [
    "clf = MLPClassifier(hidden_layer_sizes=(3,3), max_iter = 1000)\n",
    "\n",
    "clf.fit(X, Y)\n",
    "\n",
    "scores= cross_validate(clf, X, Y, cv=3, scoring=['accuracy', 'precision', 'recall'], n_jobs=-1)\n",
    "\n",
    "print(scores[\"test_accuracy\"])\n",
    "print(np.mean(scores[\"test_accuracy\"]))"
   ]
  },
  {
   "cell_type": "markdown",
   "metadata": {},
   "source": [
    "# MLP: Prediction"
   ]
  },
  {
   "cell_type": "code",
   "execution_count": 47,
   "metadata": {},
   "outputs": [
    {
     "data": {
      "text/html": [
       "<div>\n",
       "<style scoped>\n",
       "    .dataframe tbody tr th:only-of-type {\n",
       "        vertical-align: middle;\n",
       "    }\n",
       "\n",
       "    .dataframe tbody tr th {\n",
       "        vertical-align: top;\n",
       "    }\n",
       "\n",
       "    .dataframe thead th {\n",
       "        text-align: right;\n",
       "    }\n",
       "</style>\n",
       "<table border=\"1\" class=\"dataframe\">\n",
       "  <thead>\n",
       "    <tr style=\"text-align: right;\">\n",
       "      <th></th>\n",
       "      <th>Type</th>\n",
       "      <th>accuracy</th>\n",
       "      <th>precision</th>\n",
       "      <th>recall</th>\n",
       "    </tr>\n",
       "  </thead>\n",
       "  <tbody>\n",
       "    <tr>\n",
       "      <th>0</th>\n",
       "      <td>Baseline All false</td>\n",
       "      <td>0.663158</td>\n",
       "      <td>0.000000</td>\n",
       "      <td>0.000000</td>\n",
       "    </tr>\n",
       "    <tr>\n",
       "      <th>1</th>\n",
       "      <td>Baseline All random</td>\n",
       "      <td>0.578947</td>\n",
       "      <td>0.403226</td>\n",
       "      <td>0.520833</td>\n",
       "    </tr>\n",
       "    <tr>\n",
       "      <th>2</th>\n",
       "      <td>RandomForest</td>\n",
       "      <td>0.954386</td>\n",
       "      <td>0.948440</td>\n",
       "      <td>0.916667</td>\n",
       "    </tr>\n",
       "    <tr>\n",
       "      <th>3</th>\n",
       "      <td>SVC</td>\n",
       "      <td>0.961404</td>\n",
       "      <td>0.958586</td>\n",
       "      <td>0.927083</td>\n",
       "    </tr>\n",
       "    <tr>\n",
       "      <th>4</th>\n",
       "      <td>NuSVC</td>\n",
       "      <td>0.975439</td>\n",
       "      <td>0.978472</td>\n",
       "      <td>0.947917</td>\n",
       "    </tr>\n",
       "    <tr>\n",
       "      <th>5</th>\n",
       "      <td>MLP</td>\n",
       "      <td>0.635088</td>\n",
       "      <td>0.395109</td>\n",
       "      <td>0.625000</td>\n",
       "    </tr>\n",
       "  </tbody>\n",
       "</table>\n",
       "</div>"
      ],
      "text/plain": [
       "                  Type  accuracy  precision    recall\n",
       "0   Baseline All false  0.663158   0.000000  0.000000\n",
       "1  Baseline All random  0.578947   0.403226  0.520833\n",
       "2         RandomForest  0.954386   0.948440  0.916667\n",
       "3                  SVC  0.961404   0.958586  0.927083\n",
       "4                NuSVC  0.975439   0.978472  0.947917\n",
       "5                  MLP  0.635088   0.395109  0.625000"
      ]
     },
     "metadata": {},
     "output_type": "display_data"
    },
    {
     "data": {
      "text/html": [
       "<div>\n",
       "<style scoped>\n",
       "    .dataframe tbody tr th:only-of-type {\n",
       "        vertical-align: middle;\n",
       "    }\n",
       "\n",
       "    .dataframe tbody tr th {\n",
       "        vertical-align: top;\n",
       "    }\n",
       "\n",
       "    .dataframe thead th {\n",
       "        text-align: right;\n",
       "    }\n",
       "</style>\n",
       "<table border=\"1\" class=\"dataframe\">\n",
       "  <thead>\n",
       "    <tr style=\"text-align: right;\">\n",
       "      <th></th>\n",
       "      <th>Type</th>\n",
       "      <th>false</th>\n",
       "      <th>false %</th>\n",
       "      <th>true</th>\n",
       "      <th>true %</th>\n",
       "    </tr>\n",
       "  </thead>\n",
       "  <tbody>\n",
       "    <tr>\n",
       "      <th>0</th>\n",
       "      <td>Baseline All false</td>\n",
       "      <td>285.0</td>\n",
       "      <td>100.000000</td>\n",
       "      <td>0.0</td>\n",
       "      <td>0.000000</td>\n",
       "    </tr>\n",
       "    <tr>\n",
       "      <th>1</th>\n",
       "      <td>Baseline All random</td>\n",
       "      <td>161.0</td>\n",
       "      <td>0.564912</td>\n",
       "      <td>124.0</td>\n",
       "      <td>0.435088</td>\n",
       "    </tr>\n",
       "    <tr>\n",
       "      <th>2</th>\n",
       "      <td>RandomForest</td>\n",
       "      <td>173.0</td>\n",
       "      <td>61.000000</td>\n",
       "      <td>111.0</td>\n",
       "      <td>39.000000</td>\n",
       "    </tr>\n",
       "    <tr>\n",
       "      <th>3</th>\n",
       "      <td>SVC</td>\n",
       "      <td>180.0</td>\n",
       "      <td>63.000000</td>\n",
       "      <td>104.0</td>\n",
       "      <td>37.000000</td>\n",
       "    </tr>\n",
       "    <tr>\n",
       "      <th>4</th>\n",
       "      <td>NuSVC</td>\n",
       "      <td>174.0</td>\n",
       "      <td>61.000000</td>\n",
       "      <td>110.0</td>\n",
       "      <td>39.000000</td>\n",
       "    </tr>\n",
       "    <tr>\n",
       "      <th>5</th>\n",
       "      <td>MLP</td>\n",
       "      <td>282.0</td>\n",
       "      <td>99.000000</td>\n",
       "      <td>2.0</td>\n",
       "      <td>1.000000</td>\n",
       "    </tr>\n",
       "  </tbody>\n",
       "</table>\n",
       "</div>"
      ],
      "text/plain": [
       "                  Type  false     false %   true     true %\n",
       "0   Baseline All false  285.0  100.000000    0.0   0.000000\n",
       "1  Baseline All random  161.0    0.564912  124.0   0.435088\n",
       "2         RandomForest  173.0   61.000000  111.0  39.000000\n",
       "3                  SVC  180.0   63.000000  104.0  37.000000\n",
       "4                NuSVC  174.0   61.000000  110.0  39.000000\n",
       "5                  MLP  282.0   99.000000    2.0   1.000000"
      ]
     },
     "execution_count": 47,
     "metadata": {},
     "output_type": "execute_result"
    }
   ],
   "source": [
    "clf = MLPClassifier(hidden_layer_sizes=(3,3), max_iter = 1000)\n",
    "clf.fit(X, Y)\n",
    "\n",
    "# CV\n",
    "cv_result = cross_validate(clf, X, Y, cv=3, scoring=['accuracy', 'precision', 'recall'], n_jobs=-1)\n",
    "df_statistical_tests = df_statistical_tests.append({\n",
    "    'Type': 'MLP',\n",
    "    'accuracy': cv_result['test_accuracy'].mean(),\n",
    "    'precision': cv_result['test_precision'].mean(),\n",
    "    'recall': cv_result['test_recall'].mean()\n",
    "}, ignore_index=True)\n",
    "\n",
    "display(df_statistical_tests)\n",
    "\n",
    "# Predict\n",
    "y_prediction = clf.predict(X_test)\n",
    "\n",
    "unique_elements, counts_elements = np.unique(y_prediction, return_counts=True)\n",
    "\n",
    "df_predictions_per_model = df_predictions_per_model.append({\n",
    "    'Type': 'MLP',\n",
    "    'false': counts_elements[0],\n",
    "    'false %': int(round(counts_elements[0]/(counts_elements[0]+counts_elements[1])*100.0)),\n",
    "    'true': counts_elements[1],\n",
    "    'true %': int(round(counts_elements[1]/(counts_elements[0]+counts_elements[1])*100.0)),\n",
    "}, ignore_index=True)\n",
    "\n",
    "df_predictions_per_model"
   ]
  },
  {
   "cell_type": "markdown",
   "metadata": {},
   "source": [
    "# Significance Test"
   ]
  },
  {
   "cell_type": "code",
   "execution_count": 50,
   "metadata": {},
   "outputs": [
    {
     "data": {
      "text/html": [
       "<div>\n",
       "<style scoped>\n",
       "    .dataframe tbody tr th:only-of-type {\n",
       "        vertical-align: middle;\n",
       "    }\n",
       "\n",
       "    .dataframe tbody tr th {\n",
       "        vertical-align: top;\n",
       "    }\n",
       "\n",
       "    .dataframe thead th {\n",
       "        text-align: right;\n",
       "    }\n",
       "</style>\n",
       "<table border=\"1\" class=\"dataframe\">\n",
       "  <thead>\n",
       "    <tr style=\"text-align: right;\">\n",
       "      <th></th>\n",
       "      <th>accuracy</th>\n",
       "      <th>precision</th>\n",
       "      <th>recall</th>\n",
       "    </tr>\n",
       "    <tr>\n",
       "      <th>Type</th>\n",
       "      <th></th>\n",
       "      <th></th>\n",
       "      <th></th>\n",
       "    </tr>\n",
       "  </thead>\n",
       "  <tbody>\n",
       "    <tr>\n",
       "      <th>Baseline All false</th>\n",
       "      <td>0.663158</td>\n",
       "      <td>0.000000</td>\n",
       "      <td>0.000000</td>\n",
       "    </tr>\n",
       "    <tr>\n",
       "      <th>Baseline All random</th>\n",
       "      <td>0.578947</td>\n",
       "      <td>0.403226</td>\n",
       "      <td>0.520833</td>\n",
       "    </tr>\n",
       "    <tr>\n",
       "      <th>RandomForest</th>\n",
       "      <td>0.954386</td>\n",
       "      <td>0.948440</td>\n",
       "      <td>0.916667</td>\n",
       "    </tr>\n",
       "    <tr>\n",
       "      <th>SVC</th>\n",
       "      <td>0.961404</td>\n",
       "      <td>0.958586</td>\n",
       "      <td>0.927083</td>\n",
       "    </tr>\n",
       "    <tr>\n",
       "      <th>NuSVC</th>\n",
       "      <td>0.975439</td>\n",
       "      <td>0.978472</td>\n",
       "      <td>0.947917</td>\n",
       "    </tr>\n",
       "    <tr>\n",
       "      <th>MLP</th>\n",
       "      <td>0.635088</td>\n",
       "      <td>0.395109</td>\n",
       "      <td>0.625000</td>\n",
       "    </tr>\n",
       "  </tbody>\n",
       "</table>\n",
       "</div>"
      ],
      "text/plain": [
       "                     accuracy  precision    recall\n",
       "Type                                              \n",
       "Baseline All false   0.663158   0.000000  0.000000\n",
       "Baseline All random  0.578947   0.403226  0.520833\n",
       "RandomForest         0.954386   0.948440  0.916667\n",
       "SVC                  0.961404   0.958586  0.927083\n",
       "NuSVC                0.975439   0.978472  0.947917\n",
       "MLP                  0.635088   0.395109  0.625000"
      ]
     },
     "metadata": {},
     "output_type": "display_data"
    },
    {
     "name": "stdout",
     "output_type": "stream",
     "text": [
      "\n"
     ]
    },
    {
     "data": {
      "text/html": [
       "<div>\n",
       "<style scoped>\n",
       "    .dataframe tbody tr th:only-of-type {\n",
       "        vertical-align: middle;\n",
       "    }\n",
       "\n",
       "    .dataframe tbody tr th {\n",
       "        vertical-align: top;\n",
       "    }\n",
       "\n",
       "    .dataframe thead th {\n",
       "        text-align: right;\n",
       "    }\n",
       "</style>\n",
       "<table border=\"1\" class=\"dataframe\">\n",
       "  <thead>\n",
       "    <tr style=\"text-align: right;\">\n",
       "      <th></th>\n",
       "      <th>accuracy</th>\n",
       "      <th>accuracy(Baseline All false)</th>\n",
       "      <th>accuracy(Baseline All random)</th>\n",
       "      <th>accuracy(NuSVC)</th>\n",
       "    </tr>\n",
       "    <tr>\n",
       "      <th>Type</th>\n",
       "      <th></th>\n",
       "      <th></th>\n",
       "      <th></th>\n",
       "      <th></th>\n",
       "    </tr>\n",
       "  </thead>\n",
       "  <tbody>\n",
       "    <tr>\n",
       "      <th>RandomForest</th>\n",
       "      <td>0.954386</td>\n",
       "      <td>0.663158</td>\n",
       "      <td>0.578947</td>\n",
       "      <td>0.975439</td>\n",
       "    </tr>\n",
       "    <tr>\n",
       "      <th>SVC</th>\n",
       "      <td>0.961404</td>\n",
       "      <td>0.663158</td>\n",
       "      <td>0.578947</td>\n",
       "      <td>0.975439</td>\n",
       "    </tr>\n",
       "    <tr>\n",
       "      <th>NuSVC</th>\n",
       "      <td>0.975439</td>\n",
       "      <td>0.663158</td>\n",
       "      <td>0.578947</td>\n",
       "      <td>0.975439</td>\n",
       "    </tr>\n",
       "    <tr>\n",
       "      <th>MLP</th>\n",
       "      <td>0.635088</td>\n",
       "      <td>0.663158</td>\n",
       "      <td>0.578947</td>\n",
       "      <td>0.975439</td>\n",
       "    </tr>\n",
       "  </tbody>\n",
       "</table>\n",
       "</div>"
      ],
      "text/plain": [
       "              accuracy  accuracy(Baseline All false)  \\\n",
       "Type                                                   \n",
       "RandomForest  0.954386                      0.663158   \n",
       "SVC           0.961404                      0.663158   \n",
       "NuSVC         0.975439                      0.663158   \n",
       "MLP           0.635088                      0.663158   \n",
       "\n",
       "              accuracy(Baseline All random)  accuracy(NuSVC)  \n",
       "Type                                                          \n",
       "RandomForest                       0.578947         0.975439  \n",
       "SVC                                0.578947         0.975439  \n",
       "NuSVC                              0.578947         0.975439  \n",
       "MLP                                0.578947         0.975439  "
      ]
     },
     "metadata": {},
     "output_type": "display_data"
    },
    {
     "data": {
      "text/html": [
       "<div>\n",
       "<style scoped>\n",
       "    .dataframe tbody tr th:only-of-type {\n",
       "        vertical-align: middle;\n",
       "    }\n",
       "\n",
       "    .dataframe tbody tr th {\n",
       "        vertical-align: top;\n",
       "    }\n",
       "\n",
       "    .dataframe thead th {\n",
       "        text-align: right;\n",
       "    }\n",
       "</style>\n",
       "<table border=\"1\" class=\"dataframe\">\n",
       "  <thead>\n",
       "    <tr style=\"text-align: right;\">\n",
       "      <th></th>\n",
       "      <th>precision</th>\n",
       "      <th>precision(Baseline All false)</th>\n",
       "      <th>precision(Baseline All random)</th>\n",
       "      <th>precision(NuSVC)</th>\n",
       "    </tr>\n",
       "    <tr>\n",
       "      <th>Type</th>\n",
       "      <th></th>\n",
       "      <th></th>\n",
       "      <th></th>\n",
       "      <th></th>\n",
       "    </tr>\n",
       "  </thead>\n",
       "  <tbody>\n",
       "    <tr>\n",
       "      <th>RandomForest</th>\n",
       "      <td>0.948440</td>\n",
       "      <td>0.0</td>\n",
       "      <td>0.403226</td>\n",
       "      <td>0.978472</td>\n",
       "    </tr>\n",
       "    <tr>\n",
       "      <th>SVC</th>\n",
       "      <td>0.958586</td>\n",
       "      <td>0.0</td>\n",
       "      <td>0.403226</td>\n",
       "      <td>0.978472</td>\n",
       "    </tr>\n",
       "    <tr>\n",
       "      <th>NuSVC</th>\n",
       "      <td>0.978472</td>\n",
       "      <td>0.0</td>\n",
       "      <td>0.403226</td>\n",
       "      <td>0.978472</td>\n",
       "    </tr>\n",
       "    <tr>\n",
       "      <th>MLP</th>\n",
       "      <td>0.395109</td>\n",
       "      <td>0.0</td>\n",
       "      <td>0.403226</td>\n",
       "      <td>0.978472</td>\n",
       "    </tr>\n",
       "  </tbody>\n",
       "</table>\n",
       "</div>"
      ],
      "text/plain": [
       "              precision  precision(Baseline All false)  \\\n",
       "Type                                                     \n",
       "RandomForest   0.948440                            0.0   \n",
       "SVC            0.958586                            0.0   \n",
       "NuSVC          0.978472                            0.0   \n",
       "MLP            0.395109                            0.0   \n",
       "\n",
       "              precision(Baseline All random)  precision(NuSVC)  \n",
       "Type                                                            \n",
       "RandomForest                        0.403226          0.978472  \n",
       "SVC                                 0.403226          0.978472  \n",
       "NuSVC                               0.403226          0.978472  \n",
       "MLP                                 0.403226          0.978472  "
      ]
     },
     "metadata": {},
     "output_type": "display_data"
    },
    {
     "data": {
      "text/html": [
       "<div>\n",
       "<style scoped>\n",
       "    .dataframe tbody tr th:only-of-type {\n",
       "        vertical-align: middle;\n",
       "    }\n",
       "\n",
       "    .dataframe tbody tr th {\n",
       "        vertical-align: top;\n",
       "    }\n",
       "\n",
       "    .dataframe thead th {\n",
       "        text-align: right;\n",
       "    }\n",
       "</style>\n",
       "<table border=\"1\" class=\"dataframe\">\n",
       "  <thead>\n",
       "    <tr style=\"text-align: right;\">\n",
       "      <th></th>\n",
       "      <th>recall</th>\n",
       "      <th>recall(Baseline All false)</th>\n",
       "      <th>recall(Baseline All random)</th>\n",
       "      <th>recall(NuSVC)</th>\n",
       "    </tr>\n",
       "    <tr>\n",
       "      <th>Type</th>\n",
       "      <th></th>\n",
       "      <th></th>\n",
       "      <th></th>\n",
       "      <th></th>\n",
       "    </tr>\n",
       "  </thead>\n",
       "  <tbody>\n",
       "    <tr>\n",
       "      <th>RandomForest</th>\n",
       "      <td>0.916667</td>\n",
       "      <td>0.0</td>\n",
       "      <td>0.520833</td>\n",
       "      <td>0.947917</td>\n",
       "    </tr>\n",
       "    <tr>\n",
       "      <th>SVC</th>\n",
       "      <td>0.927083</td>\n",
       "      <td>0.0</td>\n",
       "      <td>0.520833</td>\n",
       "      <td>0.947917</td>\n",
       "    </tr>\n",
       "    <tr>\n",
       "      <th>NuSVC</th>\n",
       "      <td>0.947917</td>\n",
       "      <td>0.0</td>\n",
       "      <td>0.520833</td>\n",
       "      <td>0.947917</td>\n",
       "    </tr>\n",
       "    <tr>\n",
       "      <th>MLP</th>\n",
       "      <td>0.625000</td>\n",
       "      <td>0.0</td>\n",
       "      <td>0.520833</td>\n",
       "      <td>0.947917</td>\n",
       "    </tr>\n",
       "  </tbody>\n",
       "</table>\n",
       "</div>"
      ],
      "text/plain": [
       "                recall  recall(Baseline All false)  \\\n",
       "Type                                                 \n",
       "RandomForest  0.916667                         0.0   \n",
       "SVC           0.927083                         0.0   \n",
       "NuSVC         0.947917                         0.0   \n",
       "MLP           0.625000                         0.0   \n",
       "\n",
       "              recall(Baseline All random)  recall(NuSVC)  \n",
       "Type                                                      \n",
       "RandomForest                     0.520833       0.947917  \n",
       "SVC                              0.520833       0.947917  \n",
       "NuSVC                            0.520833       0.947917  \n",
       "MLP                              0.520833       0.947917  "
      ]
     },
     "metadata": {},
     "output_type": "display_data"
    }
   ],
   "source": [
    "df_statistical_tests_complete = df_statistical_tests.copy()\n",
    "\n",
    "df_statistical_tests_complete = df_statistical_tests_complete.set_index('Type')\n",
    "display(df_statistical_tests_complete)\n",
    "print()\n",
    "\n",
    "measure = 'accuracy'\n",
    "\n",
    "df_statistical_tests_accuracy =  df_statistical_tests_complete.tail(4).copy()[[measure]]\n",
    "df_statistical_tests_accuracy['%s(Baseline All false)' % measure] = df_statistical_tests_complete.iloc[0][measure]\n",
    "df_statistical_tests_accuracy['%s(Baseline All random)' % measure] = df_statistical_tests_complete.iloc[1][measure]\n",
    "df_statistical_tests_accuracy['%s(NuSVC)' % measure] = df_statistical_tests_complete.iloc[4][measure]\n",
    "\n",
    "display (df_statistical_tests_accuracy)\n",
    "\n",
    "measure = 'precision'\n",
    "\n",
    "df_statistical_tests_precision =  df_statistical_tests_complete.tail(4).copy()[[measure]]\n",
    "df_statistical_tests_precision['%s(Baseline All false)' % measure] = df_statistical_tests_complete.iloc[0][measure]\n",
    "df_statistical_tests_precision['%s(Baseline All random)' % measure] = df_statistical_tests_complete.iloc[1][measure]\n",
    "df_statistical_tests_precision['%s(NuSVC)' % measure] = df_statistical_tests_complete.iloc[4][measure]\n",
    "\n",
    "display (df_statistical_tests_precision)\n",
    "\n",
    "measure = 'recall'\n",
    "\n",
    "df_statistical_tests_recall =  df_statistical_tests_complete.tail(4).copy()[[measure]]\n",
    "df_statistical_tests_recall['%s(Baseline All false)' % measure] = df_statistical_tests_complete.iloc[0][measure]\n",
    "df_statistical_tests_recall['%s(Baseline All random)' % measure] = df_statistical_tests_complete.iloc[1][measure]\n",
    "df_statistical_tests_recall['%s(NuSVC)' % measure] = df_statistical_tests_complete.iloc[4][measure]\n",
    "\n",
    "display (df_statistical_tests_recall)"
   ]
  },
  {
   "cell_type": "code",
   "execution_count": null,
   "metadata": {},
   "outputs": [],
   "source": []
  }
 ],
 "metadata": {
  "kernelspec": {
   "display_name": "Python 3",
   "language": "python",
   "name": "python3"
  },
  "language_info": {
   "codemirror_mode": {
    "name": "ipython",
    "version": 3
   },
   "file_extension": ".py",
   "mimetype": "text/x-python",
   "name": "python",
   "nbconvert_exporter": "python",
   "pygments_lexer": "ipython3",
   "version": "3.7.6"
  }
 },
 "nbformat": 4,
 "nbformat_minor": 4
}
