{
 "cells": [
  {
   "cell_type": "code",
   "execution_count": 1,
   "metadata": {},
   "outputs": [
    {
     "name": "stdout",
     "output_type": "stream",
     "text": [
      "The scikit-learn version is 0.23.1.\n"
     ]
    }
   ],
   "source": [
    "import math \n",
    "\n",
    "import numpy as np\n",
    "import pandas as pd\n",
    "\n",
    "import sklearn\n",
    "print('The scikit-learn version is {}.'.format(sklearn.__version__))\n",
    "\n",
    "from sklearn.feature_extraction.text import TfidfTransformer"
   ]
  },
  {
   "cell_type": "code",
   "execution_count": 2,
   "metadata": {},
   "outputs": [],
   "source": [
    "df_data_train = pd.read_csv('./Amazon_Review_Data/amazon_review_ID.shuf.lrn.csv', low_memory=False, sep=',')\n",
    "df_data_test = pd.read_csv('./Amazon_Review_Data/amazon_review_ID.shuf.tes.csv', low_memory=False, sep=',')"
   ]
  },
  {
   "cell_type": "code",
   "execution_count": 3,
   "metadata": {},
   "outputs": [
    {
     "data": {
      "text/html": [
       "<div>\n",
       "<style scoped>\n",
       "    .dataframe tbody tr th:only-of-type {\n",
       "        vertical-align: middle;\n",
       "    }\n",
       "\n",
       "    .dataframe tbody tr th {\n",
       "        vertical-align: top;\n",
       "    }\n",
       "\n",
       "    .dataframe thead th {\n",
       "        text-align: right;\n",
       "    }\n",
       "</style>\n",
       "<table border=\"1\" class=\"dataframe\">\n",
       "  <thead>\n",
       "    <tr style=\"text-align: right;\">\n",
       "      <th></th>\n",
       "      <th>ID</th>\n",
       "      <th>V1</th>\n",
       "      <th>V2</th>\n",
       "      <th>V3</th>\n",
       "      <th>V4</th>\n",
       "      <th>V5</th>\n",
       "      <th>V6</th>\n",
       "      <th>V7</th>\n",
       "      <th>V8</th>\n",
       "      <th>V9</th>\n",
       "      <th>...</th>\n",
       "      <th>V9992</th>\n",
       "      <th>V9993</th>\n",
       "      <th>V9994</th>\n",
       "      <th>V9995</th>\n",
       "      <th>V9996</th>\n",
       "      <th>V9997</th>\n",
       "      <th>V9998</th>\n",
       "      <th>V9999</th>\n",
       "      <th>V10000</th>\n",
       "      <th>Class</th>\n",
       "    </tr>\n",
       "  </thead>\n",
       "  <tbody>\n",
       "    <tr>\n",
       "      <th>0</th>\n",
       "      <td>0</td>\n",
       "      <td>8</td>\n",
       "      <td>6</td>\n",
       "      <td>10</td>\n",
       "      <td>6</td>\n",
       "      <td>7</td>\n",
       "      <td>2</td>\n",
       "      <td>2</td>\n",
       "      <td>2</td>\n",
       "      <td>3</td>\n",
       "      <td>...</td>\n",
       "      <td>1</td>\n",
       "      <td>0</td>\n",
       "      <td>0</td>\n",
       "      <td>0</td>\n",
       "      <td>0</td>\n",
       "      <td>0</td>\n",
       "      <td>0</td>\n",
       "      <td>0</td>\n",
       "      <td>0</td>\n",
       "      <td>Chell</td>\n",
       "    </tr>\n",
       "    <tr>\n",
       "      <th>1</th>\n",
       "      <td>1</td>\n",
       "      <td>13</td>\n",
       "      <td>1</td>\n",
       "      <td>13</td>\n",
       "      <td>9</td>\n",
       "      <td>8</td>\n",
       "      <td>8</td>\n",
       "      <td>2</td>\n",
       "      <td>3</td>\n",
       "      <td>2</td>\n",
       "      <td>...</td>\n",
       "      <td>4</td>\n",
       "      <td>1</td>\n",
       "      <td>2</td>\n",
       "      <td>1</td>\n",
       "      <td>0</td>\n",
       "      <td>1</td>\n",
       "      <td>0</td>\n",
       "      <td>0</td>\n",
       "      <td>0</td>\n",
       "      <td>Engineer</td>\n",
       "    </tr>\n",
       "    <tr>\n",
       "      <th>2</th>\n",
       "      <td>2</td>\n",
       "      <td>16</td>\n",
       "      <td>7</td>\n",
       "      <td>6</td>\n",
       "      <td>7</td>\n",
       "      <td>9</td>\n",
       "      <td>3</td>\n",
       "      <td>4</td>\n",
       "      <td>2</td>\n",
       "      <td>6</td>\n",
       "      <td>...</td>\n",
       "      <td>0</td>\n",
       "      <td>0</td>\n",
       "      <td>0</td>\n",
       "      <td>0</td>\n",
       "      <td>1</td>\n",
       "      <td>0</td>\n",
       "      <td>0</td>\n",
       "      <td>0</td>\n",
       "      <td>0</td>\n",
       "      <td>Grove</td>\n",
       "    </tr>\n",
       "    <tr>\n",
       "      <th>3</th>\n",
       "      <td>3</td>\n",
       "      <td>8</td>\n",
       "      <td>11</td>\n",
       "      <td>10</td>\n",
       "      <td>11</td>\n",
       "      <td>3</td>\n",
       "      <td>7</td>\n",
       "      <td>0</td>\n",
       "      <td>4</td>\n",
       "      <td>2</td>\n",
       "      <td>...</td>\n",
       "      <td>0</td>\n",
       "      <td>0</td>\n",
       "      <td>1</td>\n",
       "      <td>0</td>\n",
       "      <td>0</td>\n",
       "      <td>0</td>\n",
       "      <td>2</td>\n",
       "      <td>1</td>\n",
       "      <td>0</td>\n",
       "      <td>Davisson</td>\n",
       "    </tr>\n",
       "    <tr>\n",
       "      <th>4</th>\n",
       "      <td>4</td>\n",
       "      <td>10</td>\n",
       "      <td>11</td>\n",
       "      <td>8</td>\n",
       "      <td>5</td>\n",
       "      <td>3</td>\n",
       "      <td>4</td>\n",
       "      <td>2</td>\n",
       "      <td>5</td>\n",
       "      <td>5</td>\n",
       "      <td>...</td>\n",
       "      <td>0</td>\n",
       "      <td>0</td>\n",
       "      <td>0</td>\n",
       "      <td>0</td>\n",
       "      <td>0</td>\n",
       "      <td>0</td>\n",
       "      <td>0</td>\n",
       "      <td>0</td>\n",
       "      <td>0</td>\n",
       "      <td>Wilson</td>\n",
       "    </tr>\n",
       "  </tbody>\n",
       "</table>\n",
       "<p>5 rows × 10002 columns</p>\n",
       "</div>"
      ],
      "text/plain": [
       "   ID  V1  V2  V3  V4  V5  V6  V7  V8  V9  ...  V9992  V9993  V9994  V9995  \\\n",
       "0   0   8   6  10   6   7   2   2   2   3  ...      1      0      0      0   \n",
       "1   1  13   1  13   9   8   8   2   3   2  ...      4      1      2      1   \n",
       "2   2  16   7   6   7   9   3   4   2   6  ...      0      0      0      0   \n",
       "3   3   8  11  10  11   3   7   0   4   2  ...      0      0      1      0   \n",
       "4   4  10  11   8   5   3   4   2   5   5  ...      0      0      0      0   \n",
       "\n",
       "   V9996  V9997  V9998  V9999  V10000     Class  \n",
       "0      0      0      0      0       0     Chell  \n",
       "1      0      1      0      0       0  Engineer  \n",
       "2      1      0      0      0       0     Grove  \n",
       "3      0      0      2      1       0  Davisson  \n",
       "4      0      0      0      0       0    Wilson  \n",
       "\n",
       "[5 rows x 10002 columns]"
      ]
     },
     "execution_count": 3,
     "metadata": {},
     "output_type": "execute_result"
    }
   ],
   "source": [
    "df_data_train.head()"
   ]
  },
  {
   "cell_type": "markdown",
   "metadata": {},
   "source": [
    "## Class Distribution"
   ]
  },
  {
   "cell_type": "code",
   "execution_count": 4,
   "metadata": {},
   "outputs": [
    {
     "data": {
      "image/png": "[encoded data removed]",
      "text/plain": [
       "<Figure size 1152x576 with 1 Axes>"
      ]
     },
     "metadata": {
      "needs_background": "light"
     },
     "output_type": "display_data"
    }
   ],
   "source": [
    "import matplotlib.pyplot as plt\n",
    "fig = plt.figure(figsize=(16,8))\n",
    "df_data_train['Class'].value_counts().plot(kind='bar')\n",
    "plt.show()"
   ]
  },
  {
   "cell_type": "markdown",
   "metadata": {},
   "source": [
    "## Dataframe Pre-Processing"
   ]
  },
  {
   "cell_type": "code",
   "execution_count": 5,
   "metadata": {},
   "outputs": [],
   "source": [
    "df_train = df_data_train.copy()\n",
    "\n",
    "class_factor = df_data_train['Class'].factorize()\n",
    "class_index = class_factor[1]\n",
    "\n",
    "df_train['ClassF'] = class_factor[0]\n",
    "\n",
    "columns = sorted(set(df_data_train.columns) - set(['ID', 'Class', 'ClassF']))\n",
    "\n",
    "X = df_train[columns].to_numpy()\n",
    "y = df_train['ClassF'].to_numpy()\n",
    "\n",
    "\n",
    "X_test = df_data_test[columns]"
   ]
  },
  {
   "cell_type": "markdown",
   "metadata": {},
   "source": [
    "## TDIF Transformation"
   ]
  },
  {
   "cell_type": "code",
   "execution_count": 6,
   "metadata": {},
   "outputs": [
    {
     "name": "stdout",
     "output_type": "stream",
     "text": [
      "(750, 10000)\n",
      "50\n"
     ]
    }
   ],
   "source": [
    "tfidf = TfidfTransformer()\n",
    "X_tfidf = tfidf.fit_transform(X)\n",
    "X_test_tfidf = tfidf.transform(X_test)\n",
    "\n",
    "print(X_tfidf.shape)\n",
    "\n",
    "unique_classes = np.unique(y)\n",
    "print(len(unique_classes))"
   ]
  },
  {
   "cell_type": "code",
   "execution_count": 21,
   "metadata": {},
   "outputs": [
    {
     "data": {
      "text/plain": [
       "array([[1, 0, 0, ..., 0, 0, 0],\n",
       "       [0, 1, 0, ..., 0, 0, 0],\n",
       "       [0, 0, 1, ..., 0, 0, 0],\n",
       "       ...,\n",
       "       [0, 0, 0, ..., 0, 0, 0],\n",
       "       [0, 0, 0, ..., 0, 0, 0],\n",
       "       [0, 0, 0, ..., 0, 1, 0]], dtype=uint8)"
      ]
     },
     "execution_count": 21,
     "metadata": {},
     "output_type": "execute_result"
    }
   ],
   "source": [
    "np.eye(len(unique_classes), dtype='uint8')[y]"
   ]
  },
  {
   "cell_type": "markdown",
   "metadata": {},
   "source": [
    "## PyTorch"
   ]
  },
  {
   "cell_type": "markdown",
   "metadata": {},
   "source": [
    "### CV Model"
   ]
  },
  {
   "cell_type": "code",
   "execution_count": 36,
   "metadata": {
    "scrolled": false
   },
   "outputs": [
    {
     "name": "stdout",
     "output_type": "stream",
     "text": [
      "epoch:  0  loss:  3.911746025085449  accuracy(train):  0.018333333333333333  accuracy(test):  0.02\n",
      "epoch:  1  loss:  3.8876612186431885  accuracy(train):  0.14833333333333334  accuracy(test):  0.05333333333333334\n",
      "epoch:  2  loss:  3.8470757007598877  accuracy(train):  0.09166666666666666  accuracy(test):  0.04\n",
      "epoch:  3  loss:  3.804443359375  accuracy(train):  0.06  accuracy(test):  0.03333333333333333\n",
      "epoch:  4  loss:  3.7381086349487305  accuracy(train):  0.085  accuracy(test):  0.03333333333333333\n",
      "epoch:  5  loss:  3.661093235015869  accuracy(train):  0.21833333333333332  accuracy(test):  0.04\n",
      "epoch:  6  loss:  3.5750036239624023  accuracy(train):  0.785  accuracy(test):  0.12666666666666668\n",
      "epoch:  7  loss:  3.4807608127593994  accuracy(train):  0.9633333333333334  accuracy(test):  0.3333333333333333\n",
      "epoch:  8  loss:  3.3904037475585938  accuracy(train):  0.9683333333333334  accuracy(test):  0.3466666666666667\n",
      "epoch:  9  loss:  3.3068740367889404  accuracy(train):  0.9766666666666667  accuracy(test):  0.2733333333333333\n",
      "epoch:  10  loss:  3.2319767475128174  accuracy(train):  0.9866666666666667  accuracy(test):  0.3\n",
      "epoch:  11  loss:  3.1700010299682617  accuracy(train):  0.9933333333333333  accuracy(test):  0.36\n",
      "epoch:  12  loss:  3.115757465362549  accuracy(train):  0.9933333333333333  accuracy(test):  0.4\n",
      "epoch:  13  loss:  3.072916269302368  accuracy(train):  0.9933333333333333  accuracy(test):  0.4066666666666667\n",
      "epoch:  14  loss:  3.0390243530273438  accuracy(train):  0.9933333333333333  accuracy(test):  0.44\n",
      "epoch:  15  loss:  3.0138661861419678  accuracy(train):  0.9933333333333333  accuracy(test):  0.47333333333333333\n",
      "epoch:  16  loss:  2.9955387115478516  accuracy(train):  0.9933333333333333  accuracy(test):  0.48\n",
      "epoch:  17  loss:  2.982853889465332  accuracy(train):  0.9933333333333333  accuracy(test):  0.49333333333333335\n",
      "epoch:  18  loss:  2.9739325046539307  accuracy(train):  0.9933333333333333  accuracy(test):  0.54\n",
      "epoch:  19  loss:  2.9675796031951904  accuracy(train):  0.9933333333333333  accuracy(test):  0.5666666666666667\n"
     ]
    },
    {
     "name": "stderr",
     "output_type": "stream",
     "text": [
      "/usr/lib/python3.8/site-packages/sklearn/metrics/_classification.py:1814: UserWarning: y_pred contains classes not in y_true\n",
      "  warnings.warn('y_pred contains classes not in y_true')\n"
     ]
    },
    {
     "name": "stdout",
     "output_type": "stream",
     "text": [
      "epoch:  0  loss:  3.912067174911499  accuracy(train):  0.03166666666666667  accuracy(test):  0.02666666666666667\n",
      "epoch:  1  loss:  3.88411021232605  accuracy(train):  0.06166666666666667  accuracy(test):  0.02666666666666667\n",
      "epoch:  2  loss:  3.8426685333251953  accuracy(train):  0.08333333333333333  accuracy(test):  0.02\n",
      "epoch:  3  loss:  3.7984516620635986  accuracy(train):  0.105  accuracy(test):  0.02666666666666667\n",
      "epoch:  4  loss:  3.729443311691284  accuracy(train):  0.195  accuracy(test):  0.04666666666666667\n",
      "epoch:  5  loss:  3.6507909297943115  accuracy(train):  0.6583333333333333  accuracy(test):  0.13333333333333333\n",
      "epoch:  6  loss:  3.562243700027466  accuracy(train):  0.9166666666666666  accuracy(test):  0.34\n",
      "epoch:  7  loss:  3.466628313064575  accuracy(train):  0.93  accuracy(test):  0.38\n",
      "epoch:  8  loss:  3.3751449584960938  accuracy(train):  0.95  accuracy(test):  0.2733333333333333\n",
      "epoch:  9  loss:  3.290419578552246  accuracy(train):  0.9766666666666667  accuracy(test):  0.36666666666666664\n",
      "epoch:  10  loss:  3.2188949584960938  accuracy(train):  0.9866666666666667  accuracy(test):  0.4866666666666667\n",
      "epoch:  11  loss:  3.156497001647949  accuracy(train):  0.9883333333333333  accuracy(test):  0.4866666666666667\n",
      "epoch:  12  loss:  3.1052565574645996  accuracy(train):  0.9883333333333333  accuracy(test):  0.47333333333333333\n",
      "epoch:  13  loss:  3.064084768295288  accuracy(train):  0.9883333333333333  accuracy(test):  0.4866666666666667\n",
      "epoch:  14  loss:  3.0330934524536133  accuracy(train):  0.99  accuracy(test):  0.5\n",
      "epoch:  15  loss:  3.0094234943389893  accuracy(train):  0.99  accuracy(test):  0.5333333333333333\n",
      "epoch:  16  loss:  2.992880344390869  accuracy(train):  0.99  accuracy(test):  0.58\n",
      "epoch:  17  loss:  2.981740951538086  accuracy(train):  0.99  accuracy(test):  0.5933333333333334\n",
      "epoch:  18  loss:  2.9736759662628174  accuracy(train):  0.99  accuracy(test):  0.6266666666666667\n",
      "epoch:  19  loss:  2.96820330619812  accuracy(train):  0.99  accuracy(test):  0.62\n"
     ]
    },
    {
     "name": "stderr",
     "output_type": "stream",
     "text": [
      "/usr/lib/python3.8/site-packages/sklearn/metrics/_classification.py:1814: UserWarning: y_pred contains classes not in y_true\n",
      "  warnings.warn('y_pred contains classes not in y_true')\n"
     ]
    },
    {
     "name": "stdout",
     "output_type": "stream",
     "text": [
      "epoch:  0  loss:  3.9121265411376953  accuracy(train):  0.02  accuracy(test):  0.006666666666666667\n",
      "epoch:  1  loss:  3.885328769683838  accuracy(train):  0.10666666666666667  accuracy(test):  0.05333333333333334\n",
      "epoch:  2  loss:  3.8404011726379395  accuracy(train):  0.07333333333333333  accuracy(test):  0.04666666666666667\n",
      "epoch:  3  loss:  3.798056125640869  accuracy(train):  0.045  accuracy(test):  0.02666666666666667\n",
      "epoch:  4  loss:  3.7295267581939697  accuracy(train):  0.055  accuracy(test):  0.02666666666666667\n",
      "epoch:  5  loss:  3.6487765312194824  accuracy(train):  0.20833333333333334  accuracy(test):  0.04\n",
      "epoch:  6  loss:  3.5615298748016357  accuracy(train):  0.8383333333333334  accuracy(test):  0.17333333333333334\n",
      "epoch:  7  loss:  3.4671497344970703  accuracy(train):  0.9366666666666666  accuracy(test):  0.3933333333333333\n",
      "epoch:  8  loss:  3.3766069412231445  accuracy(train):  0.9316666666666666  accuracy(test):  0.3\n",
      "epoch:  9  loss:  3.2952234745025635  accuracy(train):  0.955  accuracy(test):  0.24666666666666667\n",
      "epoch:  10  loss:  3.222917318344116  accuracy(train):  0.975  accuracy(test):  0.3466666666666667\n",
      "epoch:  11  loss:  3.162631034851074  accuracy(train):  0.9783333333333334  accuracy(test):  0.4866666666666667\n",
      "epoch:  12  loss:  3.1094672679901123  accuracy(train):  0.99  accuracy(test):  0.49333333333333335\n",
      "epoch:  13  loss:  3.0690126419067383  accuracy(train):  1.0  accuracy(test):  0.44\n",
      "epoch:  14  loss:  3.0382919311523438  accuracy(train):  0.9966666666666667  accuracy(test):  0.30666666666666664\n",
      "epoch:  15  loss:  3.011176347732544  accuracy(train):  1.0  accuracy(test):  0.46\n",
      "epoch:  16  loss:  2.9942550659179688  accuracy(train):  1.0  accuracy(test):  0.5733333333333334\n",
      "epoch:  17  loss:  2.98225474357605  accuracy(train):  1.0  accuracy(test):  0.56\n",
      "epoch:  18  loss:  2.971449375152588  accuracy(train):  1.0  accuracy(test):  0.6\n",
      "epoch:  19  loss:  2.96393084526062  accuracy(train):  1.0  accuracy(test):  0.43333333333333335\n",
      "epoch:  0  loss:  3.912355661392212  accuracy(train):  0.016666666666666666  accuracy(test):  0.006666666666666667\n",
      "epoch:  1  loss:  3.88120436668396  accuracy(train):  0.12666666666666668  accuracy(test):  0.02666666666666667\n",
      "epoch:  2  loss:  3.8375134468078613  accuracy(train):  0.19333333333333333  accuracy(test):  0.02666666666666667\n",
      "epoch:  3  loss:  3.7955799102783203  accuracy(train):  0.135  accuracy(test):  0.02\n",
      "epoch:  4  loss:  3.727844715118408  accuracy(train):  0.14833333333333334  accuracy(test):  0.013333333333333334\n",
      "epoch:  5  loss:  3.6496105194091797  accuracy(train):  0.39166666666666666  accuracy(test):  0.013333333333333334\n",
      "epoch:  6  loss:  3.5618972778320312  accuracy(train):  0.8833333333333333  accuracy(test):  0.17333333333333334\n",
      "epoch:  7  loss:  3.4663326740264893  accuracy(train):  0.9333333333333333  accuracy(test):  0.3333333333333333\n",
      "epoch:  8  loss:  3.373898983001709  accuracy(train):  0.96  accuracy(test):  0.26\n",
      "epoch:  9  loss:  3.287881851196289  accuracy(train):  0.97  accuracy(test):  0.25333333333333335\n",
      "epoch:  10  loss:  3.214951515197754  accuracy(train):  0.98  accuracy(test):  0.24\n",
      "epoch:  11  loss:  3.1529693603515625  accuracy(train):  0.9883333333333333  accuracy(test):  0.34\n",
      "epoch:  12  loss:  3.1022815704345703  accuracy(train):  0.99  accuracy(test):  0.36\n",
      "epoch:  13  loss:  3.0621325969696045  accuracy(train):  0.99  accuracy(test):  0.42\n",
      "epoch:  14  loss:  3.031109094619751  accuracy(train):  0.99  accuracy(test):  0.3933333333333333\n",
      "epoch:  15  loss:  3.008314847946167  accuracy(train):  0.99  accuracy(test):  0.3933333333333333\n",
      "epoch:  16  loss:  2.9919626712799072  accuracy(train):  0.99  accuracy(test):  0.46\n",
      "epoch:  17  loss:  2.980816125869751  accuracy(train):  0.99  accuracy(test):  0.5266666666666666\n",
      "epoch:  18  loss:  2.9730255603790283  accuracy(train):  0.99  accuracy(test):  0.52\n",
      "epoch:  19  loss:  2.9676971435546875  accuracy(train):  0.99  accuracy(test):  0.5133333333333333\n"
     ]
    },
    {
     "name": "stderr",
     "output_type": "stream",
     "text": [
      "/usr/lib/python3.8/site-packages/sklearn/metrics/_classification.py:1814: UserWarning: y_pred contains classes not in y_true\n",
      "  warnings.warn('y_pred contains classes not in y_true')\n"
     ]
    },
    {
     "name": "stdout",
     "output_type": "stream",
     "text": [
      "epoch:  0  loss:  3.91191029548645  accuracy(train):  0.016666666666666666  accuracy(test):  0.0\n",
      "epoch:  1  loss:  3.8838090896606445  accuracy(train):  0.09166666666666666  accuracy(test):  0.013333333333333334\n",
      "epoch:  2  loss:  3.842850685119629  accuracy(train):  0.06166666666666667  accuracy(test):  0.013333333333333334\n",
      "epoch:  3  loss:  3.797565221786499  accuracy(train):  0.055  accuracy(test):  0.013333333333333334\n",
      "epoch:  4  loss:  3.728220224380493  accuracy(train):  0.058333333333333334  accuracy(test):  0.013333333333333334\n",
      "epoch:  5  loss:  3.6495723724365234  accuracy(train):  0.15833333333333333  accuracy(test):  0.02666666666666667\n",
      "epoch:  6  loss:  3.5598857402801514  accuracy(train):  0.7  accuracy(test):  0.12\n",
      "epoch:  7  loss:  3.461426258087158  accuracy(train):  0.945  accuracy(test):  0.28\n",
      "epoch:  8  loss:  3.367751359939575  accuracy(train):  0.9683333333333334  accuracy(test):  0.3\n",
      "epoch:  9  loss:  3.281764268875122  accuracy(train):  0.9866666666666667  accuracy(test):  0.2733333333333333\n",
      "epoch:  10  loss:  3.20696759223938  accuracy(train):  0.995  accuracy(test):  0.32666666666666666\n",
      "epoch:  11  loss:  3.145193576812744  accuracy(train):  1.0  accuracy(test):  0.36\n",
      "epoch:  12  loss:  3.0926363468170166  accuracy(train):  1.0  accuracy(test):  0.42\n",
      "epoch:  13  loss:  3.0522828102111816  accuracy(train):  1.0  accuracy(test):  0.43333333333333335\n",
      "epoch:  14  loss:  3.0212113857269287  accuracy(train):  1.0  accuracy(test):  0.43333333333333335\n",
      "epoch:  15  loss:  2.9983694553375244  accuracy(train):  1.0  accuracy(test):  0.44\n",
      "epoch:  16  loss:  2.9819371700286865  accuracy(train):  1.0  accuracy(test):  0.4533333333333333\n",
      "epoch:  17  loss:  2.971015453338623  accuracy(train):  1.0  accuracy(test):  0.44666666666666666\n",
      "epoch:  18  loss:  2.9635703563690186  accuracy(train):  1.0  accuracy(test):  0.47333333333333333\n",
      "epoch:  19  loss:  2.9581713676452637  accuracy(train):  1.0  accuracy(test):  0.5066666666666667\n",
      "{'Type': 'MLP', 'accuracy': 0.5213333333333334, 'accuracy_sd': 0.07767739553935739, 'balanced_accuracy': 0.5451999706501985, 'balanced_accuracy_sd': 0.09052941677932276, 'f1_weighted': 0.5307219835645299, 'f1_weighted_sd': 0.06309686135159005}\n"
     ]
    },
    {
     "name": "stderr",
     "output_type": "stream",
     "text": [
      "/usr/lib/python3.8/site-packages/sklearn/metrics/_classification.py:1814: UserWarning: y_pred contains classes not in y_true\n",
      "  warnings.warn('y_pred contains classes not in y_true')\n"
     ]
    }
   ],
   "source": [
    "import torch \n",
    "import torch.nn as nn\n",
    "from sklearn.model_selection import KFold\n",
    "from sklearn.metrics import accuracy_score\n",
    "from sklearn.metrics import classification_report, make_scorer, accuracy_score, balanced_accuracy_score, f1_score\n",
    "\n",
    "def create_model():\n",
    "    num_inputs = 10000\n",
    "    num_outputs = 50\n",
    "    return nn.Sequential(\n",
    "        nn.Linear(num_inputs, 1000),\n",
    "        nn.ReLU(),\n",
    "        nn.Linear(1000, num_outputs),\n",
    "        nn.Sigmoid()\n",
    "    )\n",
    "\n",
    "def nn_fit_and_predict(X_cv_train, y_cv_train, X_cv_test, y_cv_test):\n",
    "    nX = torch.from_numpy(X_cv_train.todense()).float()\n",
    "    nX_test = torch.from_numpy(X_cv_test.todense()).float()\n",
    "    ny = torch.from_numpy(y_cv_train)\n",
    "    ny_test = torch.from_numpy(y_cv_test)\n",
    "\n",
    "    # Train network\n",
    "    model = create_model()\n",
    "\n",
    "    criterion = nn.CrossEntropyLoss()\n",
    "    optimizer = torch.optim.Adam(model.parameters(), lr = 0.01)\n",
    "\n",
    "    for epoch in range(20):\n",
    "        y_pred = model(nX)\n",
    "\n",
    "        loss = criterion(y_pred, ny)\n",
    "\n",
    "        y_pred_a = torch.argmax(y_pred, dim=1).detach().numpy()\n",
    "        accuracy = accuracy_score(y_pred_a, ny)\n",
    "        \n",
    "        y_pred_test = model(nX_test)\n",
    "        y_pred_a_test = torch.argmax(y_pred_test, dim=1).detach().numpy()\n",
    "        accuracy_test = accuracy_score(y_pred_a_test, ny_test)\n",
    "\n",
    "        print('epoch: ', epoch,' loss: ', loss.item(),' accuracy(train): ', accuracy,' accuracy(test): ', accuracy_test)\n",
    "\n",
    "        optimizer.zero_grad()\n",
    "        loss.backward()\n",
    "        optimizer.step()\n",
    "        \n",
    "\n",
    "    # Finally predict test\n",
    "    y_output = model(nX_test)\n",
    "    y_prediction = torch.argmax(y_output, dim=1).detach().numpy()\n",
    "    return y_prediction\n",
    "\n",
    "\n",
    "cv_results_accuracy = []\n",
    "cv_results_balanced_accuracy = []\n",
    "cv_results_f1_weighted = []\n",
    "    \n",
    "cv_fold = KFold(n_splits=5, random_state=0, shuffle=True)\n",
    "for train_index, test_index in cv_fold.split(X):\n",
    "    X_cv_train = X_tfidf[train_index,:]\n",
    "    X_cv_test = X_tfidf[test_index,:]\n",
    "    \n",
    "    y_cv_train = y[train_index]\n",
    "    y_cv_test = y[test_index]\n",
    "    \n",
    "    y_cv_test_pred = nn_fit_and_predict(X_cv_train, y_cv_train, X_cv_test, y_cv_test)\n",
    "    \n",
    "    cv_results_accuracy.append(accuracy_score(y_cv_test, y_cv_test_pred))\n",
    "    cv_results_balanced_accuracy.append(balanced_accuracy_score(y_cv_test, y_cv_test_pred))\n",
    "    cv_results_f1_weighted.append(f1_score(y_cv_test, y_cv_test_pred, average='weighted'))\n",
    "    \n",
    "cv_results = {\n",
    "    'Type': 'MLP',\n",
    "    'accuracy': np.array(cv_results_accuracy).mean(),\n",
    "    'accuracy_sd': np.std(np.array(cv_results_accuracy)),\n",
    "    'balanced_accuracy': np.array(cv_results_balanced_accuracy).mean(),\n",
    "    'balanced_accuracy_sd': np.std(np.array(cv_results_balanced_accuracy)),\n",
    "    'f1_weighted': np.array(cv_results_f1_weighted).mean(),\n",
    "    'f1_weighted_sd': np.std(np.array(cv_results_f1_weighted)),\n",
    "}\n",
    "print(cv_results)\n"
   ]
  },
  {
   "cell_type": "markdown",
   "metadata": {},
   "source": [
    "## Predict on Test dataset"
   ]
  },
  {
   "cell_type": "code",
   "execution_count": 91,
   "metadata": {
    "scrolled": false
   },
   "outputs": [
    {
     "name": "stdout",
     "output_type": "stream",
     "text": [
      "epoch:  0  loss:  3.9119277000427246  accuracy:  0.017333333333333333\n",
      "epoch:  1  loss:  3.8864293098449707  accuracy:  0.05333333333333334\n",
      "epoch:  2  loss:  3.8471179008483887  accuracy:  0.050666666666666665\n",
      "epoch:  3  loss:  3.7982490062713623  accuracy:  0.068\n",
      "epoch:  4  loss:  3.727299451828003  accuracy:  0.14\n",
      "epoch:  5  loss:  3.6466801166534424  accuracy:  0.5613333333333334\n",
      "epoch:  6  loss:  3.5548970699310303  accuracy:  0.892\n",
      "epoch:  7  loss:  3.4599413871765137  accuracy:  0.952\n",
      "epoch:  8  loss:  3.371763229370117  accuracy:  0.968\n",
      "epoch:  9  loss:  3.291778326034546  accuracy:  0.9733333333333334\n",
      "epoch:  10  loss:  3.221938133239746  accuracy:  0.9826666666666667\n",
      "epoch:  11  loss:  3.1609690189361572  accuracy:  0.9866666666666667\n",
      "epoch:  12  loss:  3.110227584838867  accuracy:  0.9893333333333333\n",
      "epoch:  13  loss:  3.0681755542755127  accuracy:  0.9893333333333333\n",
      "epoch:  14  loss:  3.036515235900879  accuracy:  0.9893333333333333\n",
      "epoch:  15  loss:  3.012455940246582  accuracy:  0.9893333333333333\n",
      "epoch:  16  loss:  2.9954328536987305  accuracy:  0.9933333333333333\n",
      "epoch:  17  loss:  2.9820144176483154  accuracy:  1.0\n",
      "epoch:  18  loss:  2.974500894546509  accuracy:  1.0\n",
      "epoch:  19  loss:  2.966979742050171  accuracy:  1.0\n",
      "epoch:  20  loss:  2.9625144004821777  accuracy:  1.0\n",
      "epoch:  21  loss:  2.959460973739624  accuracy:  1.0\n",
      "epoch:  22  loss:  2.9561872482299805  accuracy:  1.0\n",
      "epoch:  23  loss:  2.95363187789917  accuracy:  1.0\n",
      "epoch:  24  loss:  2.952576160430908  accuracy:  1.0\n",
      "epoch:  25  loss:  2.9507346153259277  accuracy:  1.0\n",
      "epoch:  26  loss:  2.9493980407714844  accuracy:  1.0\n",
      "epoch:  27  loss:  2.9487645626068115  accuracy:  1.0\n",
      "epoch:  28  loss:  2.948112964630127  accuracy:  1.0\n",
      "epoch:  29  loss:  2.9474918842315674  accuracy:  1.0\n",
      "epoch:  30  loss:  2.947108030319214  accuracy:  1.0\n",
      "epoch:  31  loss:  2.946887731552124  accuracy:  1.0\n",
      "epoch:  32  loss:  2.94673752784729  accuracy:  1.0\n",
      "epoch:  33  loss:  2.9466123580932617  accuracy:  1.0\n",
      "epoch:  34  loss:  2.9465010166168213  accuracy:  1.0\n",
      "epoch:  35  loss:  2.9464051723480225  accuracy:  1.0\n",
      "epoch:  36  loss:  2.946321964263916  accuracy:  1.0\n",
      "epoch:  37  loss:  2.946254253387451  accuracy:  1.0\n",
      "epoch:  38  loss:  2.946200132369995  accuracy:  1.0\n",
      "epoch:  39  loss:  2.9461545944213867  accuracy:  1.0\n",
      "epoch:  40  loss:  2.9461216926574707  accuracy:  1.0\n",
      "epoch:  41  loss:  2.946094036102295  accuracy:  1.0\n",
      "epoch:  42  loss:  2.9460699558258057  accuracy:  1.0\n",
      "epoch:  43  loss:  2.9460504055023193  accuracy:  1.0\n",
      "epoch:  44  loss:  2.946035861968994  accuracy:  1.0\n",
      "epoch:  45  loss:  2.94602108001709  accuracy:  1.0\n",
      "epoch:  46  loss:  2.946009874343872  accuracy:  1.0\n",
      "epoch:  47  loss:  2.9460010528564453  accuracy:  1.0\n",
      "epoch:  48  loss:  2.9459922313690186  accuracy:  1.0\n",
      "epoch:  49  loss:  2.9459853172302246  accuracy:  1.0\n"
     ]
    }
   ],
   "source": [
    "import torch \n",
    "import torch.nn as nn\n",
    "from sklearn.metrics import accuracy_score\n",
    "\n",
    "nX = torch.from_numpy(X_tfidf.todense()).float()\n",
    "ny = torch.from_numpy(y)\n",
    "\n",
    "\n",
    "nX_test = torch.from_numpy(X_test_tfidf.todense()).float()\n",
    "\n",
    "model = create_model()\n",
    "\n",
    "criterion = nn.CrossEntropyLoss()\n",
    "optimizer = torch.optim.Adam(model.parameters(), lr = 0.01)\n",
    "\n",
    "for epoch in range(50):\n",
    "    y_pred = model(nX)\n",
    "\n",
    "    loss = criterion(y_pred, ny)\n",
    "    \n",
    "    y_pred_a = torch.argmax(y_pred, dim=1).detach().numpy()\n",
    "    accuracy = accuracy_score(y_pred_a, ny)\n",
    "    \n",
    "    print('epoch: ', epoch,' loss: ', loss.item(),' accuracy: ', accuracy)\n",
    "\n",
    "    optimizer.zero_grad()\n",
    "    loss.backward()\n",
    "    optimizer.step()\n"
   ]
  },
  {
   "cell_type": "markdown",
   "metadata": {},
   "source": [
    "## Predict Solution"
   ]
  },
  {
   "cell_type": "code",
   "execution_count": 92,
   "metadata": {},
   "outputs": [
    {
     "data": {
      "text/plain": [
       "array([36, 38, 17, 43,  1, 10,  8, 30, 27, 27, 29, 20, 34, 22, 49, 44,  0,\n",
       "       45, 22, 46, 16, 32, 26, 11, 24, 23, 47, 24, 11, 42, 35, 19, 29, 15,\n",
       "       35, 27, 10, 30, 27, 47, 21,  4,  8, 13, 46, 32, 21, 33, 45, 23, 25,\n",
       "        7,  6, 15, 21, 41, 31, 48, 23,  1, 29, 17,  7, 40, 10,  9, 16, 18,\n",
       "       45, 39, 28, 30, 34, 36, 32, 29, 25, 21,  6, 32, 45, 25, 36,  6, 40,\n",
       "        1, 24, 32, 43, 31, 27, 31, 44, 39, 45,  3, 46, 18, 37, 45, 49, 26,\n",
       "       43, 44, 24, 26, 10, 46, 29, 35, 20,  3, 39, 44,  6, 49, 37, 13, 44,\n",
       "       31,  6, 30, 42, 31, 28, 28, 13, 25, 41, 18, 48,  1, 21, 18, 17,  8,\n",
       "       34, 19, 17, 22,  2, 12, 39, 33, 29, 38, 35, 20, 14,  1, 26, 42, 31,\n",
       "       45, 42, 25, 43, 34, 20, 29, 45, 48, 24, 40, 39, 36, 46, 46, 22, 17,\n",
       "       35, 29, 45, 34,  4, 18, 39, 35,  2, 29,  8, 41, 14, 42, 17, 42, 41,\n",
       "       30, 47, 21, 11, 22, 15, 17,  2, 26, 24, 41, 15, 28, 19, 21, 28, 31,\n",
       "       39, 24, 36, 15,  6, 12, 45, 41, 39, 44, 17, 15, 47, 27, 42, 37, 15,\n",
       "       10, 33, 45, 23, 10, 30, 36, 30, 46, 17,  1, 46, 48, 33, 31, 25, 26,\n",
       "       12, 28, 15,  4, 43, 46, 34, 20, 37, 28, 48, 46, 39, 36, 38, 16, 20,\n",
       "       16, 25, 34, 31, 39, 21,  7, 33, 26,  2, 14, 30,  5, 20, 46, 29, 14,\n",
       "       42, 49, 24, 30, 33, 26,  4, 24, 27, 41, 45, 41,  0, 10, 12, 40, 13,\n",
       "       20, 44, 45, 32,  1,  1,  6, 40,  8, 37, 33, 17,  1,  6,  1, 28,  6,\n",
       "        1,  6, 30, 39,  3,  4, 45, 19, 30, 42,  8, 24, 47, 34, 22, 49, 43,\n",
       "       36, 34, 20, 27, 19, 22, 41, 23, 30, 36, 19, 33, 12, 29,  4, 30, 23,\n",
       "       43, 24, 25, 45, 13, 22, 18, 40, 35,  5, 47, 28, 34, 48, 44, 20, 47,\n",
       "       27, 22, 28, 43, 47, 21,  0, 38, 33, 46, 49, 37, 40, 22, 41, 26,  2,\n",
       "       45, 19, 24, 17, 37, 42, 18, 36, 45, 42, 11,  0,  5, 18, 11, 42,  7,\n",
       "       20, 17, 34,  2, 30,  7, 11, 12, 18, 20, 36, 33, 18, 44, 27, 34, 13,\n",
       "       17, 13, 31, 47, 16, 36, 33, 10, 27, 10, 17, 41, 12, 24, 23,  0, 27,\n",
       "       28,  3, 25, 22,  6,  6, 39, 12, 14, 12, 14,  6, 20, 32, 31, 23, 29,\n",
       "        0,  8, 19, 42, 38, 22,  3,  9,  9,  2, 12, 30, 44, 14, 31, 11, 30,\n",
       "        6, 48,  4, 35, 47, 19, 49,  2, 12, 36, 18, 21, 23, 45, 23, 13, 24,\n",
       "       28, 28, 34, 46, 11, 28, 25, 49, 12, 45, 40, 26, 27,  1, 14, 21, 22,\n",
       "       45, 34, 30, 29, 41, 34, 39, 38,  4, 24, 10, 16,  5, 40, 14, 45, 16,\n",
       "       42,  6, 22, 47, 43,  6, 28,  4,  6, 35,  4, 45, 12, 37, 31, 35, 19,\n",
       "       18, 36, 47, 33, 44, 13, 49, 27,  2, 18, 38, 19, 42, 10, 19, 25, 32,\n",
       "       49,  0, 39, 29, 12, 34, 31, 20, 43, 48,  4, 36, 35,  0, 25, 21, 36,\n",
       "       18,  0, 24, 34, 26, 15, 46,  5, 44, 47,  6, 26, 44,  4, 41,  4, 47,\n",
       "       41, 31, 32, 14, 41, 33, 14, 37, 17, 25, 48, 38, 29, 45, 44, 32, 27,\n",
       "        8, 45, 45, 18,  0, 37, 23, 14, 39, 32, 24, 34, 21, 24, 47, 36, 23,\n",
       "       36, 42, 20, 13,  3, 12,  5,  4, 45,  5, 18,  1, 34, 38, 47, 28, 11,\n",
       "       47, 25, 44, 14, 46, 45,  6, 35, 21,  7, 44,  0, 25,  1, 11,  8, 29,\n",
       "       42, 20, 45,  8, 41, 37, 35, 34, 34, 27,  1, 40, 43, 48, 17, 26, 14,\n",
       "       43, 27, 37, 21, 22,  1, 25, 30, 19, 41, 44, 42, 15, 47, 18, 14, 15,\n",
       "       15, 36,  0, 25, 28, 47, 40, 40, 48, 34, 46, 45, 48, 10, 45, 41, 41,\n",
       "       21,  5,  1, 25,  6, 18, 10, 42, 18, 40, 43, 10,  2,  1, 34, 42, 22,\n",
       "       47, 21, 15,  3, 47, 25, 26,  8, 40, 37, 20, 20, 10,  9, 29,  0, 13,\n",
       "        1,  0, 35, 41,  5, 16,  0, 10, 48, 16, 17,  6,  3, 14, 42,  1, 26,\n",
       "        2, 37])"
      ]
     },
     "execution_count": 92,
     "metadata": {},
     "output_type": "execute_result"
    }
   ],
   "source": [
    "# Predict\n",
    "y_output = model(nX_test)\n",
    "y_prediction = torch.argmax(y_output, dim=1).detach().numpy()\n",
    "y_prediction"
   ]
  },
  {
   "cell_type": "code",
   "execution_count": 93,
   "metadata": {},
   "outputs": [
    {
     "data": {
      "text/html": [
       "<div>\n",
       "<style scoped>\n",
       "    .dataframe tbody tr th:only-of-type {\n",
       "        vertical-align: middle;\n",
       "    }\n",
       "\n",
       "    .dataframe tbody tr th {\n",
       "        vertical-align: top;\n",
       "    }\n",
       "\n",
       "    .dataframe thead th {\n",
       "        text-align: right;\n",
       "    }\n",
       "</style>\n",
       "<table border=\"1\" class=\"dataframe\">\n",
       "  <thead>\n",
       "    <tr style=\"text-align: right;\">\n",
       "      <th></th>\n",
       "      <th>Class</th>\n",
       "    </tr>\n",
       "    <tr>\n",
       "      <th>ID</th>\n",
       "      <th></th>\n",
       "    </tr>\n",
       "  </thead>\n",
       "  <tbody>\n",
       "    <tr>\n",
       "      <th>750</th>\n",
       "      <td>Blankenship</td>\n",
       "    </tr>\n",
       "    <tr>\n",
       "      <th>751</th>\n",
       "      <td>Hayes</td>\n",
       "    </tr>\n",
       "    <tr>\n",
       "      <th>752</th>\n",
       "      <td>Goonan</td>\n",
       "    </tr>\n",
       "    <tr>\n",
       "      <th>753</th>\n",
       "      <td>Dent</td>\n",
       "    </tr>\n",
       "    <tr>\n",
       "      <th>754</th>\n",
       "      <td>Engineer</td>\n",
       "    </tr>\n",
       "    <tr>\n",
       "      <th>...</th>\n",
       "      <td>...</td>\n",
       "    </tr>\n",
       "    <tr>\n",
       "      <th>1495</th>\n",
       "      <td>Corn</td>\n",
       "    </tr>\n",
       "    <tr>\n",
       "      <th>1496</th>\n",
       "      <td>Engineer</td>\n",
       "    </tr>\n",
       "    <tr>\n",
       "      <th>1497</th>\n",
       "      <td>Lawyeraau</td>\n",
       "    </tr>\n",
       "    <tr>\n",
       "      <th>1498</th>\n",
       "      <td>Grove</td>\n",
       "    </tr>\n",
       "    <tr>\n",
       "      <th>1499</th>\n",
       "      <td>Janson</td>\n",
       "    </tr>\n",
       "  </tbody>\n",
       "</table>\n",
       "<p>750 rows × 1 columns</p>\n",
       "</div>"
      ],
      "text/plain": [
       "            Class\n",
       "ID               \n",
       "750   Blankenship\n",
       "751         Hayes\n",
       "752        Goonan\n",
       "753          Dent\n",
       "754      Engineer\n",
       "...           ...\n",
       "1495         Corn\n",
       "1496     Engineer\n",
       "1497    Lawyeraau\n",
       "1498        Grove\n",
       "1499       Janson\n",
       "\n",
       "[750 rows x 1 columns]"
      ]
     },
     "metadata": {},
     "output_type": "display_data"
    },
    {
     "data": {
      "image/png": "[encoded data removed]",
      "text/plain": [
       "<Figure size 1152x576 with 1 Axes>"
      ]
     },
     "metadata": {
      "needs_background": "light"
     },
     "output_type": "display_data"
    }
   ],
   "source": [
    "df_solution_test = pd.DataFrame(df_data_test['ID'])\n",
    "df_solution_test['Class'] = [class_index[p] for p in y_prediction]\n",
    "df_solution_test = df_solution_test.set_index('ID')\n",
    "\n",
    "df_solution_test.to_csv('solution_test_nn.csv')\n",
    "\n",
    "display(df_solution_test)\n",
    "\n",
    "\n",
    "# Class distribution\n",
    "fig = plt.figure(figsize=(16,8))\n",
    "df_solution_test['Class'].value_counts().plot(kind='bar')\n",
    "plt.show()"
   ]
  },
  {
   "cell_type": "markdown",
   "metadata": {},
   "source": [
    "## VotingClassifier¶"
   ]
  },
  {
   "cell_type": "markdown",
   "metadata": {},
   "source": [
    "#### SVC"
   ]
  },
  {
   "cell_type": "code",
   "execution_count": 53,
   "metadata": {},
   "outputs": [
    {
     "data": {
      "text/plain": [
       "array([[1.22700544e-05, 1.83871601e-04, 7.30216406e-03, ...,\n",
       "        6.58552736e-05, 3.79377350e-05, 3.01355075e-05],\n",
       "       [3.01771024e-05, 3.18205443e-04, 8.58248498e-04, ...,\n",
       "        2.61653207e-04, 2.00459522e-04, 7.06157847e-03],\n",
       "       [6.71203206e-05, 1.40674432e-03, 1.07459275e-03, ...,\n",
       "        2.44275431e-04, 1.68137236e-04, 4.17696232e-03],\n",
       "       ...,\n",
       "       [1.66431744e-03, 7.60264047e-04, 3.76949300e-03, ...,\n",
       "        1.24807555e-04, 1.71515396e-03, 2.26585706e-03],\n",
       "       [2.02023167e-02, 2.75908106e-04, 7.45770681e-01, ...,\n",
       "        1.85814713e-03, 1.01799229e-02, 1.70826913e-04],\n",
       "       [5.25433846e-03, 6.11026454e-04, 2.97593162e-03, ...,\n",
       "        1.32511065e-05, 3.53072768e-04, 1.26105351e-04]])"
      ]
     },
     "execution_count": 53,
     "metadata": {},
     "output_type": "execute_result"
    }
   ],
   "source": [
    "from sklearn.multiclass import OneVsRestClassifier\n",
    "from sklearn.svm import SVC\n",
    "\n",
    "# SVC (TF-IDF)\n",
    "c = OneVsRestClassifier(SVC(C=9.75, kernel='rbf', probability=True))\n",
    "c.fit(X_tfidf, y)\n",
    "\n",
    "# Predict\n",
    "y_prediction_svc = c.predict_proba(X_test_tfidf)\n",
    "y_prediction_svc"
   ]
  },
  {
   "cell_type": "code",
   "execution_count": 54,
   "metadata": {},
   "outputs": [
    {
     "data": {
      "text/plain": [
       "0.9999999999999998"
      ]
     },
     "execution_count": 54,
     "metadata": {},
     "output_type": "execute_result"
    }
   ],
   "source": [
    "np.sum(y_prediction_svc[0])"
   ]
  },
  {
   "cell_type": "markdown",
   "metadata": {},
   "source": [
    "#### Random Forest"
   ]
  },
  {
   "cell_type": "code",
   "execution_count": 29,
   "metadata": {},
   "outputs": [
    {
     "data": {
      "text/plain": [
       "array([[0.0095498 , 0.0095498 , 0.01500682, ..., 0.        , 0.00682128,\n",
       "        0.00136426],\n",
       "       [0.02131783, 0.00581395, 0.02131783, ..., 0.00968992, 0.00387597,\n",
       "        0.01356589],\n",
       "       [0.00290684, 0.01733786, 0.01733786, ..., 0.01155857, 0.01444822,\n",
       "        0.0202275 ],\n",
       "       ...,\n",
       "       [0.00263817, 0.00527633, 0.03165799, ..., 0.        , 0.0079145 ,\n",
       "        0.00527633],\n",
       "       [0.05711541, 0.00316404, 0.08542914, ..., 0.01898425, 0.01898425,\n",
       "        0.00632808],\n",
       "       [0.0394921 , 0.00631723, 0.01737239, ..., 0.00473792, 0.00157931,\n",
       "        0.01421377]])"
      ]
     },
     "execution_count": 29,
     "metadata": {},
     "output_type": "execute_result"
    }
   ],
   "source": [
    "from sklearn.ensemble import RandomForestClassifier\n",
    "\n",
    "# RandomForest (TF-IDF)\n",
    "c = OneVsRestClassifier(RandomForestClassifier(n_estimators=500, max_depth=10, criterion='entropy'))\n",
    "c.fit(X_tfidf, y)\n",
    "\n",
    "# Predict\n",
    "y_prediction_rf = c.predict_proba(X_test_tfidf)\n",
    "y_prediction_rf"
   ]
  },
  {
   "cell_type": "code",
   "execution_count": 30,
   "metadata": {},
   "outputs": [
    {
     "data": {
      "text/plain": [
       "0.9999999999999996"
      ]
     },
     "execution_count": 30,
     "metadata": {},
     "output_type": "execute_result"
    }
   ],
   "source": [
    "np.sum(y_prediction_rf[0])"
   ]
  },
  {
   "cell_type": "markdown",
   "metadata": {},
   "source": [
    "#### MLP"
   ]
  },
  {
   "cell_type": "code",
   "execution_count": 31,
   "metadata": {},
   "outputs": [
    {
     "name": "stdout",
     "output_type": "stream",
     "text": [
      "0.99999994\n"
     ]
    }
   ],
   "source": [
    "def normalize_output(array_in):\n",
    "    norm = np.linalg.norm(array_in, ord=1)\n",
    "    return array_in/norm\n",
    "\n",
    "y_prediction_nn = normalize_output(y_output[0].detach().numpy())\n",
    "print(np.sum(y_prediction_nn))"
   ]
  },
  {
   "cell_type": "code",
   "execution_count": 98,
   "metadata": {
    "scrolled": false
   },
   "outputs": [
    {
     "data": {
      "text/html": [
       "<div>\n",
       "<style scoped>\n",
       "    .dataframe tbody tr th:only-of-type {\n",
       "        vertical-align: middle;\n",
       "    }\n",
       "\n",
       "    .dataframe tbody tr th {\n",
       "        vertical-align: top;\n",
       "    }\n",
       "\n",
       "    .dataframe thead th {\n",
       "        text-align: right;\n",
       "    }\n",
       "</style>\n",
       "<table border=\"1\" class=\"dataframe\">\n",
       "  <thead>\n",
       "    <tr style=\"text-align: right;\">\n",
       "      <th></th>\n",
       "      <th>nn_max</th>\n",
       "      <th>nn_max_idx</th>\n",
       "      <th>rf_max</th>\n",
       "      <th>rf_max_idx</th>\n",
       "      <th>svc_max</th>\n",
       "      <th>svc_max_idx</th>\n",
       "      <th>vote_max</th>\n",
       "      <th>vote_max_idx</th>\n",
       "    </tr>\n",
       "  </thead>\n",
       "  <tbody>\n",
       "    <tr>\n",
       "      <th>9</th>\n",
       "      <td>0.952351</td>\n",
       "      <td>27.0</td>\n",
       "      <td>0.078200</td>\n",
       "      <td>47.0</td>\n",
       "      <td>0.435220</td>\n",
       "      <td>27.0</td>\n",
       "      <td>1.387571</td>\n",
       "      <td>27.0</td>\n",
       "    </tr>\n",
       "    <tr>\n",
       "      <th>12</th>\n",
       "      <td>0.304616</td>\n",
       "      <td>34.0</td>\n",
       "      <td>0.066119</td>\n",
       "      <td>0.0</td>\n",
       "      <td>0.379854</td>\n",
       "      <td>3.0</td>\n",
       "      <td>0.412722</td>\n",
       "      <td>3.0</td>\n",
       "    </tr>\n",
       "    <tr>\n",
       "      <th>15</th>\n",
       "      <td>0.883773</td>\n",
       "      <td>44.0</td>\n",
       "      <td>0.058106</td>\n",
       "      <td>29.0</td>\n",
       "      <td>0.495009</td>\n",
       "      <td>42.0</td>\n",
       "      <td>0.958397</td>\n",
       "      <td>44.0</td>\n",
       "    </tr>\n",
       "    <tr>\n",
       "      <th>16</th>\n",
       "      <td>0.240137</td>\n",
       "      <td>0.0</td>\n",
       "      <td>0.039857</td>\n",
       "      <td>21.0</td>\n",
       "      <td>0.254991</td>\n",
       "      <td>4.0</td>\n",
       "      <td>0.376456</td>\n",
       "      <td>4.0</td>\n",
       "    </tr>\n",
       "    <tr>\n",
       "      <th>19</th>\n",
       "      <td>0.907796</td>\n",
       "      <td>46.0</td>\n",
       "      <td>0.062778</td>\n",
       "      <td>0.0</td>\n",
       "      <td>0.304144</td>\n",
       "      <td>46.0</td>\n",
       "      <td>1.211941</td>\n",
       "      <td>46.0</td>\n",
       "    </tr>\n",
       "    <tr>\n",
       "      <th>...</th>\n",
       "      <td>...</td>\n",
       "      <td>...</td>\n",
       "      <td>...</td>\n",
       "      <td>...</td>\n",
       "      <td>...</td>\n",
       "      <td>...</td>\n",
       "      <td>...</td>\n",
       "      <td>...</td>\n",
       "    </tr>\n",
       "    <tr>\n",
       "      <th>736</th>\n",
       "      <td>0.158773</td>\n",
       "      <td>16.0</td>\n",
       "      <td>0.070093</td>\n",
       "      <td>33.0</td>\n",
       "      <td>0.269460</td>\n",
       "      <td>24.0</td>\n",
       "      <td>0.290001</td>\n",
       "      <td>24.0</td>\n",
       "    </tr>\n",
       "    <tr>\n",
       "      <th>744</th>\n",
       "      <td>0.772241</td>\n",
       "      <td>14.0</td>\n",
       "      <td>0.062356</td>\n",
       "      <td>16.0</td>\n",
       "      <td>0.420014</td>\n",
       "      <td>16.0</td>\n",
       "      <td>0.948736</td>\n",
       "      <td>14.0</td>\n",
       "    </tr>\n",
       "    <tr>\n",
       "      <th>745</th>\n",
       "      <td>0.606828</td>\n",
       "      <td>42.0</td>\n",
       "      <td>0.062022</td>\n",
       "      <td>28.0</td>\n",
       "      <td>0.496044</td>\n",
       "      <td>42.0</td>\n",
       "      <td>1.102872</td>\n",
       "      <td>42.0</td>\n",
       "    </tr>\n",
       "    <tr>\n",
       "      <th>746</th>\n",
       "      <td>0.523986</td>\n",
       "      <td>1.0</td>\n",
       "      <td>0.067974</td>\n",
       "      <td>23.0</td>\n",
       "      <td>0.349634</td>\n",
       "      <td>34.0</td>\n",
       "      <td>0.709551</td>\n",
       "      <td>1.0</td>\n",
       "    </tr>\n",
       "    <tr>\n",
       "      <th>749</th>\n",
       "      <td>0.770734</td>\n",
       "      <td>37.0</td>\n",
       "      <td>0.078965</td>\n",
       "      <td>13.0</td>\n",
       "      <td>0.673883</td>\n",
       "      <td>37.0</td>\n",
       "      <td>1.444617</td>\n",
       "      <td>37.0</td>\n",
       "    </tr>\n",
       "  </tbody>\n",
       "</table>\n",
       "<p>247 rows × 8 columns</p>\n",
       "</div>"
      ],
      "text/plain": [
       "       nn_max  nn_max_idx    rf_max  rf_max_idx   svc_max  svc_max_idx  \\\n",
       "9    0.952351        27.0  0.078200        47.0  0.435220         27.0   \n",
       "12   0.304616        34.0  0.066119         0.0  0.379854          3.0   \n",
       "15   0.883773        44.0  0.058106        29.0  0.495009         42.0   \n",
       "16   0.240137         0.0  0.039857        21.0  0.254991          4.0   \n",
       "19   0.907796        46.0  0.062778         0.0  0.304144         46.0   \n",
       "..        ...         ...       ...         ...       ...          ...   \n",
       "736  0.158773        16.0  0.070093        33.0  0.269460         24.0   \n",
       "744  0.772241        14.0  0.062356        16.0  0.420014         16.0   \n",
       "745  0.606828        42.0  0.062022        28.0  0.496044         42.0   \n",
       "746  0.523986         1.0  0.067974        23.0  0.349634         34.0   \n",
       "749  0.770734        37.0  0.078965        13.0  0.673883         37.0   \n",
       "\n",
       "     vote_max  vote_max_idx  \n",
       "9    1.387571          27.0  \n",
       "12   0.412722           3.0  \n",
       "15   0.958397          44.0  \n",
       "16   0.376456           4.0  \n",
       "19   1.211941          46.0  \n",
       "..        ...           ...  \n",
       "736  0.290001          24.0  \n",
       "744  0.948736          14.0  \n",
       "745  1.102872          42.0  \n",
       "746  0.709551           1.0  \n",
       "749  1.444617          37.0  \n",
       "\n",
       "[247 rows x 8 columns]"
      ]
     },
     "metadata": {},
     "output_type": "display_data"
    }
   ],
   "source": [
    "y_prediction_vote = []\n",
    "\n",
    "\n",
    "df_voting = pd.DataFrame()\n",
    "for i in range(0, len(y_prediction_rf)):\n",
    "    y_prediction_svc_v = y_prediction_svc[i]\n",
    "    max_idx_svc = np.argmax(y_prediction_svc_v)\n",
    "    max_pred_svc = y_prediction_svc_v[max_idx_svc]\n",
    "    \n",
    "    y_prediction_rf_v = y_prediction_rf[i]\n",
    "    max_idx_rf = np.argmax(y_prediction_rf_v)\n",
    "    max_pred_rf = y_prediction_rf_v[max_idx_rf]\n",
    "    \n",
    "    \n",
    "    y_prediction_nn_v = normalize_output(y_output[i].detach().numpy())\n",
    "    max_idx_nn = np.argmax(y_prediction_nn_v)\n",
    "    max_pred_nn = y_prediction_nn_v[max_idx_nn]\n",
    "\n",
    "    a = 1.0 # weight SVC\n",
    "    b = 0.0 # weight RF\n",
    "    c = 1.0 # weight NN\n",
    "    \n",
    "    y_prediction_vote_v = [y_prediction_svc_v[idx] * a + y_prediction_rf_v[idx] * b + y_prediction_nn_v[idx] * c for idx in range(0, len(y_prediction_rf_v))]\n",
    "    \n",
    "    max_idx_vote = np.argmax(y_prediction_vote_v)\n",
    "    max_pred_vote = y_prediction_vote_v[max_idx_vote]\n",
    "    \n",
    "    y_prediction_vote.append(max_idx_vote)\n",
    "    \n",
    "    df_voting = df_voting.append({\n",
    "        'svc_max_idx': max_idx_svc,\n",
    "        'svc_max': max_pred_svc,\n",
    "        'rf_max_idx': max_idx_rf,\n",
    "        'rf_max': max_pred_rf,\n",
    "        'nn_max_idx': max_idx_nn,\n",
    "        'nn_max': max_pred_nn,\n",
    "        'vote_max_idx': max_idx_vote,\n",
    "        'vote_max': max_pred_vote\n",
    "    }, ignore_index=True)\n",
    "    \n",
    "df_voting.to_csv('voting_test.csv')\n",
    "\n",
    "display(df_voting[df_voting['nn_max_idx'] != df_voting['rf_max_idx']])\n",
    "\n",
    "df_voting[df_voting['nn_max_idx'] != df_voting['rf_max_idx']].to_csv('voting_test_diff.csv')"
   ]
  },
  {
   "cell_type": "code",
   "execution_count": 99,
   "metadata": {},
   "outputs": [
    {
     "data": {
      "text/html": [
       "<div>\n",
       "<style scoped>\n",
       "    .dataframe tbody tr th:only-of-type {\n",
       "        vertical-align: middle;\n",
       "    }\n",
       "\n",
       "    .dataframe tbody tr th {\n",
       "        vertical-align: top;\n",
       "    }\n",
       "\n",
       "    .dataframe thead th {\n",
       "        text-align: right;\n",
       "    }\n",
       "</style>\n",
       "<table border=\"1\" class=\"dataframe\">\n",
       "  <thead>\n",
       "    <tr style=\"text-align: right;\">\n",
       "      <th></th>\n",
       "      <th>Class</th>\n",
       "    </tr>\n",
       "    <tr>\n",
       "      <th>ID</th>\n",
       "      <th></th>\n",
       "    </tr>\n",
       "  </thead>\n",
       "  <tbody>\n",
       "    <tr>\n",
       "      <th>750</th>\n",
       "      <td>Blankenship</td>\n",
       "    </tr>\n",
       "    <tr>\n",
       "      <th>751</th>\n",
       "      <td>Hayes</td>\n",
       "    </tr>\n",
       "    <tr>\n",
       "      <th>752</th>\n",
       "      <td>Goonan</td>\n",
       "    </tr>\n",
       "    <tr>\n",
       "      <th>753</th>\n",
       "      <td>Dent</td>\n",
       "    </tr>\n",
       "    <tr>\n",
       "      <th>754</th>\n",
       "      <td>Engineer</td>\n",
       "    </tr>\n",
       "    <tr>\n",
       "      <th>...</th>\n",
       "      <td>...</td>\n",
       "    </tr>\n",
       "    <tr>\n",
       "      <th>1495</th>\n",
       "      <td>Corn</td>\n",
       "    </tr>\n",
       "    <tr>\n",
       "      <th>1496</th>\n",
       "      <td>Engineer</td>\n",
       "    </tr>\n",
       "    <tr>\n",
       "      <th>1497</th>\n",
       "      <td>Lawyeraau</td>\n",
       "    </tr>\n",
       "    <tr>\n",
       "      <th>1498</th>\n",
       "      <td>Grove</td>\n",
       "    </tr>\n",
       "    <tr>\n",
       "      <th>1499</th>\n",
       "      <td>Janson</td>\n",
       "    </tr>\n",
       "  </tbody>\n",
       "</table>\n",
       "<p>750 rows × 1 columns</p>\n",
       "</div>"
      ],
      "text/plain": [
       "            Class\n",
       "ID               \n",
       "750   Blankenship\n",
       "751         Hayes\n",
       "752        Goonan\n",
       "753          Dent\n",
       "754      Engineer\n",
       "...           ...\n",
       "1495         Corn\n",
       "1496     Engineer\n",
       "1497    Lawyeraau\n",
       "1498        Grove\n",
       "1499       Janson\n",
       "\n",
       "[750 rows x 1 columns]"
      ]
     },
     "metadata": {},
     "output_type": "display_data"
    },
    {
     "data": {
      "image/png": "[encoded data removed]",
      "text/plain": [
       "<Figure size 1152x576 with 1 Axes>"
      ]
     },
     "metadata": {
      "needs_background": "light"
     },
     "output_type": "display_data"
    }
   ],
   "source": [
    "df_voting_solution_test = pd.DataFrame(df_data_test['ID'])\n",
    "df_voting_solution_test['Class'] = [class_index[p] for p in y_prediction_vote]\n",
    "df_voting_solution_test = df_voting_solution_test.set_index('ID')\n",
    "df_voting_solution_test\n",
    "\n",
    "df_voting_solution_test.to_csv('solution_test_vote.csv')\n",
    "\n",
    "display(df_voting_solution_test)\n",
    "\n",
    "\n",
    "# Class distribution\n",
    "fig = plt.figure(figsize=(16,8))\n",
    "df_voting_solution_test['Class'].value_counts().plot(kind='bar')\n",
    "plt.show()"
   ]
  }
 ],
 "metadata": {
  "kernelspec": {
   "display_name": "Python 3",
   "language": "python",
   "name": "python3"
  },
  "language_info": {
   "codemirror_mode": {
    "name": "ipython",
    "version": 3
   },
   "file_extension": ".py",
   "mimetype": "text/x-python",
   "name": "python",
   "nbconvert_exporter": "python",
   "pygments_lexer": "ipython3",
   "version": "3.7.6"
  }
 },
 "nbformat": 4,
 "nbformat_minor": 2
}
