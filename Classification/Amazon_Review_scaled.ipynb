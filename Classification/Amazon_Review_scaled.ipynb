{
 "cells": [
  {
   "cell_type": "markdown",
   "metadata": {},
   "source": [
    "# Import Libraries"
   ]
  },
  {
   "cell_type": "code",
   "execution_count": 1,
   "metadata": {},
   "outputs": [],
   "source": [
    "import math\n",
    "import random\n",
    "import numpy as np\n",
    "import pandas as pd\n",
    "import sklearn\n",
    "import seaborn as sns\n",
    "import time\n",
    "\n",
    "import matplotlib.pyplot as plt\n",
    "\n",
    "import pickle\n",
    "from functools import partial, update_wrapper\n",
    "\n",
    "def wrapped_partial(func, *args, **kwargs):\n",
    "    partial_func = partial(func, *args, **kwargs)\n",
    "    update_wrapper(partial_func, func)\n",
    "    return partial_func\n",
    "\n",
    "\n",
    "from sklearn import preprocessing\n",
    "from sklearn.model_selection import cross_val_score, cross_validate\n",
    "from sklearn.metrics import classification_report, make_scorer, accuracy_score, balanced_accuracy_score, f1_score\n",
    "from sklearn.pipeline import make_pipeline\n",
    "\n",
    "from sklearn.neighbors import KNeighborsClassifier\n",
    "from sklearn.linear_model import LogisticRegression,SGDClassifier\n",
    "from sklearn.ensemble import RandomForestClassifier\n",
    "from sklearn.svm import SVC\n",
    "from sklearn.svm import NuSVC\n",
    "from sklearn.svm import LinearSVC\n",
    "from sklearn.neural_network import MLPClassifier\n",
    "from sklearn.naive_bayes import MultinomialNB\n",
    "from sklearn.gaussian_process import GaussianProcessClassifier\n",
    "from sklearn.gaussian_process.kernels import RBF,Matern,RationalQuadratic,ExpSineSquared,DotProduct\n",
    "from sklearn.neural_network import MLPClassifier\n",
    "from sklearn.metrics import accuracy_score\n",
    "\n",
    "\n",
    "from sklearn.multiclass import OneVsRestClassifier, OneVsOneClassifier\n",
    "from sklearn.model_selection import RandomizedSearchCV, GridSearchCV, train_test_split"
   ]
  },
  {
   "cell_type": "markdown",
   "metadata": {},
   "source": [
    "# Result storage"
   ]
  },
  {
   "cell_type": "code",
   "execution_count": 2,
   "metadata": {},
   "outputs": [],
   "source": [
    "results_overview = {}\n",
    "predictions_per_model = {}"
   ]
  },
  {
   "cell_type": "markdown",
   "metadata": {},
   "source": [
    "# Data Loading"
   ]
  },
  {
   "cell_type": "code",
   "execution_count": 3,
   "metadata": {},
   "outputs": [],
   "source": [
    "df_data_train = pd.read_csv('amazon_review_ID.shuf.lrn.csv', low_memory=False, sep=',')\n",
    "df_data_res = pd.read_csv('amazon_review_ID.shuf.tes.csv', low_memory=False, sep=',')\n",
    "\n",
    "\n",
    "class_factor = df_data_train['Class'].factorize()\n",
    "class_index = class_factor[1]\n",
    "\n",
    "\n",
    "df_data_train = df_data_train.replace('?', np.nan)\n",
    "# drop the NaN\n",
    "df_data_train = df_data_train.dropna(axis=0, how=\"any\")\n",
    "\n",
    "output_train=df_data_train['Class']\n",
    "\n",
    "X = df_data_train.drop(labels=['Class'], axis=1)\n",
    "\n",
    "X= preprocessing.scale(X)\n",
    "\n",
    "X_train, X_test, y_train, y_test = train_test_split(X, output_train, random_state = 0, test_size=0.33)\n",
    "\n",
    "\n",
    "df_data_res = df_data_res.replace('?', np.nan)\n",
    "# drop the NaN\n",
    "X_res = df_data_res.dropna(axis=0, how=\"any\")\n"
   ]
  },
  {
   "cell_type": "code",
   "execution_count": 4,
   "metadata": {},
   "outputs": [
    {
     "data": {
      "text/html": [
       "<div>\n",
       "<style scoped>\n",
       "    .dataframe tbody tr th:only-of-type {\n",
       "        vertical-align: middle;\n",
       "    }\n",
       "\n",
       "    .dataframe tbody tr th {\n",
       "        vertical-align: top;\n",
       "    }\n",
       "\n",
       "    .dataframe thead th {\n",
       "        text-align: right;\n",
       "    }\n",
       "</style>\n",
       "<table border=\"1\" class=\"dataframe\">\n",
       "  <thead>\n",
       "    <tr style=\"text-align: right;\">\n",
       "      <th></th>\n",
       "      <th>ID</th>\n",
       "      <th>V1</th>\n",
       "      <th>V2</th>\n",
       "      <th>V3</th>\n",
       "      <th>V4</th>\n",
       "      <th>V5</th>\n",
       "      <th>V6</th>\n",
       "      <th>V7</th>\n",
       "      <th>V8</th>\n",
       "      <th>V9</th>\n",
       "      <th>...</th>\n",
       "      <th>V9992</th>\n",
       "      <th>V9993</th>\n",
       "      <th>V9994</th>\n",
       "      <th>V9995</th>\n",
       "      <th>V9996</th>\n",
       "      <th>V9997</th>\n",
       "      <th>V9998</th>\n",
       "      <th>V9999</th>\n",
       "      <th>V10000</th>\n",
       "      <th>Class</th>\n",
       "    </tr>\n",
       "  </thead>\n",
       "  <tbody>\n",
       "    <tr>\n",
       "      <th>0</th>\n",
       "      <td>0</td>\n",
       "      <td>16</td>\n",
       "      <td>8</td>\n",
       "      <td>8</td>\n",
       "      <td>5</td>\n",
       "      <td>7</td>\n",
       "      <td>3</td>\n",
       "      <td>2</td>\n",
       "      <td>4</td>\n",
       "      <td>2</td>\n",
       "      <td>...</td>\n",
       "      <td>0</td>\n",
       "      <td>0</td>\n",
       "      <td>1</td>\n",
       "      <td>0</td>\n",
       "      <td>0</td>\n",
       "      <td>0</td>\n",
       "      <td>0</td>\n",
       "      <td>1</td>\n",
       "      <td>0</td>\n",
       "      <td>Janson</td>\n",
       "    </tr>\n",
       "    <tr>\n",
       "      <th>1</th>\n",
       "      <td>1</td>\n",
       "      <td>15</td>\n",
       "      <td>11</td>\n",
       "      <td>10</td>\n",
       "      <td>9</td>\n",
       "      <td>7</td>\n",
       "      <td>10</td>\n",
       "      <td>3</td>\n",
       "      <td>2</td>\n",
       "      <td>4</td>\n",
       "      <td>...</td>\n",
       "      <td>0</td>\n",
       "      <td>0</td>\n",
       "      <td>0</td>\n",
       "      <td>0</td>\n",
       "      <td>0</td>\n",
       "      <td>0</td>\n",
       "      <td>1</td>\n",
       "      <td>0</td>\n",
       "      <td>0</td>\n",
       "      <td>Robert</td>\n",
       "    </tr>\n",
       "    <tr>\n",
       "      <th>2</th>\n",
       "      <td>2</td>\n",
       "      <td>8</td>\n",
       "      <td>4</td>\n",
       "      <td>4</td>\n",
       "      <td>8</td>\n",
       "      <td>0</td>\n",
       "      <td>3</td>\n",
       "      <td>0</td>\n",
       "      <td>2</td>\n",
       "      <td>1</td>\n",
       "      <td>...</td>\n",
       "      <td>0</td>\n",
       "      <td>0</td>\n",
       "      <td>0</td>\n",
       "      <td>0</td>\n",
       "      <td>0</td>\n",
       "      <td>0</td>\n",
       "      <td>0</td>\n",
       "      <td>0</td>\n",
       "      <td>0</td>\n",
       "      <td>Kolln</td>\n",
       "    </tr>\n",
       "    <tr>\n",
       "      <th>3</th>\n",
       "      <td>3</td>\n",
       "      <td>14</td>\n",
       "      <td>6</td>\n",
       "      <td>11</td>\n",
       "      <td>10</td>\n",
       "      <td>5</td>\n",
       "      <td>7</td>\n",
       "      <td>11</td>\n",
       "      <td>2</td>\n",
       "      <td>6</td>\n",
       "      <td>...</td>\n",
       "      <td>0</td>\n",
       "      <td>0</td>\n",
       "      <td>0</td>\n",
       "      <td>0</td>\n",
       "      <td>0</td>\n",
       "      <td>0</td>\n",
       "      <td>1</td>\n",
       "      <td>0</td>\n",
       "      <td>0</td>\n",
       "      <td>Riley</td>\n",
       "    </tr>\n",
       "    <tr>\n",
       "      <th>4</th>\n",
       "      <td>4</td>\n",
       "      <td>10</td>\n",
       "      <td>7</td>\n",
       "      <td>8</td>\n",
       "      <td>5</td>\n",
       "      <td>15</td>\n",
       "      <td>6</td>\n",
       "      <td>6</td>\n",
       "      <td>3</td>\n",
       "      <td>3</td>\n",
       "      <td>...</td>\n",
       "      <td>0</td>\n",
       "      <td>0</td>\n",
       "      <td>0</td>\n",
       "      <td>0</td>\n",
       "      <td>0</td>\n",
       "      <td>0</td>\n",
       "      <td>1</td>\n",
       "      <td>0</td>\n",
       "      <td>0</td>\n",
       "      <td>Comdet</td>\n",
       "    </tr>\n",
       "  </tbody>\n",
       "</table>\n",
       "<p>5 rows × 10002 columns</p>\n",
       "</div>"
      ],
      "text/plain": [
       "   ID  V1  V2  V3  V4  V5  V6  V7  V8  V9  ...  V9992  V9993  V9994  V9995  \\\n",
       "0   0  16   8   8   5   7   3   2   4   2  ...      0      0      1      0   \n",
       "1   1  15  11  10   9   7  10   3   2   4  ...      0      0      0      0   \n",
       "2   2   8   4   4   8   0   3   0   2   1  ...      0      0      0      0   \n",
       "3   3  14   6  11  10   5   7  11   2   6  ...      0      0      0      0   \n",
       "4   4  10   7   8   5  15   6   6   3   3  ...      0      0      0      0   \n",
       "\n",
       "   V9996  V9997  V9998  V9999  V10000   Class  \n",
       "0      0      0      0      1       0  Janson  \n",
       "1      0      0      1      0       0  Robert  \n",
       "2      0      0      0      0       0   Kolln  \n",
       "3      0      0      1      0       0   Riley  \n",
       "4      0      0      1      0       0  Comdet  \n",
       "\n",
       "[5 rows x 10002 columns]"
      ]
     },
     "execution_count": 4,
     "metadata": {},
     "output_type": "execute_result"
    }
   ],
   "source": [
    "df_data_train.head()"
   ]
  },
  {
   "cell_type": "markdown",
   "metadata": {},
   "source": [
    "## Class Distribution"
   ]
  },
  {
   "cell_type": "code",
   "execution_count": 5,
   "metadata": {},
   "outputs": [
    {
     "data": {
      "image/png": "[encoded data removed]",
      "text/plain": [
       "<Figure size 1152x576 with 1 Axes>"
      ]
     },
     "metadata": {
      "needs_background": "light"
     },
     "output_type": "display_data"
    },
    {
     "data": {
      "text/plain": [
       "McKee          19\n",
       "Harp           18\n",
       "Sherwin        18\n",
       "Nigam          18\n",
       "Comdet         18\n",
       "Janson         18\n",
       "Robert         18\n",
       "Auken          18\n",
       "Dent           17\n",
       "Morrison       17\n",
       "Lee            17\n",
       "Vision         17\n",
       "Lovitt         17\n",
       "Wilson         17\n",
       "Brody          17\n",
       "Brown          17\n",
       "Mark           17\n",
       "Peterson       17\n",
       "Mitchell       16\n",
       "Vernon         16\n",
       "Shea           16\n",
       "Taylor         16\n",
       "Calvinnme      16\n",
       "Walters        16\n",
       "Agresti        15\n",
       "Power          15\n",
       "Goonan         15\n",
       "Ashbacher      15\n",
       "Bukowsky       15\n",
       "Lawyeraau      14\n",
       "Neal           14\n",
       "Hayes          14\n",
       "Messick        14\n",
       "Koenig         14\n",
       "Kolln          14\n",
       "Chachra        14\n",
       "Cutey          14\n",
       "Mahlers2nd     13\n",
       "Grove          13\n",
       "Cholette       13\n",
       "Engineer       13\n",
       "Johnson        12\n",
       "Chell          12\n",
       "CFH            12\n",
       "Chandler       12\n",
       "Merritt        11\n",
       "Corn           11\n",
       "Davisson       10\n",
       "Blankenship    10\n",
       "Riley          10\n",
       "Name: Class, dtype: int64"
      ]
     },
     "metadata": {},
     "output_type": "display_data"
    },
    {
     "data": {
      "text/plain": [
       "50"
      ]
     },
     "metadata": {},
     "output_type": "display_data"
    }
   ],
   "source": [
    "import matplotlib.pyplot as plt\n",
    "fig = plt.figure(figsize=(16,8))\n",
    "output_train.value_counts().plot(kind='bar')\n",
    "plt.show()\n",
    "\n",
    "display(output_train.value_counts())\n",
    "display(len(output_train.value_counts()))"
   ]
  },
  {
   "cell_type": "markdown",
   "metadata": {},
   "source": [
    "## Modelselection"
   ]
  },
  {
   "cell_type": "code",
   "execution_count": 6,
   "metadata": {},
   "outputs": [
    {
     "data": {
      "text/plain": [
       "'models = [SGDClassifier(),KNeighborsClassifier(),GaussianProcessClassifier(),MLPClassifier(),\\n    RandomForestClassifier(n_estimators=200, max_depth=3, random_state=0),\\n    LinearSVC(),\\n    MultinomialNB(),\\n    LogisticRegression(random_state=0),\\n]\\n\\nCV = 5\\ncv_df = pd.DataFrame(index=range(CV * len(models)))\\nentries = []\\nfor model in models:\\n  model_name = model.__class__.__name__\\n  accuracies = cross_val_score(model, X, output_train, scoring=\\'accuracy\\', cv=CV)\\n  for fold_idx, accuracy in enumerate(accuracies):\\n    entries.append((model_name, fold_idx, accuracy))\\ncv_df = pd.DataFrame(entries, columns=[\\'model_name\\', \\'fold_idx\\', \\'accuracy\\'])\\n\\n\\nsns.boxplot(x=\\'model_name\\', y=\\'accuracy\\', data=cv_df)\\nsns.stripplot(x=\\'model_name\\', y=\\'accuracy\\', data=cv_df, \\n              size=8, jitter=True, edgecolor=\"gray\", linewidth=2)\\nplt.show()\\n\\ncv_df.groupby(\\'model_name\\').accuracy.mean()\\n'"
      ]
     },
     "execution_count": 6,
     "metadata": {},
     "output_type": "execute_result"
    }
   ],
   "source": [
    "#do not run again\n",
    "'''models = [SGDClassifier(),KNeighborsClassifier(),GaussianProcessClassifier(),MLPClassifier(),\n",
    "    RandomForestClassifier(n_estimators=200, max_depth=3, random_state=0),\n",
    "    LinearSVC(),\n",
    "    MultinomialNB(),\n",
    "    LogisticRegression(random_state=0),\n",
    "]\n",
    "\n",
    "CV = 5\n",
    "cv_df = pd.DataFrame(index=range(CV * len(models)))\n",
    "entries = []\n",
    "for model in models:\n",
    "  model_name = model.__class__.__name__\n",
    "  accuracies = cross_val_score(model, X, output_train, scoring='accuracy', cv=CV)\n",
    "  for fold_idx, accuracy in enumerate(accuracies):\n",
    "    entries.append((model_name, fold_idx, accuracy))\n",
    "cv_df = pd.DataFrame(entries, columns=['model_name', 'fold_idx', 'accuracy'])\n",
    "\n",
    "\n",
    "sns.boxplot(x='model_name', y='accuracy', data=cv_df)\n",
    "sns.stripplot(x='model_name', y='accuracy', data=cv_df, \n",
    "              size=8, jitter=True, edgecolor=\"gray\", linewidth=2)\n",
    "plt.show()\n",
    "\n",
    "cv_df.groupby('model_name').accuracy.mean()\n",
    "'''"
   ]
  },
  {
   "cell_type": "markdown",
   "metadata": {},
   "source": [
    "# Linear Model"
   ]
  },
  {
   "cell_type": "code",
   "execution_count": 7,
   "metadata": {},
   "outputs": [
    {
     "data": {
      "text/plain": [
       "'clf = LinearSVC()\\n\\nparameter_grid = {\\n    \\'penalty\\': [\\'l2\\', \\'l1\\'],\\n    \\'loss\\': [\\'hinge\\', \\'squared_hinge\\']\\n}\\ncv_grid = GridSearchCV(clf, parameter_grid, cv=3, verbose=10, n_jobs=-1, scoring=[\\'accuracy\\', \\'balanced_accuracy\\', \\'f1_weighted\\'], refit=\\'accuracy\\')\\ncv_grid.fit(X, output_train)\\n\\nprint(\"Best Parameter Choice:\")\\nprint(cv_grid.best_params_)\\n'"
      ]
     },
     "execution_count": 7,
     "metadata": {},
     "output_type": "execute_result"
    }
   ],
   "source": [
    "#do not run again\n",
    "'''clf = LinearSVC()\n",
    "\n",
    "parameter_grid = {\n",
    "    'penalty': ['l2', 'l1'],\n",
    "    'loss': ['hinge', 'squared_hinge']\n",
    "}\n",
    "cv_grid = GridSearchCV(clf, parameter_grid, cv=3, verbose=10, n_jobs=-1, scoring=['accuracy', 'balanced_accuracy', 'f1_weighted'], refit='accuracy')\n",
    "cv_grid.fit(X, output_train)\n",
    "\n",
    "print(\"Best Parameter Choice:\")\n",
    "print(cv_grid.best_params_)\n",
    "'''"
   ]
  },
  {
   "cell_type": "code",
   "execution_count": null,
   "metadata": {},
   "outputs": [],
   "source": [
    "clf = make_pipeline(LinearSVC(loss = 'squared_hinge', penalty = 'l2' ))\n",
    "\n",
    "clf.fit(X, output_train)\n",
    "\n",
    "# CV\n",
    "cv_result = cross_validate(clf, X, output_train, cv=3, scoring = ['accuracy', 'balanced_accuracy', 'f1_weighted'], n_jobs=-1)\n",
    "\n",
    "results_overview['LinearSVC'] = {\n",
    "    'accuracy': cv_result['test_accuracy'].mean(),\n",
    "    'balanced_accuracy': cv_result['test_balanced_accuracy'].mean(),\n",
    "    'f1_weighted': cv_result['test_f1_weighted'].mean(),\n",
    "    'fit_time' : cv_result['fit_time'].mean()\n",
    "    }"
   ]
  },
  {
   "cell_type": "code",
   "execution_count": null,
   "metadata": {
    "scrolled": true
   },
   "outputs": [],
   "source": [
    "clf2 = make_pipeline(LinearSVC(loss = 'squared_hinge', penalty = 'l2' ))\n",
    "\n",
    "clf2.fit(X_train, y_train)\n",
    "\n",
    "results_overview['LinearSVC']['Holdout'] = accuracy_score(y_test,clf2.predict(X_test))\n",
    "\n",
    "display(results_overview)\n",
    "\n",
    "# Predict\n",
    "y_prediction = clf.predict(X_res)\n",
    "y_houldout_prediction = clf2.predict(X_res)\n"
   ]
  },
  {
   "cell_type": "code",
   "execution_count": null,
   "metadata": {},
   "outputs": [],
   "source": [
    "f = open(\"linear_scaled_result.csv\", \"a\")\n",
    "f.write('ID,\"Class\"\\n')\n",
    "for i in range(750):\n",
    "    f.write(str(i+750)+','+y_prediction[i]+'\\n')\n",
    "f.close()\n",
    "\n",
    "f = open(\"linear_scaled_result2.csv\", \"a\")\n",
    "f.write('ID,\"Class\"\\n')\n",
    "for i in range(750):\n",
    "    f.write(str(i+750)+','+y_houldout_prediction[i]+'\\n')\n",
    "f.close()"
   ]
  },
  {
   "cell_type": "markdown",
   "metadata": {},
   "source": [
    "## Logistic Model"
   ]
  },
  {
   "cell_type": "code",
   "execution_count": 19,
   "metadata": {},
   "outputs": [
    {
     "data": {
      "text/plain": [
       "'clf = LogisticRegression()\\n\\nparameter_grid = {\\n    \\'penalty\\': [\\'l2\\', \\'none\\'],\\n    \\'solver\\': [\\'newton-cg\\', \\'lbfgs\\', \\'liblinear\\', \\'sag\\', \\'saga\\'],\\n    \\'max_iter\\': [50, 100, 200,250]\\n}\\ncv_grid = GridSearchCV(clf, parameter_grid, cv=3, verbose=10, n_jobs=-1, scoring=[\\'accuracy\\', \\'balanced_accuracy\\', \\'f1_weighted\\'], refit=\\'accuracy\\')\\ncv_grid.fit(X, output_train)\\n\\nprint(\"Best Parameter Choice:\")\\nprint(cv_grid.best_params_)'"
      ]
     },
     "execution_count": 19,
     "metadata": {},
     "output_type": "execute_result"
    }
   ],
   "source": [
    "#do not run again\n",
    "'''clf = LogisticRegression()\n",
    "\n",
    "parameter_grid = {\n",
    "    'penalty': ['l2', 'none'],\n",
    "    'solver': ['newton-cg', 'lbfgs', 'liblinear', 'sag', 'saga'],\n",
    "    'max_iter': [50, 100, 200,250]\n",
    "}\n",
    "cv_grid = GridSearchCV(clf, parameter_grid, cv=3, verbose=10, n_jobs=-1, scoring=['accuracy', 'balanced_accuracy', 'f1_weighted'], refit='accuracy')\n",
    "cv_grid.fit(X, output_train)\n",
    "\n",
    "print(\"Best Parameter Choice:\")\n",
    "print(cv_grid.best_params_)'''"
   ]
  },
  {
   "cell_type": "code",
   "execution_count": 20,
   "metadata": {},
   "outputs": [
    {
     "name": "stderr",
     "output_type": "stream",
     "text": [
      "/Users/johannesdorsch/opt/anaconda3/lib/python3.8/site-packages/sklearn/linear_model/_sag.py:329: ConvergenceWarning: The max_iter was reached which means the coef_ did not converge\n",
      "  warnings.warn(\"The max_iter was reached which means \"\n"
     ]
    }
   ],
   "source": [
    "clf = make_pipeline(LogisticRegression(max_iter= 250, penalty = 'none', solver = 'sag' ))\n",
    "\n",
    "clf.fit(X, output_train)\n",
    "\n",
    "# CV\n",
    "cv_result = cross_validate(clf, X, output_train, cv=3, scoring = ['accuracy', 'balanced_accuracy', 'f1_weighted'], n_jobs=-1)\n",
    "\n",
    "results_overview['LogRegression'] = {\n",
    "    'accuracy': cv_result['test_accuracy'].mean(),\n",
    "    'balanced_accuracy': cv_result['test_balanced_accuracy'].mean(),\n",
    "    'f1_weighted': cv_result['test_f1_weighted'].mean(),\n",
    "    'fit_time' : cv_result['fit_time'].mean()\n",
    "    }"
   ]
  },
  {
   "cell_type": "code",
   "execution_count": 21,
   "metadata": {},
   "outputs": [
    {
     "name": "stderr",
     "output_type": "stream",
     "text": [
      "/Users/johannesdorsch/opt/anaconda3/lib/python3.8/site-packages/sklearn/linear_model/_sag.py:329: ConvergenceWarning: The max_iter was reached which means the coef_ did not converge\n",
      "  warnings.warn(\"The max_iter was reached which means \"\n"
     ]
    },
    {
     "data": {
      "text/plain": [
       "{'NeighborsClassifier': {'accuracy': 0.042666666666666665,\n",
       "  'balanced_accuracy': 0.044000000000000004,\n",
       "  'f1_weighted': 0.03946881720430107,\n",
       "  'fit_time': 0.46701622009277344,\n",
       "  'Holdout': 0.036290322580645164},\n",
       " 'RandomForestClassifier': {'accuracy': 0.548,\n",
       "  'balanced_accuracy': 0.5423015873015872,\n",
       "  'f1_weighted': 0.5219829207829209,\n",
       "  'fit_time': 2.9637457529703775,\n",
       "  'Holdout': 0.43951612903225806},\n",
       " 'LogRegression': {'accuracy': 0.6613333333333333,\n",
       "  'balanced_accuracy': 0.660031746031746,\n",
       "  'f1_weighted': 0.6473279464307597,\n",
       "  'fit_time': 1273.805498123169,\n",
       "  'Holdout': 0.5403225806451613}}"
      ]
     },
     "metadata": {},
     "output_type": "display_data"
    }
   ],
   "source": [
    "clf2 = make_pipeline(LogisticRegression(max_iter= 250, penalty = 'none', solver = 'sag' ))\n",
    "\n",
    "clf2.fit(X_train, y_train)\n",
    "\n",
    "results_overview['LogRegression']['Holdout'] = accuracy_score(y_test,clf2.predict(X_test))\n",
    "\n",
    "display(results_overview)\n",
    "\n",
    "# Predict\n",
    "y_prediction = clf.predict(X_res)\n",
    "y_houldout_prediction = clf2.predict(X_res)"
   ]
  },
  {
   "cell_type": "code",
   "execution_count": 22,
   "metadata": {},
   "outputs": [],
   "source": [
    "f = open(\"log_scaled_result.csv\", \"a\")\n",
    "f.write('ID,\"Class\"\\n')\n",
    "for i in range(750):\n",
    "    f.write(str(i+750)+','+y_prediction[i]+'\\n')\n",
    "f.close()\n",
    "\n",
    "f = open(\"log_scaled_result2.csv\", \"a\")\n",
    "f.write('ID,\"Class\"\\n')\n",
    "for i in range(750):\n",
    "    f.write(str(i+750)+','+y_houldout_prediction[i]+'\\n')\n",
    "f.close()"
   ]
  },
  {
   "cell_type": "markdown",
   "metadata": {},
   "source": [
    "# Random Forest"
   ]
  },
  {
   "cell_type": "code",
   "execution_count": 15,
   "metadata": {},
   "outputs": [
    {
     "name": "stdout",
     "output_type": "stream",
     "text": [
      "Fitting 3 folds for each of 6 candidates, totalling 18 fits\n"
     ]
    },
    {
     "name": "stderr",
     "output_type": "stream",
     "text": [
      "[Parallel(n_jobs=-1)]: Using backend LokyBackend with 4 concurrent workers.\n",
      "[Parallel(n_jobs=-1)]: Done   5 tasks      | elapsed:    5.1s\n",
      "[Parallel(n_jobs=-1)]: Done  10 tasks      | elapsed:    9.1s\n",
      "[Parallel(n_jobs=-1)]: Done  13 out of  18 | elapsed:   11.3s remaining:    4.3s\n",
      "[Parallel(n_jobs=-1)]: Done  15 out of  18 | elapsed:   12.4s remaining:    2.5s\n",
      "[Parallel(n_jobs=-1)]: Done  18 out of  18 | elapsed:   13.0s finished\n"
     ]
    },
    {
     "name": "stdout",
     "output_type": "stream",
     "text": [
      "Best Parameter Choice:\n",
      "{'criterion': 'gini', 'max_features': 'auto'}\n"
     ]
    }
   ],
   "source": [
    "clf = RandomForestClassifier()\n",
    "\n",
    "parameter_grid = {\n",
    "    'criterion' : ['gini', 'entropy'],\n",
    "    'max_features' : ['auto', 'sqrt', 'log2']\n",
    "}\n",
    "cv_grid = GridSearchCV(clf, parameter_grid, cv=3, verbose=10, n_jobs=-1, scoring=['accuracy', 'balanced_accuracy', 'f1_weighted'], refit='accuracy')\n",
    "cv_grid.fit(X, output_train)\n",
    "\n",
    "print(\"Best Parameter Choice:\")\n",
    "print(cv_grid.best_params_)\n"
   ]
  },
  {
   "cell_type": "code",
   "execution_count": 16,
   "metadata": {},
   "outputs": [],
   "source": [
    "clf = make_pipeline(cv_grid.best_estimator_)\n",
    "\n",
    "clf.fit(X, output_train)\n",
    "\n",
    "# CV\n",
    "cv_result = cross_validate(clf, X, output_train, cv=3, scoring = ['accuracy', 'balanced_accuracy', 'f1_weighted'], n_jobs=-1)\n",
    "\n",
    "results_overview['RandomForestClassifier'] = {\n",
    "    'accuracy': cv_result['test_accuracy'].mean(),\n",
    "    'balanced_accuracy': cv_result['test_balanced_accuracy'].mean(),\n",
    "    'f1_weighted': cv_result['test_f1_weighted'].mean(),\n",
    "    'fit_time' : cv_result['fit_time'].mean()\n",
    "    }"
   ]
  },
  {
   "cell_type": "code",
   "execution_count": 17,
   "metadata": {},
   "outputs": [
    {
     "data": {
      "text/plain": [
       "{'NeighborsClassifier': {'accuracy': 0.042666666666666665,\n",
       "  'balanced_accuracy': 0.044000000000000004,\n",
       "  'f1_weighted': 0.03946881720430107,\n",
       "  'fit_time': 0.46701622009277344,\n",
       "  'Holdout': 0.036290322580645164},\n",
       " 'RandomForestClassifier': {'accuracy': 0.548,\n",
       "  'balanced_accuracy': 0.5423015873015872,\n",
       "  'f1_weighted': 0.5219829207829209,\n",
       "  'fit_time': 2.9637457529703775,\n",
       "  'Holdout': 0.43951612903225806}}"
      ]
     },
     "metadata": {},
     "output_type": "display_data"
    }
   ],
   "source": [
    "clf2 = make_pipeline(cv_grid.best_estimator_)\n",
    "\n",
    "clf2.fit(X_train, y_train)\n",
    "\n",
    "results_overview['RandomForestClassifier']['Holdout'] = accuracy_score(y_test,clf2.predict(X_test))\n",
    "\n",
    "display(results_overview)\n",
    "\n",
    "# Predict\n",
    "y_prediction = clf.predict(X_res)\n",
    "y_houldout_prediction = clf2.predict(X_res)"
   ]
  },
  {
   "cell_type": "code",
   "execution_count": 18,
   "metadata": {},
   "outputs": [],
   "source": [
    "f = open(\"RandomTree_scaled_result.csv\", \"a\")\n",
    "f.write('ID,\"Class\"\\n')\n",
    "for i in range(750):\n",
    "    f.write(str(i+750)+','+y_prediction[i]+'\\n')\n",
    "f.close()\n",
    "\n",
    "f = open(\"RandomTree_scaled_result2.csv\", \"a\")\n",
    "f.write('ID,\"Class\"\\n')\n",
    "for i in range(750):\n",
    "    f.write(str(i+750)+','+y_houldout_prediction[i]+'\\n')\n",
    "f.close()"
   ]
  },
  {
   "cell_type": "markdown",
   "metadata": {},
   "source": [
    "## Kneighbors"
   ]
  },
  {
   "cell_type": "code",
   "execution_count": 8,
   "metadata": {},
   "outputs": [
    {
     "name": "stdout",
     "output_type": "stream",
     "text": [
      "Fitting 3 folds for each of 2 candidates, totalling 6 fits\n"
     ]
    },
    {
     "name": "stderr",
     "output_type": "stream",
     "text": [
      "[Parallel(n_jobs=-1)]: Using backend LokyBackend with 4 concurrent workers.\n",
      "[Parallel(n_jobs=-1)]: Done   2 out of   6 | elapsed:    6.0s remaining:   12.1s\n",
      "[Parallel(n_jobs=-1)]: Done   3 out of   6 | elapsed:    6.0s remaining:    6.0s\n",
      "[Parallel(n_jobs=-1)]: Done   4 out of   6 | elapsed:    6.0s remaining:    3.0s\n",
      "[Parallel(n_jobs=-1)]: Done   6 out of   6 | elapsed:    9.0s remaining:    0.0s\n",
      "[Parallel(n_jobs=-1)]: Done   6 out of   6 | elapsed:    9.0s finished\n"
     ]
    },
    {
     "name": "stdout",
     "output_type": "stream",
     "text": [
      "Best Parameter Choice:\n",
      "{'weights': 'distance'}\n"
     ]
    }
   ],
   "source": [
    "clf = KNeighborsClassifier()\n",
    "\n",
    "parameter_grid = {\n",
    "    'weights':['uniform', 'distance']\n",
    "}\n",
    "cv_grid = GridSearchCV(clf, parameter_grid, cv=3, verbose=10, n_jobs=-1, scoring=['accuracy', 'balanced_accuracy', 'f1_weighted'], refit='accuracy')\n",
    "cv_grid.fit(X, output_train)\n",
    "\n",
    "print(\"Best Parameter Choice:\")\n",
    "print(cv_grid.best_params_)\n",
    "\n"
   ]
  },
  {
   "cell_type": "code",
   "execution_count": 9,
   "metadata": {},
   "outputs": [],
   "source": [
    "clf = make_pipeline(cv_grid.best_estimator_)\n",
    "\n",
    "clf.fit(X, output_train)\n",
    "\n",
    "# CV\n",
    "cv_result = cross_validate(clf, X, output_train, cv=3, scoring = ['accuracy', 'balanced_accuracy', 'f1_weighted'], n_jobs=-1)\n",
    "\n",
    "results_overview['NeighborsClassifier'] = {\n",
    "    'accuracy': cv_result['test_accuracy'].mean(),\n",
    "    'balanced_accuracy': cv_result['test_balanced_accuracy'].mean(),\n",
    "    'f1_weighted': cv_result['test_f1_weighted'].mean(),\n",
    "    'fit_time' : cv_result['fit_time'].mean()\n",
    "    }\n",
    "\n"
   ]
  },
  {
   "cell_type": "code",
   "execution_count": 10,
   "metadata": {},
   "outputs": [
    {
     "data": {
      "text/plain": [
       "{'NeighborsClassifier': {'accuracy': 0.042666666666666665,\n",
       "  'balanced_accuracy': 0.044000000000000004,\n",
       "  'f1_weighted': 0.03946881720430107,\n",
       "  'fit_time': 0.46701622009277344,\n",
       "  'Holdout': 0.036290322580645164}}"
      ]
     },
     "metadata": {},
     "output_type": "display_data"
    }
   ],
   "source": [
    "clf2 = make_pipeline(cv_grid.best_estimator_)\n",
    "\n",
    "clf2.fit(X_train, y_train)\n",
    "\n",
    "results_overview['NeighborsClassifier']['Holdout'] = accuracy_score(y_test,clf2.predict(X_test))\n",
    "\n",
    "display(results_overview)\n",
    "\n",
    "# Predict\n",
    "y_prediction = clf.predict(X_res)\n",
    "y_houldout_prediction = clf2.predict(X_res)"
   ]
  },
  {
   "cell_type": "code",
   "execution_count": 11,
   "metadata": {},
   "outputs": [],
   "source": [
    "f = open(\"NeighborsClassifier_scaled_result.csv\", \"a\")\n",
    "f.write('ID,\"Class\"\\n')\n",
    "for i in range(750):\n",
    "    f.write(str(i+750)+','+y_prediction[i]+'\\n')\n",
    "f.close()\n",
    "\n",
    "f = open(\"NeighborsClassifier_scaled_result2.csv\", \"a\")\n",
    "f.write('ID,\"Class\"\\n')\n",
    "for i in range(750):\n",
    "    f.write(str(i+750)+','+y_houldout_prediction[i]+'\\n')\n",
    "f.close()"
   ]
  },
  {
   "cell_type": "markdown",
   "metadata": {},
   "source": [
    "## GaussianProcess"
   ]
  },
  {
   "cell_type": "code",
   "execution_count": null,
   "metadata": {},
   "outputs": [],
   "source": [
    "pd.DataFrame.from_dict(results_overview).T"
   ]
  }
 ],
 "metadata": {
  "kernelspec": {
   "display_name": "Python 3",
   "language": "python",
   "name": "python3"
  },
  "language_info": {
   "codemirror_mode": {
    "name": "ipython",
    "version": 3
   },
   "file_extension": ".py",
   "mimetype": "text/x-python",
   "name": "python",
   "nbconvert_exporter": "python",
   "pygments_lexer": "ipython3",
   "version": "3.8.3"
  }
 },
 "nbformat": 4,
 "nbformat_minor": 2
}
