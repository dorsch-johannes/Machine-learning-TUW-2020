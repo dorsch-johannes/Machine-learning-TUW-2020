{
 "cells": [
  {
   "cell_type": "markdown",
   "metadata": {},
   "source": [
    "# Import Libraries"
   ]
  },
  {
   "cell_type": "code",
   "execution_count": 1,
   "metadata": {},
   "outputs": [],
   "source": [
    "import math\n",
    "import random\n",
    "import numpy as np\n",
    "import pandas as pd\n",
    "import sklearn\n",
    "\n",
    "import matplotlib.pyplot as plt\n",
    "\n",
    "from sklearn.model_selection import cross_validate\n",
    "from sklearn.pipeline import make_pipeline\n",
    "from sklearn.metrics import accuracy_score, precision_score, recall_score\n",
    "from sklearn.model_selection import  GridSearchCV\n",
    "\n",
    "from sklearn.preprocessing import StandardScaler\n",
    "from sklearn.preprocessing import RobustScaler\n",
    "from sklearn.preprocessing import MinMaxScaler\n",
    "\n",
    "from sklearn.linear_model import LogisticRegression\n",
    "from sklearn.ensemble import RandomForestClassifier\n",
    "from sklearn.svm import SVC\n",
    "from sklearn.svm import NuSVC\n",
    "from sklearn.neural_network import MLPClassifier\n"
   ]
  },
  {
   "cell_type": "markdown",
   "metadata": {},
   "source": [
    "# Result storage"
   ]
  },
  {
   "cell_type": "code",
   "execution_count": 2,
   "metadata": {},
   "outputs": [],
   "source": [
    "results_overview = {}\n",
    "predictions_per_model = {}"
   ]
  },
  {
   "cell_type": "markdown",
   "metadata": {},
   "source": [
    "# Data Loading"
   ]
  },
  {
   "cell_type": "code",
   "execution_count": 3,
   "metadata": {},
   "outputs": [],
   "source": [
    "df_data_train = pd.read_csv('./Data/breast-cancer-diagnostic.shuf.lrn.csv', low_memory=False, sep=',')\n",
    "df_data_test = pd.read_csv('./Data/breast-cancer-diagnostic.shuf.tes.csv', low_memory=False, sep=',')"
   ]
  },
  {
   "cell_type": "code",
   "execution_count": 4,
   "metadata": {},
   "outputs": [
    {
     "data": {
      "text/html": [
       "<div>\n",
       "<style scoped>\n",
       "    .dataframe tbody tr th:only-of-type {\n",
       "        vertical-align: middle;\n",
       "    }\n",
       "\n",
       "    .dataframe tbody tr th {\n",
       "        vertical-align: top;\n",
       "    }\n",
       "\n",
       "    .dataframe thead th {\n",
       "        text-align: right;\n",
       "    }\n",
       "</style>\n",
       "<table border=\"1\" class=\"dataframe\">\n",
       "  <thead>\n",
       "    <tr style=\"text-align: right;\">\n",
       "      <th></th>\n",
       "      <th>ID</th>\n",
       "      <th>MALIGNANT</th>\n",
       "      <th>radiusMean</th>\n",
       "      <th>textureMean</th>\n",
       "      <th>perimeterMean</th>\n",
       "      <th>areaMean</th>\n",
       "      <th>smoothnessMean</th>\n",
       "      <th>compactnessMean</th>\n",
       "      <th>concavityMean</th>\n",
       "      <th>concavePointsMean</th>\n",
       "      <th>...</th>\n",
       "      <th>radiusWorst</th>\n",
       "      <th>textureWorst</th>\n",
       "      <th>perimeterWorst</th>\n",
       "      <th>areaWorst</th>\n",
       "      <th>smoothnessWorst</th>\n",
       "      <th>compactnessWorst</th>\n",
       "      <th>concavityWorst</th>\n",
       "      <th>concavePointsWorst</th>\n",
       "      <th>symmetryWorst</th>\n",
       "      <th>fractalDimensionWorst</th>\n",
       "    </tr>\n",
       "  </thead>\n",
       "  <tbody>\n",
       "    <tr>\n",
       "      <th>0</th>\n",
       "      <td>868682</td>\n",
       "      <td>False</td>\n",
       "      <td>11.43</td>\n",
       "      <td>15.39</td>\n",
       "      <td>73.06</td>\n",
       "      <td>399.8</td>\n",
       "      <td>0.09639</td>\n",
       "      <td>0.06889</td>\n",
       "      <td>0.03503</td>\n",
       "      <td>0.02875</td>\n",
       "      <td>...</td>\n",
       "      <td>12.32</td>\n",
       "      <td>22.02</td>\n",
       "      <td>79.93</td>\n",
       "      <td>462.0</td>\n",
       "      <td>0.1190</td>\n",
       "      <td>0.1648</td>\n",
       "      <td>0.1399</td>\n",
       "      <td>0.08476</td>\n",
       "      <td>0.2676</td>\n",
       "      <td>0.06765</td>\n",
       "    </tr>\n",
       "    <tr>\n",
       "      <th>1</th>\n",
       "      <td>881972</td>\n",
       "      <td>True</td>\n",
       "      <td>17.05</td>\n",
       "      <td>19.08</td>\n",
       "      <td>113.40</td>\n",
       "      <td>895.0</td>\n",
       "      <td>0.11410</td>\n",
       "      <td>0.15720</td>\n",
       "      <td>0.19100</td>\n",
       "      <td>0.10900</td>\n",
       "      <td>...</td>\n",
       "      <td>19.59</td>\n",
       "      <td>24.89</td>\n",
       "      <td>133.50</td>\n",
       "      <td>1189.0</td>\n",
       "      <td>0.1703</td>\n",
       "      <td>0.3934</td>\n",
       "      <td>0.5018</td>\n",
       "      <td>0.25430</td>\n",
       "      <td>0.3109</td>\n",
       "      <td>0.09061</td>\n",
       "    </tr>\n",
       "    <tr>\n",
       "      <th>2</th>\n",
       "      <td>901315</td>\n",
       "      <td>False</td>\n",
       "      <td>10.57</td>\n",
       "      <td>20.22</td>\n",
       "      <td>70.15</td>\n",
       "      <td>338.3</td>\n",
       "      <td>0.09073</td>\n",
       "      <td>0.16600</td>\n",
       "      <td>0.22800</td>\n",
       "      <td>0.05941</td>\n",
       "      <td>...</td>\n",
       "      <td>10.85</td>\n",
       "      <td>22.82</td>\n",
       "      <td>76.51</td>\n",
       "      <td>351.9</td>\n",
       "      <td>0.1143</td>\n",
       "      <td>0.3619</td>\n",
       "      <td>0.6030</td>\n",
       "      <td>0.14650</td>\n",
       "      <td>0.2597</td>\n",
       "      <td>0.12000</td>\n",
       "    </tr>\n",
       "    <tr>\n",
       "      <th>3</th>\n",
       "      <td>9112367</td>\n",
       "      <td>False</td>\n",
       "      <td>13.21</td>\n",
       "      <td>25.25</td>\n",
       "      <td>84.10</td>\n",
       "      <td>537.9</td>\n",
       "      <td>0.08791</td>\n",
       "      <td>0.05205</td>\n",
       "      <td>0.02772</td>\n",
       "      <td>0.02068</td>\n",
       "      <td>...</td>\n",
       "      <td>14.35</td>\n",
       "      <td>34.23</td>\n",
       "      <td>91.29</td>\n",
       "      <td>632.9</td>\n",
       "      <td>0.1289</td>\n",
       "      <td>0.1063</td>\n",
       "      <td>0.1390</td>\n",
       "      <td>0.06005</td>\n",
       "      <td>0.2444</td>\n",
       "      <td>0.06788</td>\n",
       "    </tr>\n",
       "    <tr>\n",
       "      <th>4</th>\n",
       "      <td>8711202</td>\n",
       "      <td>True</td>\n",
       "      <td>17.68</td>\n",
       "      <td>20.74</td>\n",
       "      <td>117.40</td>\n",
       "      <td>963.7</td>\n",
       "      <td>0.11150</td>\n",
       "      <td>0.16650</td>\n",
       "      <td>0.18550</td>\n",
       "      <td>0.10540</td>\n",
       "      <td>...</td>\n",
       "      <td>20.47</td>\n",
       "      <td>25.11</td>\n",
       "      <td>132.90</td>\n",
       "      <td>1302.0</td>\n",
       "      <td>0.1418</td>\n",
       "      <td>0.3498</td>\n",
       "      <td>0.3583</td>\n",
       "      <td>0.15150</td>\n",
       "      <td>0.2463</td>\n",
       "      <td>0.07738</td>\n",
       "    </tr>\n",
       "  </tbody>\n",
       "</table>\n",
       "<p>5 rows × 32 columns</p>\n",
       "</div>"
      ],
      "text/plain": [
       "        ID  MALIGNANT  radiusMean   textureMean   perimeterMean   areaMean  \\\n",
       "0   868682      False       11.43         15.39           73.06      399.8   \n",
       "1   881972       True       17.05         19.08          113.40      895.0   \n",
       "2   901315      False       10.57         20.22           70.15      338.3   \n",
       "3  9112367      False       13.21         25.25           84.10      537.9   \n",
       "4  8711202       True       17.68         20.74          117.40      963.7   \n",
       "\n",
       "    smoothnessMean   compactnessMean   concavityMean   concavePointsMean  ...  \\\n",
       "0          0.09639           0.06889         0.03503             0.02875  ...   \n",
       "1          0.11410           0.15720         0.19100             0.10900  ...   \n",
       "2          0.09073           0.16600         0.22800             0.05941  ...   \n",
       "3          0.08791           0.05205         0.02772             0.02068  ...   \n",
       "4          0.11150           0.16650         0.18550             0.10540  ...   \n",
       "\n",
       "    radiusWorst   textureWorst   perimeterWorst   areaWorst   smoothnessWorst  \\\n",
       "0         12.32          22.02            79.93       462.0            0.1190   \n",
       "1         19.59          24.89           133.50      1189.0            0.1703   \n",
       "2         10.85          22.82            76.51       351.9            0.1143   \n",
       "3         14.35          34.23            91.29       632.9            0.1289   \n",
       "4         20.47          25.11           132.90      1302.0            0.1418   \n",
       "\n",
       "    compactnessWorst   concavityWorst   concavePointsWorst   symmetryWorst  \\\n",
       "0             0.1648           0.1399              0.08476          0.2676   \n",
       "1             0.3934           0.5018              0.25430          0.3109   \n",
       "2             0.3619           0.6030              0.14650          0.2597   \n",
       "3             0.1063           0.1390              0.06005          0.2444   \n",
       "4             0.3498           0.3583              0.15150          0.2463   \n",
       "\n",
       "    fractalDimensionWorst  \n",
       "0                 0.06765  \n",
       "1                 0.09061  \n",
       "2                 0.12000  \n",
       "3                 0.06788  \n",
       "4                 0.07738  \n",
       "\n",
       "[5 rows x 32 columns]"
      ]
     },
     "execution_count": 4,
     "metadata": {},
     "output_type": "execute_result"
    }
   ],
   "source": [
    "df_data_train.head()"
   ]
  },
  {
   "cell_type": "markdown",
   "metadata": {},
   "source": [
    "# Class Distribution"
   ]
  },
  {
   "cell_type": "code",
   "execution_count": 5,
   "metadata": {},
   "outputs": [
    {
     "data": {
      "text/plain": [
       "False    189\n",
       "True      96\n",
       "Name: MALIGNANT, dtype: int64"
      ]
     },
     "metadata": {},
     "output_type": "display_data"
    },
    {
     "data": {
      "image/png": "[encoded data removed]",
      "text/plain": [
       "<Figure size 432x288 with 1 Axes>"
      ]
     },
     "metadata": {},
     "output_type": "display_data"
    }
   ],
   "source": [
    "display(df_data_train['MALIGNANT'].value_counts())\n",
    "\n",
    "plt.pie( df_data_train['MALIGNANT'].value_counts() , labels=['false','true'], \n",
    "        autopct='%1.1f%%', shadow=True)\n",
    "plt.axis('equal')\n",
    "plt.show()"
   ]
  },
  {
   "cell_type": "code",
   "execution_count": 6,
   "metadata": {},
   "outputs": [
    {
     "data": {
      "text/plain": [
       "ID                         0\n",
       "MALIGNANT                  0\n",
       "radiusMean                 0\n",
       " textureMean               0\n",
       " perimeterMean             0\n",
       " areaMean                  0\n",
       " smoothnessMean            0\n",
       " compactnessMean           0\n",
       " concavityMean             0\n",
       " concavePointsMean         0\n",
       " symmetryMean              0\n",
       " fractalDimensionMean      0\n",
       " radiusStdErr              0\n",
       " textureStdErr             0\n",
       " perimeterStdErr           0\n",
       " areaStdErr                0\n",
       " smoothnessStdErr          0\n",
       " compactnessStdErr         0\n",
       " concavityStdErr           0\n",
       " concavePointsStdErr       0\n",
       " symmetryStdErr            0\n",
       " fractalDimensionStdErr    0\n",
       " radiusWorst               0\n",
       " textureWorst              0\n",
       " perimeterWorst            0\n",
       " areaWorst                 0\n",
       " smoothnessWorst           0\n",
       " compactnessWorst          0\n",
       " concavityWorst            0\n",
       " concavePointsWorst        0\n",
       " symmetryWorst             0\n",
       " fractalDimensionWorst     0\n",
       "dtype: int64"
      ]
     },
     "execution_count": 6,
     "metadata": {},
     "output_type": "execute_result"
    }
   ],
   "source": [
    "df_data_train.isnull().sum()"
   ]
  },
  {
   "cell_type": "markdown",
   "metadata": {},
   "source": [
    "# Data Preprocessing"
   ]
  },
  {
   "cell_type": "code",
   "execution_count": 7,
   "metadata": {},
   "outputs": [],
   "source": [
    "df_train = df_data_train.copy()\n",
    "\n",
    "#Feature columns\n",
    "columns = sorted(set(df_data_train.columns) - set(['ID','MALIGNANT']))\n",
    "\n",
    "#Create feature matrix\n",
    "X = df_train[columns]\n",
    "\n",
    "#Create target column\n",
    "Y = df_train['MALIGNANT']\n",
    "\n",
    "#Create test matrix\n",
    "X_test = df_data_test[columns]"
   ]
  },
  {
   "cell_type": "markdown",
   "metadata": {},
   "source": [
    "# Linear Model: Different Parameters"
   ]
  },
  {
   "cell_type": "code",
   "execution_count": 8,
   "metadata": {},
   "outputs": [
    {
     "name": "stdout",
     "output_type": "stream",
     "text": [
      "Fitting 3 folds for each of 40 candidates, totalling 120 fits\n"
     ]
    },
    {
     "name": "stderr",
     "output_type": "stream",
     "text": [
      "[Parallel(n_jobs=-1)]: Using backend LokyBackend with 4 concurrent workers.\n",
      "[Parallel(n_jobs=-1)]: Done   5 tasks      | elapsed:    2.2s\n",
      "[Parallel(n_jobs=-1)]: Done  10 tasks      | elapsed:    2.2s\n",
      "[Parallel(n_jobs=-1)]: Done  17 tasks      | elapsed:    2.3s\n",
      "[Parallel(n_jobs=-1)]: Batch computation too fast (0.1744s.) Setting batch_size=2.\n",
      "[Parallel(n_jobs=-1)]: Done  24 tasks      | elapsed:    2.3s\n",
      "[Parallel(n_jobs=-1)]: Batch computation too fast (0.1016s.) Setting batch_size=4.\n",
      "[Parallel(n_jobs=-1)]: Done  35 tasks      | elapsed:    2.5s\n",
      "[Parallel(n_jobs=-1)]: Batch computation too fast (0.1087s.) Setting batch_size=8.\n",
      "[Parallel(n_jobs=-1)]: Done  58 tasks      | elapsed:    2.8s\n",
      "[Parallel(n_jobs=-1)]: Done  99 tasks      | elapsed:    3.4s\n",
      "[Parallel(n_jobs=-1)]: Done 100 out of 120 | elapsed:    3.4s remaining:    0.6s\n"
     ]
    },
    {
     "name": "stdout",
     "output_type": "stream",
     "text": [
      "Best Parameter Choice:\n",
      "{'max_iter': 100, 'penalty': 'none', 'solver': 'newton-cg'}\n"
     ]
    },
    {
     "name": "stderr",
     "output_type": "stream",
     "text": [
      "[Parallel(n_jobs=-1)]: Done 120 out of 120 | elapsed:    3.9s finished\n",
      "C:\\anaconda3\\lib\\site-packages\\sklearn\\utils\\optimize.py:212: ConvergenceWarning: newton-cg failed to converge. Increase the number of iterations.\n",
      "  \"number of iterations.\", ConvergenceWarning)\n"
     ]
    }
   ],
   "source": [
    "clf = LogisticRegression()\n",
    "\n",
    "parameter_grid = {\n",
    "    'penalty': ['l2', 'none'],\n",
    "    'solver': ['newton-cg', 'lbfgs', 'liblinear', 'sag', 'saga'],\n",
    "    'max_iter': [50, 100, 200,250]\n",
    "}\n",
    "cv_grid = GridSearchCV(clf, parameter_grid, cv=3, verbose=10, n_jobs=-1, scoring=['accuracy', 'precision', 'recall'], refit='accuracy')\n",
    "cv_grid.fit(X, Y)\n",
    "\n",
    "print(\"Best Parameter Choice:\")\n",
    "print(cv_grid.best_params_)"
   ]
  },
  {
   "cell_type": "markdown",
   "metadata": {},
   "source": [
    "# Linear Model: Results overview"
   ]
  },
  {
   "cell_type": "code",
   "execution_count": 9,
   "metadata": {},
   "outputs": [
    {
     "data": {
      "text/html": [
       "<div>\n",
       "<style scoped>\n",
       "    .dataframe tbody tr th:only-of-type {\n",
       "        vertical-align: middle;\n",
       "    }\n",
       "\n",
       "    .dataframe tbody tr th {\n",
       "        vertical-align: top;\n",
       "    }\n",
       "\n",
       "    .dataframe thead th {\n",
       "        text-align: right;\n",
       "    }\n",
       "</style>\n",
       "<table border=\"1\" class=\"dataframe\">\n",
       "  <thead>\n",
       "    <tr style=\"text-align: right;\">\n",
       "      <th></th>\n",
       "      <th>param_penalty</th>\n",
       "      <th>param_solver</th>\n",
       "      <th>param_max_iter</th>\n",
       "      <th>accuracy</th>\n",
       "      <th>precision</th>\n",
       "      <th>recall</th>\n",
       "      <th>fit_time</th>\n",
       "    </tr>\n",
       "  </thead>\n",
       "  <tbody>\n",
       "    <tr>\n",
       "      <th>35</th>\n",
       "      <td>none</td>\n",
       "      <td>newton-cg</td>\n",
       "      <td>250</td>\n",
       "      <td>0.968</td>\n",
       "      <td>0.979</td>\n",
       "      <td>0.927</td>\n",
       "      <td>0.153</td>\n",
       "    </tr>\n",
       "    <tr>\n",
       "      <th>25</th>\n",
       "      <td>none</td>\n",
       "      <td>newton-cg</td>\n",
       "      <td>200</td>\n",
       "      <td>0.968</td>\n",
       "      <td>0.979</td>\n",
       "      <td>0.927</td>\n",
       "      <td>0.148</td>\n",
       "    </tr>\n",
       "    <tr>\n",
       "      <th>15</th>\n",
       "      <td>none</td>\n",
       "      <td>newton-cg</td>\n",
       "      <td>100</td>\n",
       "      <td>0.968</td>\n",
       "      <td>0.979</td>\n",
       "      <td>0.927</td>\n",
       "      <td>0.194</td>\n",
       "    </tr>\n",
       "    <tr>\n",
       "      <th>5</th>\n",
       "      <td>none</td>\n",
       "      <td>newton-cg</td>\n",
       "      <td>50</td>\n",
       "      <td>0.965</td>\n",
       "      <td>0.958</td>\n",
       "      <td>0.938</td>\n",
       "      <td>0.068</td>\n",
       "    </tr>\n",
       "    <tr>\n",
       "      <th>36</th>\n",
       "      <td>none</td>\n",
       "      <td>lbfgs</td>\n",
       "      <td>250</td>\n",
       "      <td>0.951</td>\n",
       "      <td>0.956</td>\n",
       "      <td>0.896</td>\n",
       "      <td>0.050</td>\n",
       "    </tr>\n",
       "    <tr>\n",
       "      <th>0</th>\n",
       "      <td>l2</td>\n",
       "      <td>newton-cg</td>\n",
       "      <td>50</td>\n",
       "      <td>0.944</td>\n",
       "      <td>0.929</td>\n",
       "      <td>0.906</td>\n",
       "      <td>0.094</td>\n",
       "    </tr>\n",
       "    <tr>\n",
       "      <th>11</th>\n",
       "      <td>l2</td>\n",
       "      <td>lbfgs</td>\n",
       "      <td>100</td>\n",
       "      <td>0.944</td>\n",
       "      <td>0.930</td>\n",
       "      <td>0.906</td>\n",
       "      <td>0.052</td>\n",
       "    </tr>\n",
       "    <tr>\n",
       "      <th>30</th>\n",
       "      <td>l2</td>\n",
       "      <td>newton-cg</td>\n",
       "      <td>250</td>\n",
       "      <td>0.944</td>\n",
       "      <td>0.929</td>\n",
       "      <td>0.906</td>\n",
       "      <td>0.121</td>\n",
       "    </tr>\n",
       "    <tr>\n",
       "      <th>16</th>\n",
       "      <td>none</td>\n",
       "      <td>lbfgs</td>\n",
       "      <td>100</td>\n",
       "      <td>0.944</td>\n",
       "      <td>0.927</td>\n",
       "      <td>0.906</td>\n",
       "      <td>0.050</td>\n",
       "    </tr>\n",
       "    <tr>\n",
       "      <th>20</th>\n",
       "      <td>l2</td>\n",
       "      <td>newton-cg</td>\n",
       "      <td>200</td>\n",
       "      <td>0.944</td>\n",
       "      <td>0.929</td>\n",
       "      <td>0.906</td>\n",
       "      <td>0.129</td>\n",
       "    </tr>\n",
       "  </tbody>\n",
       "</table>\n",
       "</div>"
      ],
      "text/plain": [
       "   param_penalty param_solver param_max_iter accuracy precision recall  \\\n",
       "35          none    newton-cg            250    0.968     0.979  0.927   \n",
       "25          none    newton-cg            200    0.968     0.979  0.927   \n",
       "15          none    newton-cg            100    0.968     0.979  0.927   \n",
       "5           none    newton-cg             50    0.965     0.958  0.938   \n",
       "36          none        lbfgs            250    0.951     0.956  0.896   \n",
       "0             l2    newton-cg             50    0.944     0.929  0.906   \n",
       "11            l2        lbfgs            100    0.944     0.930  0.906   \n",
       "30            l2    newton-cg            250    0.944     0.929  0.906   \n",
       "16          none        lbfgs            100    0.944     0.927  0.906   \n",
       "20            l2    newton-cg            200    0.944     0.929  0.906   \n",
       "\n",
       "   fit_time  \n",
       "35    0.153  \n",
       "25    0.148  \n",
       "15    0.194  \n",
       "5     0.068  \n",
       "36    0.050  \n",
       "0     0.094  \n",
       "11    0.052  \n",
       "30    0.121  \n",
       "16    0.050  \n",
       "20    0.129  "
      ]
     },
     "execution_count": 9,
     "metadata": {},
     "output_type": "execute_result"
    }
   ],
   "source": [
    "df_result = pd.DataFrame(cv_grid.cv_results_).sort_values(by='mean_test_accuracy', ascending=False).head(1)\n",
    "\n",
    "selected_columns = [\n",
    "    'param_penalty',\n",
    "    'param_solver',\n",
    "    'param_max_iter',\n",
    "    'mean_test_accuracy',\n",
    "    'mean_test_precision',\n",
    "    'mean_test_recall',\n",
    "    'mean_fit_time'\n",
    "]\n",
    "df_result = pd.DataFrame(cv_grid.cv_results_).sort_values(by='mean_test_accuracy', ascending=False).head(10)[selected_columns]\n",
    "df_result = df_result.rename(columns={\n",
    "    'param_estimator_penalty': \"penalty\",\n",
    "    'param_estimator_solver': \"solver\",\n",
    "    'param_estimator_max_iter': \"max_iter\",\n",
    "    \"mean_test_accuracy\": \"accuracy\",\n",
    "    \"mean_test_precision\": \"precision\",\n",
    "    \"mean_test_recall\": \"recall\",\n",
    "    \"mean_fit_time\": \"fit_time\"\n",
    "})\n",
    "\n",
    "\n",
    "for col in df_result.columns:\n",
    "    if df_result[col].dtype == np.float64:\n",
    "        df_result[col] = df_result[col].apply(lambda x: '{0:.3f}'.format(round(x,3)))\n",
    "df_result"
   ]
  },
  {
   "cell_type": "markdown",
   "metadata": {},
   "source": [
    "# Linear Model: Prediction"
   ]
  },
  {
   "cell_type": "code",
   "execution_count": 10,
   "metadata": {},
   "outputs": [
    {
     "name": "stderr",
     "output_type": "stream",
     "text": [
      "C:\\anaconda3\\lib\\site-packages\\sklearn\\utils\\optimize.py:212: ConvergenceWarning: newton-cg failed to converge. Increase the number of iterations.\n",
      "  \"number of iterations.\", ConvergenceWarning)\n"
     ]
    },
    {
     "data": {
      "text/plain": [
       "{'accuracy': 0.968421052631579,\n",
       " 'precision': 0.9788306451612904,\n",
       " 'recall': 0.9270833333333334,\n",
       " 'fit_time': 0.17835338910420737}"
      ]
     },
     "metadata": {},
     "output_type": "display_data"
    },
    {
     "data": {
      "text/plain": [
       "{'false': 174, 'false %': 61, 'true': 110, 'true %': 39}"
      ]
     },
     "metadata": {},
     "output_type": "display_data"
    }
   ],
   "source": [
    "clf = make_pipeline( LogisticRegression(max_iter= 100, penalty = 'none', solver = 'newton-cg' ))\n",
    "clf.fit(X, Y)\n",
    "\n",
    "# CV\n",
    "cv_result = cross_validate(clf, X, Y, cv=3, scoring = ['accuracy', 'precision', 'recall'], n_jobs=-1)\n",
    "\n",
    "results_overview['Linear Model'] = {\n",
    "    'accuracy': cv_result['test_accuracy'].mean(),\n",
    "    'precision': cv_result['test_precision'].mean(),\n",
    "    'recall': cv_result['test_recall'].mean(),\n",
    "    'fit_time' : cv_result['fit_time'].mean()\n",
    "    }\n",
    "predictions_per_model = {}\n",
    "\n",
    "display(results_overview['Linear Model'])\n",
    "\n",
    "# Predict\n",
    "y_prediction = clf.predict(X_test)\n",
    "\n",
    "unique_elements, counts_elements = np.unique(y_prediction, return_counts=True)\n",
    "\n",
    "predictions_per_model['Linear Model'] = {\n",
    "    'false': counts_elements[0],\n",
    "    'false %': int(round(counts_elements[0]/(counts_elements[0]+counts_elements[1])*100.0)),\n",
    "    'true': counts_elements[1],\n",
    "    'true %': int(round(counts_elements[1]/(counts_elements[0]+counts_elements[1])*100.0)),\n",
    "    }\n",
    "\n",
    "display(predictions_per_model['Linear Model'])"
   ]
  },
  {
   "cell_type": "code",
   "execution_count": 11,
   "metadata": {},
   "outputs": [
    {
     "data": {
      "text/plain": [
       "False    174\n",
       "True     110\n",
       "Name: MALIGNANT, dtype: int64"
      ]
     },
     "metadata": {},
     "output_type": "display_data"
    },
    {
     "data": {
      "image/png": "[encoded data removed]",
      "text/plain": [
       "<Figure size 432x288 with 2 Axes>"
      ]
     },
     "metadata": {},
     "output_type": "display_data"
    }
   ],
   "source": [
    "df_solution_test = pd.DataFrame(y_prediction, columns = ['MALIGNANT'])\n",
    "\n",
    "display(df_solution_test['MALIGNANT'].value_counts())\n",
    "\n",
    "fig, axs = plt.subplots(1, 2)\n",
    "\n",
    "axs[0].pie( df_data_train['MALIGNANT'].value_counts() , labels=['false','true'], \n",
    "        autopct='%1.1f%%', shadow=True)\n",
    "axs[0].axis('equal')\n",
    "axs[0].set_title(\"Train data\")\n",
    "\n",
    "\n",
    "axs[1].pie(df_solution_test['MALIGNANT'].value_counts() , labels=['false','true'], \n",
    "        autopct='%1.1f%%', shadow=True)\n",
    "axs[1].axis('equal')\n",
    "axs[1].set_title(\"Prediction\")\n",
    "\n",
    "\n",
    "plt.show()"
   ]
  },
  {
   "cell_type": "markdown",
   "metadata": {},
   "source": [
    "# Random Forrest: Different Parameters"
   ]
  },
  {
   "cell_type": "code",
   "execution_count": 12,
   "metadata": {},
   "outputs": [
    {
     "name": "stdout",
     "output_type": "stream",
     "text": [
      "Fitting 3 folds for each of 32 candidates, totalling 96 fits\n"
     ]
    },
    {
     "name": "stderr",
     "output_type": "stream",
     "text": [
      "[Parallel(n_jobs=-1)]: Using backend LokyBackend with 4 concurrent workers.\n",
      "[Parallel(n_jobs=-1)]: Batch computation too fast (0.1695s.) Setting batch_size=2.\n",
      "[Parallel(n_jobs=-1)]: Done   5 tasks      | elapsed:    0.3s\n",
      "[Parallel(n_jobs=-1)]: Done  12 tasks      | elapsed:    0.6s\n",
      "[Parallel(n_jobs=-1)]: Done  26 tasks      | elapsed:    1.7s\n",
      "[Parallel(n_jobs=-1)]: Done  40 tasks      | elapsed:    2.5s\n",
      "[Parallel(n_jobs=-1)]: Done  58 tasks      | elapsed:    3.6s\n",
      "[Parallel(n_jobs=-1)]: Done  76 tasks      | elapsed:    4.9s\n"
     ]
    },
    {
     "name": "stdout",
     "output_type": "stream",
     "text": [
      "Best Parameter Choice:\n",
      "{'criterion': 'entropy', 'max_depth': 30, 'n_estimators': 50}\n"
     ]
    },
    {
     "name": "stderr",
     "output_type": "stream",
     "text": [
      "[Parallel(n_jobs=-1)]: Done  96 out of  96 | elapsed:    6.8s finished\n"
     ]
    }
   ],
   "source": [
    "clf = RandomForestClassifier()\n",
    "\n",
    "parameter_grid = {\n",
    "    'n_estimators': [10, 50, 100, 200],\n",
    "    'criterion': ['gini', 'entropy'],\n",
    "    'max_depth': [None, 20, 30, 50]\n",
    "}\n",
    "cv_grid = GridSearchCV(clf, parameter_grid, cv=3, verbose=10, n_jobs=-1, scoring=['accuracy', 'precision', 'recall'], refit='accuracy')\n",
    "cv_grid.fit(X, Y)\n",
    "\n",
    "print(\"Best Parameter Choice:\")\n",
    "print(cv_grid.best_params_)"
   ]
  },
  {
   "cell_type": "markdown",
   "metadata": {},
   "source": [
    "# Random Forrest: Result overview"
   ]
  },
  {
   "cell_type": "code",
   "execution_count": 13,
   "metadata": {},
   "outputs": [
    {
     "data": {
      "text/html": [
       "<div>\n",
       "<style scoped>\n",
       "    .dataframe tbody tr th:only-of-type {\n",
       "        vertical-align: middle;\n",
       "    }\n",
       "\n",
       "    .dataframe tbody tr th {\n",
       "        vertical-align: top;\n",
       "    }\n",
       "\n",
       "    .dataframe thead th {\n",
       "        text-align: right;\n",
       "    }\n",
       "</style>\n",
       "<table border=\"1\" class=\"dataframe\">\n",
       "  <thead>\n",
       "    <tr style=\"text-align: right;\">\n",
       "      <th></th>\n",
       "      <th>criterion</th>\n",
       "      <th>max_depth</th>\n",
       "      <th>n_estimators</th>\n",
       "      <th>accuracy</th>\n",
       "      <th>precision</th>\n",
       "      <th>recall</th>\n",
       "      <th>fit_time</th>\n",
       "    </tr>\n",
       "  </thead>\n",
       "  <tbody>\n",
       "    <tr>\n",
       "      <th>25</th>\n",
       "      <td>entropy</td>\n",
       "      <td>30</td>\n",
       "      <td>50</td>\n",
       "      <td>0.975</td>\n",
       "      <td>0.980</td>\n",
       "      <td>0.948</td>\n",
       "      <td>0.160</td>\n",
       "    </tr>\n",
       "    <tr>\n",
       "      <th>0</th>\n",
       "      <td>gini</td>\n",
       "      <td>None</td>\n",
       "      <td>10</td>\n",
       "      <td>0.975</td>\n",
       "      <td>0.989</td>\n",
       "      <td>0.938</td>\n",
       "      <td>0.033</td>\n",
       "    </tr>\n",
       "    <tr>\n",
       "      <th>5</th>\n",
       "      <td>gini</td>\n",
       "      <td>20</td>\n",
       "      <td>50</td>\n",
       "      <td>0.975</td>\n",
       "      <td>0.989</td>\n",
       "      <td>0.938</td>\n",
       "      <td>0.117</td>\n",
       "    </tr>\n",
       "    <tr>\n",
       "      <th>29</th>\n",
       "      <td>entropy</td>\n",
       "      <td>50</td>\n",
       "      <td>50</td>\n",
       "      <td>0.975</td>\n",
       "      <td>0.989</td>\n",
       "      <td>0.938</td>\n",
       "      <td>0.145</td>\n",
       "    </tr>\n",
       "    <tr>\n",
       "      <th>23</th>\n",
       "      <td>entropy</td>\n",
       "      <td>20</td>\n",
       "      <td>200</td>\n",
       "      <td>0.975</td>\n",
       "      <td>0.989</td>\n",
       "      <td>0.938</td>\n",
       "      <td>0.581</td>\n",
       "    </tr>\n",
       "    <tr>\n",
       "      <th>31</th>\n",
       "      <td>entropy</td>\n",
       "      <td>50</td>\n",
       "      <td>200</td>\n",
       "      <td>0.975</td>\n",
       "      <td>0.989</td>\n",
       "      <td>0.938</td>\n",
       "      <td>0.427</td>\n",
       "    </tr>\n",
       "    <tr>\n",
       "      <th>18</th>\n",
       "      <td>entropy</td>\n",
       "      <td>None</td>\n",
       "      <td>100</td>\n",
       "      <td>0.972</td>\n",
       "      <td>0.989</td>\n",
       "      <td>0.927</td>\n",
       "      <td>0.247</td>\n",
       "    </tr>\n",
       "    <tr>\n",
       "      <th>2</th>\n",
       "      <td>gini</td>\n",
       "      <td>None</td>\n",
       "      <td>100</td>\n",
       "      <td>0.972</td>\n",
       "      <td>0.978</td>\n",
       "      <td>0.938</td>\n",
       "      <td>0.252</td>\n",
       "    </tr>\n",
       "    <tr>\n",
       "      <th>3</th>\n",
       "      <td>gini</td>\n",
       "      <td>None</td>\n",
       "      <td>200</td>\n",
       "      <td>0.972</td>\n",
       "      <td>0.978</td>\n",
       "      <td>0.938</td>\n",
       "      <td>0.509</td>\n",
       "    </tr>\n",
       "    <tr>\n",
       "      <th>21</th>\n",
       "      <td>entropy</td>\n",
       "      <td>20</td>\n",
       "      <td>50</td>\n",
       "      <td>0.972</td>\n",
       "      <td>0.968</td>\n",
       "      <td>0.948</td>\n",
       "      <td>0.165</td>\n",
       "    </tr>\n",
       "  </tbody>\n",
       "</table>\n",
       "</div>"
      ],
      "text/plain": [
       "   criterion max_depth n_estimators accuracy precision recall fit_time\n",
       "25   entropy        30           50    0.975     0.980  0.948    0.160\n",
       "0       gini      None           10    0.975     0.989  0.938    0.033\n",
       "5       gini        20           50    0.975     0.989  0.938    0.117\n",
       "29   entropy        50           50    0.975     0.989  0.938    0.145\n",
       "23   entropy        20          200    0.975     0.989  0.938    0.581\n",
       "31   entropy        50          200    0.975     0.989  0.938    0.427\n",
       "18   entropy      None          100    0.972     0.989  0.927    0.247\n",
       "2       gini      None          100    0.972     0.978  0.938    0.252\n",
       "3       gini      None          200    0.972     0.978  0.938    0.509\n",
       "21   entropy        20           50    0.972     0.968  0.948    0.165"
      ]
     },
     "execution_count": 13,
     "metadata": {},
     "output_type": "execute_result"
    }
   ],
   "source": [
    "df_result = pd.DataFrame(cv_grid.cv_results_).sort_values(by='mean_test_accuracy', ascending=False).head(1)\n",
    "\n",
    "selected_columns = [\n",
    "    'param_criterion',\n",
    "    'param_max_depth',\n",
    "    'param_n_estimators',\n",
    "    'mean_test_accuracy',\n",
    "    'mean_test_precision',\n",
    "    'mean_test_recall',\n",
    "    'mean_fit_time'\n",
    "]\n",
    "df_result = pd.DataFrame(cv_grid.cv_results_).sort_values(by='mean_test_accuracy', ascending=False).head(10)[selected_columns]\n",
    "df_result = df_result.rename(columns={\n",
    "    'param_criterion': \"criterion\",\n",
    "    'param_max_depth': \"max_depth\",\n",
    "    'param_n_estimators': \"n_estimators\",\n",
    "    \"mean_test_accuracy\": \"accuracy\",\n",
    "    \"mean_test_precision\": \"precision\",\n",
    "    \"mean_test_recall\": \"recall\",\n",
    "    \"mean_fit_time\": \"fit_time\"\n",
    "})\n",
    "\n",
    "\n",
    "for col in df_result.columns:\n",
    "    if df_result[col].dtype == np.float64:\n",
    "        df_result[col] = df_result[col].apply(lambda x: '{0:.3f}'.format(round(x,3)))\n",
    "df_result"
   ]
  },
  {
   "cell_type": "markdown",
   "metadata": {},
   "source": [
    "# Random Forrest: Prediction"
   ]
  },
  {
   "cell_type": "code",
   "execution_count": 14,
   "metadata": {},
   "outputs": [
    {
     "data": {
      "text/plain": [
       "{'accuracy': 0.975438596491228,\n",
       " 'precision': 0.9780890804597702,\n",
       " 'recall': 0.9479166666666666,\n",
       " 'fit_time': 0.09883379936218262}"
      ]
     },
     "metadata": {},
     "output_type": "display_data"
    },
    {
     "data": {
      "text/plain": [
       "{'false': 176, 'false %': 62, 'true': 108, 'true %': 38}"
      ]
     },
     "metadata": {},
     "output_type": "display_data"
    }
   ],
   "source": [
    "clf = make_pipeline( RandomForestClassifier(criterion='gini', max_depth=20, n_estimators=50))\n",
    "clf.fit(X, Y)\n",
    "\n",
    "# CV\n",
    "cv_result = cross_validate(clf, X, Y, cv=3, scoring = ['accuracy', 'precision', 'recall'], n_jobs=-1)\n",
    "\n",
    "results_overview['RandomForest'] = {\n",
    "    'accuracy': cv_result['test_accuracy'].mean(),\n",
    "    'precision': cv_result['test_precision'].mean(),\n",
    "    'recall': cv_result['test_recall'].mean(),\n",
    "    'fit_time' : cv_result['fit_time'].mean()\n",
    "    }\n",
    "\n",
    "display(results_overview['RandomForest'])\n",
    "\n",
    "# Predict\n",
    "y_prediction = clf.predict(X_test)\n",
    "\n",
    "unique_elements, counts_elements = np.unique(y_prediction, return_counts=True)\n",
    "\n",
    "predictions_per_model['RandomForest'] = {\n",
    "    'false': counts_elements[0],\n",
    "    'false %': int(round(counts_elements[0]/(counts_elements[0]+counts_elements[1])*100.0)),\n",
    "    'true': counts_elements[1],\n",
    "    'true %': int(round(counts_elements[1]/(counts_elements[0]+counts_elements[1])*100.0)),\n",
    "    }\n",
    "\n",
    "display(predictions_per_model['RandomForest'])"
   ]
  },
  {
   "cell_type": "code",
   "execution_count": 15,
   "metadata": {},
   "outputs": [
    {
     "data": {
      "text/plain": [
       "False    176\n",
       "True     108\n",
       "Name: MALIGNANT, dtype: int64"
      ]
     },
     "metadata": {},
     "output_type": "display_data"
    },
    {
     "data": {
      "image/png": "[encoded data removed]",
      "text/plain": [
       "<Figure size 432x288 with 2 Axes>"
      ]
     },
     "metadata": {},
     "output_type": "display_data"
    }
   ],
   "source": [
    "df_solution_test = pd.DataFrame(y_prediction, columns = ['MALIGNANT'])\n",
    "\n",
    "display(df_solution_test['MALIGNANT'].value_counts())\n",
    "\n",
    "fig, axs = plt.subplots(1, 2)\n",
    "\n",
    "axs[0].pie( df_data_train['MALIGNANT'].value_counts() , labels=['false','true'], \n",
    "        autopct='%1.1f%%', shadow=True)\n",
    "axs[0].axis('equal')\n",
    "axs[0].set_title(\"Train data\")\n",
    "\n",
    "\n",
    "axs[1].pie(df_solution_test['MALIGNANT'].value_counts() , labels=['false','true'], \n",
    "        autopct='%1.1f%%', shadow=True)\n",
    "axs[1].axis('equal')\n",
    "axs[1].set_title(\"Prediction\")\n",
    "\n",
    "\n",
    "plt.show()"
   ]
  },
  {
   "cell_type": "markdown",
   "metadata": {},
   "source": [
    "# SVM: Different Parameters"
   ]
  },
  {
   "cell_type": "code",
   "execution_count": 16,
   "metadata": {},
   "outputs": [
    {
     "name": "stdout",
     "output_type": "stream",
     "text": [
      "Fitting 3 folds for each of 200 candidates, totalling 600 fits\n"
     ]
    },
    {
     "name": "stderr",
     "output_type": "stream",
     "text": [
      "[Parallel(n_jobs=-1)]: Using backend LokyBackend with 4 concurrent workers.\n",
      "[Parallel(n_jobs=-1)]: Batch computation too fast (0.0831s.) Setting batch_size=2.\n",
      "[Parallel(n_jobs=-1)]: Done   5 tasks      | elapsed:    0.1s\n",
      "[Parallel(n_jobs=-1)]: Batch computation too fast (0.1126s.) Setting batch_size=4.\n",
      "[Parallel(n_jobs=-1)]: Done  15 tasks      | elapsed:    0.5s\n",
      "[Parallel(n_jobs=-1)]: Batch computation too slow (2.8421s.) Setting batch_size=1.\n",
      "[Parallel(n_jobs=-1)]: Done  34 tasks      | elapsed:    3.7s\n",
      "[Parallel(n_jobs=-1)]: Done  50 tasks      | elapsed:    6.8s\n",
      "[Parallel(n_jobs=-1)]: Done  59 tasks      | elapsed:    7.4s\n",
      "[Parallel(n_jobs=-1)]: Done  68 tasks      | elapsed:   15.2s\n",
      "[Parallel(n_jobs=-1)]: Done  79 tasks      | elapsed:   21.3s\n",
      "[Parallel(n_jobs=-1)]: Done  90 tasks      | elapsed:   22.0s\n",
      "[Parallel(n_jobs=-1)]: Done 106 tasks      | elapsed:   25.8s\n",
      "[Parallel(n_jobs=-1)]: Done 122 tasks      | elapsed:   28.4s\n",
      "[Parallel(n_jobs=-1)]: Done 137 tasks      | elapsed:   30.5s\n",
      "[Parallel(n_jobs=-1)]: Done 152 tasks      | elapsed:   37.8s\n",
      "[Parallel(n_jobs=-1)]: Done 169 tasks      | elapsed:   40.7s\n",
      "[Parallel(n_jobs=-1)]: Done 186 tasks      | elapsed:   44.7s\n",
      "[Parallel(n_jobs=-1)]: Done 205 tasks      | elapsed:   51.4s\n",
      "[Parallel(n_jobs=-1)]: Done 224 tasks      | elapsed:   57.0s\n",
      "[Parallel(n_jobs=-1)]: Done 245 tasks      | elapsed:  1.1min\n",
      "[Parallel(n_jobs=-1)]: Done 266 tasks      | elapsed:  1.2min\n",
      "[Parallel(n_jobs=-1)]: Done 289 tasks      | elapsed:  1.3min\n",
      "[Parallel(n_jobs=-1)]: Done 312 tasks      | elapsed:  1.4min\n",
      "[Parallel(n_jobs=-1)]: Done 337 tasks      | elapsed:  1.6min\n",
      "[Parallel(n_jobs=-1)]: Done 362 tasks      | elapsed:  1.7min\n",
      "[Parallel(n_jobs=-1)]: Done 389 tasks      | elapsed:  1.9min\n",
      "[Parallel(n_jobs=-1)]: Done 416 tasks      | elapsed:  2.0min\n",
      "[Parallel(n_jobs=-1)]: Done 445 tasks      | elapsed:  2.2min\n",
      "[Parallel(n_jobs=-1)]: Done 474 tasks      | elapsed:  2.3min\n",
      "[Parallel(n_jobs=-1)]: Done 505 tasks      | elapsed:  2.5min\n",
      "[Parallel(n_jobs=-1)]: Done 536 tasks      | elapsed:  2.7min\n",
      "[Parallel(n_jobs=-1)]: Done 569 tasks      | elapsed:  2.9min\n",
      "[Parallel(n_jobs=-1)]: Done 600 out of 600 | elapsed:  3.1min finished\n"
     ]
    },
    {
     "name": "stdout",
     "output_type": "stream",
     "text": [
      "{'C': 0.1, 'gamma': 'auto', 'kernel': 'poly'}\n"
     ]
    }
   ],
   "source": [
    "clf = SVC()\n",
    "\n",
    "parameter_grid= {\n",
    "    'C': [x for x in np.linspace(start = 0.1, stop = 1.0, num = 25)],\n",
    "    'gamma': ['auto','scale'],\n",
    "    'kernel' : ['linear','poly','sgmoid','rbf']\n",
    "    \n",
    "}\n",
    "                     \n",
    "cv_grid = GridSearchCV(clf, parameter_grid, cv=3, verbose=10, n_jobs=-1, scoring=['accuracy', 'precision', 'recall'], refit='accuracy')\n",
    "cv_grid.fit(X, Y)\n",
    "\n",
    "print(cv_grid.best_params_)"
   ]
  },
  {
   "cell_type": "code",
   "execution_count": 17,
   "metadata": {},
   "outputs": [
    {
     "data": {
      "text/html": [
       "<div>\n",
       "<style scoped>\n",
       "    .dataframe tbody tr th:only-of-type {\n",
       "        vertical-align: middle;\n",
       "    }\n",
       "\n",
       "    .dataframe tbody tr th {\n",
       "        vertical-align: top;\n",
       "    }\n",
       "\n",
       "    .dataframe thead th {\n",
       "        text-align: right;\n",
       "    }\n",
       "</style>\n",
       "<table border=\"1\" class=\"dataframe\">\n",
       "  <thead>\n",
       "    <tr style=\"text-align: right;\">\n",
       "      <th></th>\n",
       "      <th>C</th>\n",
       "      <th>gamma</th>\n",
       "      <th>kernel</th>\n",
       "      <th>accuracy</th>\n",
       "      <th>precision</th>\n",
       "      <th>recall</th>\n",
       "      <th>fit_time</th>\n",
       "    </tr>\n",
       "  </thead>\n",
       "  <tbody>\n",
       "    <tr>\n",
       "      <th>137</th>\n",
       "      <td>0.7375</td>\n",
       "      <td>auto</td>\n",
       "      <td>poly</td>\n",
       "      <td>0.961</td>\n",
       "      <td>0.959</td>\n",
       "      <td>0.927</td>\n",
       "      <td>9.178</td>\n",
       "    </tr>\n",
       "    <tr>\n",
       "      <th>161</th>\n",
       "      <td>0.85</td>\n",
       "      <td>auto</td>\n",
       "      <td>poly</td>\n",
       "      <td>0.961</td>\n",
       "      <td>0.959</td>\n",
       "      <td>0.927</td>\n",
       "      <td>8.428</td>\n",
       "    </tr>\n",
       "    <tr>\n",
       "      <th>121</th>\n",
       "      <td>0.6625</td>\n",
       "      <td>auto</td>\n",
       "      <td>poly</td>\n",
       "      <td>0.961</td>\n",
       "      <td>0.959</td>\n",
       "      <td>0.927</td>\n",
       "      <td>7.914</td>\n",
       "    </tr>\n",
       "    <tr>\n",
       "      <th>41</th>\n",
       "      <td>0.2875</td>\n",
       "      <td>auto</td>\n",
       "      <td>poly</td>\n",
       "      <td>0.961</td>\n",
       "      <td>0.959</td>\n",
       "      <td>0.927</td>\n",
       "      <td>7.877</td>\n",
       "    </tr>\n",
       "    <tr>\n",
       "      <th>129</th>\n",
       "      <td>0.7</td>\n",
       "      <td>auto</td>\n",
       "      <td>poly</td>\n",
       "      <td>0.961</td>\n",
       "      <td>0.959</td>\n",
       "      <td>0.927</td>\n",
       "      <td>8.218</td>\n",
       "    </tr>\n",
       "    <tr>\n",
       "      <th>73</th>\n",
       "      <td>0.4375</td>\n",
       "      <td>auto</td>\n",
       "      <td>poly</td>\n",
       "      <td>0.961</td>\n",
       "      <td>0.959</td>\n",
       "      <td>0.927</td>\n",
       "      <td>8.629</td>\n",
       "    </tr>\n",
       "    <tr>\n",
       "      <th>33</th>\n",
       "      <td>0.25</td>\n",
       "      <td>auto</td>\n",
       "      <td>poly</td>\n",
       "      <td>0.961</td>\n",
       "      <td>0.959</td>\n",
       "      <td>0.927</td>\n",
       "      <td>7.466</td>\n",
       "    </tr>\n",
       "    <tr>\n",
       "      <th>105</th>\n",
       "      <td>0.5875</td>\n",
       "      <td>auto</td>\n",
       "      <td>poly</td>\n",
       "      <td>0.961</td>\n",
       "      <td>0.959</td>\n",
       "      <td>0.927</td>\n",
       "      <td>8.737</td>\n",
       "    </tr>\n",
       "    <tr>\n",
       "      <th>145</th>\n",
       "      <td>0.775</td>\n",
       "      <td>auto</td>\n",
       "      <td>poly</td>\n",
       "      <td>0.961</td>\n",
       "      <td>0.959</td>\n",
       "      <td>0.927</td>\n",
       "      <td>10.535</td>\n",
       "    </tr>\n",
       "    <tr>\n",
       "      <th>1</th>\n",
       "      <td>0.1</td>\n",
       "      <td>auto</td>\n",
       "      <td>poly</td>\n",
       "      <td>0.961</td>\n",
       "      <td>0.959</td>\n",
       "      <td>0.927</td>\n",
       "      <td>7.804</td>\n",
       "    </tr>\n",
       "  </tbody>\n",
       "</table>\n",
       "</div>"
      ],
      "text/plain": [
       "          C gamma kernel accuracy precision recall fit_time\n",
       "137  0.7375  auto   poly    0.961     0.959  0.927    9.178\n",
       "161    0.85  auto   poly    0.961     0.959  0.927    8.428\n",
       "121  0.6625  auto   poly    0.961     0.959  0.927    7.914\n",
       "41   0.2875  auto   poly    0.961     0.959  0.927    7.877\n",
       "129     0.7  auto   poly    0.961     0.959  0.927    8.218\n",
       "73   0.4375  auto   poly    0.961     0.959  0.927    8.629\n",
       "33     0.25  auto   poly    0.961     0.959  0.927    7.466\n",
       "105  0.5875  auto   poly    0.961     0.959  0.927    8.737\n",
       "145   0.775  auto   poly    0.961     0.959  0.927   10.535\n",
       "1       0.1  auto   poly    0.961     0.959  0.927    7.804"
      ]
     },
     "execution_count": 17,
     "metadata": {},
     "output_type": "execute_result"
    }
   ],
   "source": [
    "selected_columns = [\n",
    "    'param_C',\n",
    "    'param_gamma',\n",
    "    'param_kernel',\n",
    "    'mean_test_accuracy',\n",
    "    'mean_test_precision',\n",
    "    'mean_test_recall',\n",
    "    'mean_fit_time'\n",
    "]\n",
    "df_result = pd.DataFrame(cv_grid.cv_results_).sort_values(by='mean_test_accuracy', ascending=False).head(10)[selected_columns]\n",
    "df_result = df_result.rename(columns={\n",
    "    'param_C': \"C\",\n",
    "    'param_gamma': \"gamma\",\n",
    "    'param_kernel': \"kernel\",\n",
    "    \"mean_test_accuracy\": \"accuracy\",\n",
    "    \"mean_test_precision\": \"precision\",\n",
    "    \"mean_test_recall\": \"recall\",\n",
    "    \"mean_fit_time\": \"fit_time\"\n",
    "})\n",
    "\n",
    "\n",
    "for col in df_result.columns:\n",
    "    if df_result[col].dtype == np.float64:\n",
    "        df_result[col] = df_result[col].apply(lambda x: '{0:.3f}'.format(round(x,3)))\n",
    "df_result"
   ]
  },
  {
   "cell_type": "code",
   "execution_count": 18,
   "metadata": {},
   "outputs": [
    {
     "name": "stdout",
     "output_type": "stream",
     "text": [
      "Fitting 3 folds for each of 10 candidates, totalling 30 fits\n"
     ]
    },
    {
     "name": "stderr",
     "output_type": "stream",
     "text": [
      "[Parallel(n_jobs=-1)]: Using backend LokyBackend with 4 concurrent workers.\n",
      "[Parallel(n_jobs=-1)]: Done   5 tasks      | elapsed:    8.9s\n",
      "[Parallel(n_jobs=-1)]: Done  10 tasks      | elapsed:   21.3s\n",
      "[Parallel(n_jobs=-1)]: Done  17 tasks      | elapsed:   36.0s\n",
      "[Parallel(n_jobs=-1)]: Done  27 out of  30 | elapsed:   57.3s remaining:    6.3s\n",
      "[Parallel(n_jobs=-1)]: Done  30 out of  30 | elapsed:  1.1min finished\n"
     ]
    },
    {
     "name": "stdout",
     "output_type": "stream",
     "text": [
      "{'C': 0.7, 'gamma': 'auto', 'kernel': 'poly'}\n"
     ]
    }
   ],
   "source": [
    "clf = SVC()\n",
    "\n",
    "parameter_grid= {\n",
    "    'C': [x for x in np.linspace(start = 0.7, stop = 0.8, num = 10)],\n",
    "    'gamma': ['auto'],\n",
    "    'kernel' : ['poly']\n",
    "    \n",
    "}\n",
    "cv_grid = GridSearchCV(clf, parameter_grid, cv=3, verbose=10, n_jobs=-1, scoring=['accuracy', 'precision', 'recall'], refit='accuracy')\n",
    "cv_grid.fit(X, Y)\n",
    "\n",
    "print(cv_grid.best_params_)"
   ]
  },
  {
   "cell_type": "code",
   "execution_count": 19,
   "metadata": {},
   "outputs": [
    {
     "data": {
      "text/html": [
       "<div>\n",
       "<style scoped>\n",
       "    .dataframe tbody tr th:only-of-type {\n",
       "        vertical-align: middle;\n",
       "    }\n",
       "\n",
       "    .dataframe tbody tr th {\n",
       "        vertical-align: top;\n",
       "    }\n",
       "\n",
       "    .dataframe thead th {\n",
       "        text-align: right;\n",
       "    }\n",
       "</style>\n",
       "<table border=\"1\" class=\"dataframe\">\n",
       "  <thead>\n",
       "    <tr style=\"text-align: right;\">\n",
       "      <th></th>\n",
       "      <th>C</th>\n",
       "      <th>gamma</th>\n",
       "      <th>kernel</th>\n",
       "      <th>accuracy</th>\n",
       "      <th>precision</th>\n",
       "      <th>recall</th>\n",
       "      <th>fit_time</th>\n",
       "    </tr>\n",
       "  </thead>\n",
       "  <tbody>\n",
       "    <tr>\n",
       "      <th>0</th>\n",
       "      <td>0.7</td>\n",
       "      <td>auto</td>\n",
       "      <td>poly</td>\n",
       "      <td>0.961</td>\n",
       "      <td>0.959</td>\n",
       "      <td>0.927</td>\n",
       "      <td>8.289</td>\n",
       "    </tr>\n",
       "    <tr>\n",
       "      <th>1</th>\n",
       "      <td>0.711111</td>\n",
       "      <td>auto</td>\n",
       "      <td>poly</td>\n",
       "      <td>0.961</td>\n",
       "      <td>0.959</td>\n",
       "      <td>0.927</td>\n",
       "      <td>8.409</td>\n",
       "    </tr>\n",
       "    <tr>\n",
       "      <th>2</th>\n",
       "      <td>0.722222</td>\n",
       "      <td>auto</td>\n",
       "      <td>poly</td>\n",
       "      <td>0.961</td>\n",
       "      <td>0.959</td>\n",
       "      <td>0.927</td>\n",
       "      <td>8.461</td>\n",
       "    </tr>\n",
       "    <tr>\n",
       "      <th>3</th>\n",
       "      <td>0.733333</td>\n",
       "      <td>auto</td>\n",
       "      <td>poly</td>\n",
       "      <td>0.961</td>\n",
       "      <td>0.959</td>\n",
       "      <td>0.927</td>\n",
       "      <td>8.360</td>\n",
       "    </tr>\n",
       "    <tr>\n",
       "      <th>4</th>\n",
       "      <td>0.744444</td>\n",
       "      <td>auto</td>\n",
       "      <td>poly</td>\n",
       "      <td>0.961</td>\n",
       "      <td>0.959</td>\n",
       "      <td>0.927</td>\n",
       "      <td>8.321</td>\n",
       "    </tr>\n",
       "    <tr>\n",
       "      <th>5</th>\n",
       "      <td>0.755556</td>\n",
       "      <td>auto</td>\n",
       "      <td>poly</td>\n",
       "      <td>0.961</td>\n",
       "      <td>0.959</td>\n",
       "      <td>0.927</td>\n",
       "      <td>8.234</td>\n",
       "    </tr>\n",
       "    <tr>\n",
       "      <th>6</th>\n",
       "      <td>0.766667</td>\n",
       "      <td>auto</td>\n",
       "      <td>poly</td>\n",
       "      <td>0.961</td>\n",
       "      <td>0.959</td>\n",
       "      <td>0.927</td>\n",
       "      <td>8.486</td>\n",
       "    </tr>\n",
       "    <tr>\n",
       "      <th>7</th>\n",
       "      <td>0.777778</td>\n",
       "      <td>auto</td>\n",
       "      <td>poly</td>\n",
       "      <td>0.961</td>\n",
       "      <td>0.959</td>\n",
       "      <td>0.927</td>\n",
       "      <td>8.616</td>\n",
       "    </tr>\n",
       "    <tr>\n",
       "      <th>8</th>\n",
       "      <td>0.788889</td>\n",
       "      <td>auto</td>\n",
       "      <td>poly</td>\n",
       "      <td>0.961</td>\n",
       "      <td>0.959</td>\n",
       "      <td>0.927</td>\n",
       "      <td>7.903</td>\n",
       "    </tr>\n",
       "    <tr>\n",
       "      <th>9</th>\n",
       "      <td>0.8</td>\n",
       "      <td>auto</td>\n",
       "      <td>poly</td>\n",
       "      <td>0.961</td>\n",
       "      <td>0.959</td>\n",
       "      <td>0.927</td>\n",
       "      <td>6.118</td>\n",
       "    </tr>\n",
       "  </tbody>\n",
       "</table>\n",
       "</div>"
      ],
      "text/plain": [
       "          C gamma kernel accuracy precision recall fit_time\n",
       "0       0.7  auto   poly    0.961     0.959  0.927    8.289\n",
       "1  0.711111  auto   poly    0.961     0.959  0.927    8.409\n",
       "2  0.722222  auto   poly    0.961     0.959  0.927    8.461\n",
       "3  0.733333  auto   poly    0.961     0.959  0.927    8.360\n",
       "4  0.744444  auto   poly    0.961     0.959  0.927    8.321\n",
       "5  0.755556  auto   poly    0.961     0.959  0.927    8.234\n",
       "6  0.766667  auto   poly    0.961     0.959  0.927    8.486\n",
       "7  0.777778  auto   poly    0.961     0.959  0.927    8.616\n",
       "8  0.788889  auto   poly    0.961     0.959  0.927    7.903\n",
       "9       0.8  auto   poly    0.961     0.959  0.927    6.118"
      ]
     },
     "execution_count": 19,
     "metadata": {},
     "output_type": "execute_result"
    }
   ],
   "source": [
    "selected_columns = [\n",
    "    'param_C',\n",
    "    'param_gamma',\n",
    "    'param_kernel',\n",
    "    'mean_test_accuracy',\n",
    "    'mean_test_precision',\n",
    "    'mean_test_recall',\n",
    "    'mean_fit_time'\n",
    "]\n",
    "df_result = pd.DataFrame(cv_grid.cv_results_).sort_values(by='mean_test_accuracy', ascending=False).head(10)[selected_columns]\n",
    "df_result = df_result.rename(columns={\n",
    "    'param_C': \"C\",\n",
    "    'param_gamma': \"gamma\",\n",
    "    'param_kernel': \"kernel\",\n",
    "    \"mean_test_accuracy\": \"accuracy\",\n",
    "    \"mean_test_precision\": \"precision\",\n",
    "    \"mean_test_recall\": \"recall\",\n",
    "    \"mean_fit_time\": \"fit_time\"\n",
    "})\n",
    "\n",
    "\n",
    "for col in df_result.columns:\n",
    "    if df_result[col].dtype == np.float64:\n",
    "        df_result[col] = df_result[col].apply(lambda x: '{0:.3f}'.format(round(x,3)))\n",
    "df_result"
   ]
  },
  {
   "cell_type": "code",
   "execution_count": 20,
   "metadata": {},
   "outputs": [
    {
     "name": "stdout",
     "output_type": "stream",
     "text": [
      "Fitting 3 folds for each of 10 candidates, totalling 30 fits\n"
     ]
    },
    {
     "name": "stderr",
     "output_type": "stream",
     "text": [
      "[Parallel(n_jobs=-1)]: Using backend LokyBackend with 4 concurrent workers.\n",
      "[Parallel(n_jobs=-1)]: Done   5 tasks      | elapsed:    9.5s\n",
      "[Parallel(n_jobs=-1)]: Done  10 tasks      | elapsed:   22.6s\n",
      "[Parallel(n_jobs=-1)]: Done  17 tasks      | elapsed:   39.3s\n",
      "[Parallel(n_jobs=-1)]: Done  27 out of  30 | elapsed:  1.1min remaining:    7.0s\n",
      "[Parallel(n_jobs=-1)]: Done  30 out of  30 | elapsed:  1.2min finished\n"
     ]
    },
    {
     "name": "stdout",
     "output_type": "stream",
     "text": [
      "{'C': 0.6, 'gamma': 'auto', 'kernel': 'poly'}\n"
     ]
    }
   ],
   "source": [
    "clf = SVC()\n",
    "\n",
    "parameter_grid= {\n",
    "    'C': [x for x in np.linspace(start = 0.6, stop = 0.7, num = 10)],\n",
    "    'gamma': ['auto'],\n",
    "    'kernel' : ['poly']\n",
    "    \n",
    "}\n",
    "cv_grid = GridSearchCV(clf, parameter_grid, cv=3, verbose=10, n_jobs=-1, scoring=['accuracy', 'precision', 'recall'], refit='accuracy')\n",
    "cv_grid.fit(X, Y)\n",
    "\n",
    "print(cv_grid.best_params_)   "
   ]
  },
  {
   "cell_type": "code",
   "execution_count": 21,
   "metadata": {},
   "outputs": [
    {
     "data": {
      "text/html": [
       "<div>\n",
       "<style scoped>\n",
       "    .dataframe tbody tr th:only-of-type {\n",
       "        vertical-align: middle;\n",
       "    }\n",
       "\n",
       "    .dataframe tbody tr th {\n",
       "        vertical-align: top;\n",
       "    }\n",
       "\n",
       "    .dataframe thead th {\n",
       "        text-align: right;\n",
       "    }\n",
       "</style>\n",
       "<table border=\"1\" class=\"dataframe\">\n",
       "  <thead>\n",
       "    <tr style=\"text-align: right;\">\n",
       "      <th></th>\n",
       "      <th>C</th>\n",
       "      <th>gamma</th>\n",
       "      <th>kernel</th>\n",
       "      <th>accuracy</th>\n",
       "      <th>precision</th>\n",
       "      <th>recall</th>\n",
       "      <th>fit_time</th>\n",
       "    </tr>\n",
       "  </thead>\n",
       "  <tbody>\n",
       "    <tr>\n",
       "      <th>0</th>\n",
       "      <td>0.6</td>\n",
       "      <td>auto</td>\n",
       "      <td>poly</td>\n",
       "      <td>0.961</td>\n",
       "      <td>0.959</td>\n",
       "      <td>0.927</td>\n",
       "      <td>8.811</td>\n",
       "    </tr>\n",
       "    <tr>\n",
       "      <th>1</th>\n",
       "      <td>0.611111</td>\n",
       "      <td>auto</td>\n",
       "      <td>poly</td>\n",
       "      <td>0.961</td>\n",
       "      <td>0.959</td>\n",
       "      <td>0.927</td>\n",
       "      <td>8.966</td>\n",
       "    </tr>\n",
       "    <tr>\n",
       "      <th>2</th>\n",
       "      <td>0.622222</td>\n",
       "      <td>auto</td>\n",
       "      <td>poly</td>\n",
       "      <td>0.961</td>\n",
       "      <td>0.959</td>\n",
       "      <td>0.927</td>\n",
       "      <td>8.828</td>\n",
       "    </tr>\n",
       "    <tr>\n",
       "      <th>3</th>\n",
       "      <td>0.633333</td>\n",
       "      <td>auto</td>\n",
       "      <td>poly</td>\n",
       "      <td>0.961</td>\n",
       "      <td>0.959</td>\n",
       "      <td>0.927</td>\n",
       "      <td>8.923</td>\n",
       "    </tr>\n",
       "    <tr>\n",
       "      <th>4</th>\n",
       "      <td>0.644444</td>\n",
       "      <td>auto</td>\n",
       "      <td>poly</td>\n",
       "      <td>0.961</td>\n",
       "      <td>0.959</td>\n",
       "      <td>0.927</td>\n",
       "      <td>9.581</td>\n",
       "    </tr>\n",
       "    <tr>\n",
       "      <th>5</th>\n",
       "      <td>0.655556</td>\n",
       "      <td>auto</td>\n",
       "      <td>poly</td>\n",
       "      <td>0.961</td>\n",
       "      <td>0.959</td>\n",
       "      <td>0.927</td>\n",
       "      <td>9.708</td>\n",
       "    </tr>\n",
       "    <tr>\n",
       "      <th>6</th>\n",
       "      <td>0.666667</td>\n",
       "      <td>auto</td>\n",
       "      <td>poly</td>\n",
       "      <td>0.961</td>\n",
       "      <td>0.959</td>\n",
       "      <td>0.927</td>\n",
       "      <td>9.676</td>\n",
       "    </tr>\n",
       "    <tr>\n",
       "      <th>7</th>\n",
       "      <td>0.677778</td>\n",
       "      <td>auto</td>\n",
       "      <td>poly</td>\n",
       "      <td>0.961</td>\n",
       "      <td>0.959</td>\n",
       "      <td>0.927</td>\n",
       "      <td>9.875</td>\n",
       "    </tr>\n",
       "    <tr>\n",
       "      <th>8</th>\n",
       "      <td>0.688889</td>\n",
       "      <td>auto</td>\n",
       "      <td>poly</td>\n",
       "      <td>0.961</td>\n",
       "      <td>0.959</td>\n",
       "      <td>0.927</td>\n",
       "      <td>9.083</td>\n",
       "    </tr>\n",
       "    <tr>\n",
       "      <th>9</th>\n",
       "      <td>0.7</td>\n",
       "      <td>auto</td>\n",
       "      <td>poly</td>\n",
       "      <td>0.961</td>\n",
       "      <td>0.959</td>\n",
       "      <td>0.927</td>\n",
       "      <td>6.512</td>\n",
       "    </tr>\n",
       "  </tbody>\n",
       "</table>\n",
       "</div>"
      ],
      "text/plain": [
       "          C gamma kernel accuracy precision recall fit_time\n",
       "0       0.6  auto   poly    0.961     0.959  0.927    8.811\n",
       "1  0.611111  auto   poly    0.961     0.959  0.927    8.966\n",
       "2  0.622222  auto   poly    0.961     0.959  0.927    8.828\n",
       "3  0.633333  auto   poly    0.961     0.959  0.927    8.923\n",
       "4  0.644444  auto   poly    0.961     0.959  0.927    9.581\n",
       "5  0.655556  auto   poly    0.961     0.959  0.927    9.708\n",
       "6  0.666667  auto   poly    0.961     0.959  0.927    9.676\n",
       "7  0.677778  auto   poly    0.961     0.959  0.927    9.875\n",
       "8  0.688889  auto   poly    0.961     0.959  0.927    9.083\n",
       "9       0.7  auto   poly    0.961     0.959  0.927    6.512"
      ]
     },
     "execution_count": 21,
     "metadata": {},
     "output_type": "execute_result"
    }
   ],
   "source": [
    "selected_columns = [\n",
    "    'param_C',\n",
    "    'param_gamma',\n",
    "    'param_kernel',\n",
    "    'mean_test_accuracy',\n",
    "    'mean_test_precision',\n",
    "    'mean_test_recall',\n",
    "    'mean_fit_time'\n",
    "]\n",
    "df_result = pd.DataFrame(cv_grid.cv_results_).sort_values(by='mean_test_accuracy', ascending=False).head(10)[selected_columns]\n",
    "df_result = df_result.rename(columns={\n",
    "    'param_C': \"C\",\n",
    "    'param_gamma': \"gamma\",\n",
    "    'param_kernel': \"kernel\",\n",
    "    \"mean_test_accuracy\": \"accuracy\",\n",
    "    \"mean_test_precision\": \"precision\",\n",
    "    \"mean_test_recall\": \"recall\",\n",
    "    \"mean_fit_time\": \"fit_time\"\n",
    "})\n",
    "\n",
    "\n",
    "for col in df_result.columns:\n",
    "    if df_result[col].dtype == np.float64:\n",
    "        df_result[col] = df_result[col].apply(lambda x: '{0:.3f}'.format(round(x,3)))\n",
    "df_result"
   ]
  },
  {
   "cell_type": "code",
   "execution_count": 22,
   "metadata": {},
   "outputs": [
    {
     "name": "stdout",
     "output_type": "stream",
     "text": [
      "Fitting 3 folds for each of 100 candidates, totalling 300 fits\n"
     ]
    },
    {
     "name": "stderr",
     "output_type": "stream",
     "text": [
      "[Parallel(n_jobs=-1)]: Using backend LokyBackend with 4 concurrent workers.\n",
      "[Parallel(n_jobs=-1)]: Batch computation too fast (0.0166s.) Setting batch_size=2.\n",
      "[Parallel(n_jobs=-1)]: Batch computation too fast (0.0166s.) Setting batch_size=4.\n",
      "[Parallel(n_jobs=-1)]: Done   2 tasks      | elapsed:    0.0s\n",
      "[Parallel(n_jobs=-1)]: Done   7 tasks      | elapsed:    0.0s\n",
      "[Parallel(n_jobs=-1)]: Batch computation too fast (0.0458s.) Setting batch_size=8.\n",
      "[Parallel(n_jobs=-1)]: Done  32 tasks      | elapsed:    0.1s\n",
      "[Parallel(n_jobs=-1)]: Done  64 tasks      | elapsed:    0.2s\n",
      "[Parallel(n_jobs=-1)]: Batch computation too fast (0.1998s.) Setting batch_size=16.\n",
      "[Parallel(n_jobs=-1)]: Done 136 tasks      | elapsed:    0.4s\n"
     ]
    },
    {
     "name": "stdout",
     "output_type": "stream",
     "text": [
      "{'C': 0.6732323232323232}\n"
     ]
    },
    {
     "name": "stderr",
     "output_type": "stream",
     "text": [
      "[Parallel(n_jobs=-1)]: Done 264 tasks      | elapsed:    0.8s\n",
      "[Parallel(n_jobs=-1)]: Done 275 tasks      | elapsed:    0.9s\n",
      "[Parallel(n_jobs=-1)]: Done 293 out of 300 | elapsed:    0.9s remaining:    0.0s\n",
      "[Parallel(n_jobs=-1)]: Done 300 out of 300 | elapsed:    0.9s finished\n"
     ]
    }
   ],
   "source": [
    "clf = SVC()\n",
    "\n",
    "parameter_grid= {\n",
    "    'C': [x for x in np.linspace(start = 0.01, stop = 0.99, num = 100)]    \n",
    "}\n",
    "\n",
    "cv_grid = GridSearchCV(clf, parameter_grid, cv=3, verbose=10, n_jobs=-1, scoring=['accuracy', 'precision', 'recall'], refit='accuracy')\n",
    "cv_grid.fit(X, Y)\n",
    "\n",
    "print(cv_grid.best_params_)            "
   ]
  },
  {
   "cell_type": "code",
   "execution_count": 23,
   "metadata": {},
   "outputs": [
    {
     "data": {
      "text/html": [
       "<div>\n",
       "<style scoped>\n",
       "    .dataframe tbody tr th:only-of-type {\n",
       "        vertical-align: middle;\n",
       "    }\n",
       "\n",
       "    .dataframe tbody tr th {\n",
       "        vertical-align: top;\n",
       "    }\n",
       "\n",
       "    .dataframe thead th {\n",
       "        text-align: right;\n",
       "    }\n",
       "</style>\n",
       "<table border=\"1\" class=\"dataframe\">\n",
       "  <thead>\n",
       "    <tr style=\"text-align: right;\">\n",
       "      <th></th>\n",
       "      <th>C</th>\n",
       "      <th>accuracy</th>\n",
       "      <th>precision</th>\n",
       "      <th>recall</th>\n",
       "      <th>fit_time</th>\n",
       "    </tr>\n",
       "  </thead>\n",
       "  <tbody>\n",
       "    <tr>\n",
       "      <th>99</th>\n",
       "      <td>0.99</td>\n",
       "      <td>0.926</td>\n",
       "      <td>0.989</td>\n",
       "      <td>0.792</td>\n",
       "      <td>0.005</td>\n",
       "    </tr>\n",
       "    <tr>\n",
       "      <th>74</th>\n",
       "      <td>0.742525</td>\n",
       "      <td>0.926</td>\n",
       "      <td>0.989</td>\n",
       "      <td>0.792</td>\n",
       "      <td>0.001</td>\n",
       "    </tr>\n",
       "    <tr>\n",
       "      <th>81</th>\n",
       "      <td>0.811818</td>\n",
       "      <td>0.926</td>\n",
       "      <td>0.989</td>\n",
       "      <td>0.792</td>\n",
       "      <td>0.010</td>\n",
       "    </tr>\n",
       "    <tr>\n",
       "      <th>80</th>\n",
       "      <td>0.801919</td>\n",
       "      <td>0.926</td>\n",
       "      <td>0.989</td>\n",
       "      <td>0.792</td>\n",
       "      <td>0.008</td>\n",
       "    </tr>\n",
       "    <tr>\n",
       "      <th>79</th>\n",
       "      <td>0.79202</td>\n",
       "      <td>0.926</td>\n",
       "      <td>0.989</td>\n",
       "      <td>0.792</td>\n",
       "      <td>0.000</td>\n",
       "    </tr>\n",
       "    <tr>\n",
       "      <th>78</th>\n",
       "      <td>0.782121</td>\n",
       "      <td>0.926</td>\n",
       "      <td>0.989</td>\n",
       "      <td>0.792</td>\n",
       "      <td>0.001</td>\n",
       "    </tr>\n",
       "    <tr>\n",
       "      <th>77</th>\n",
       "      <td>0.772222</td>\n",
       "      <td>0.926</td>\n",
       "      <td>0.989</td>\n",
       "      <td>0.792</td>\n",
       "      <td>0.002</td>\n",
       "    </tr>\n",
       "    <tr>\n",
       "      <th>75</th>\n",
       "      <td>0.752424</td>\n",
       "      <td>0.926</td>\n",
       "      <td>0.989</td>\n",
       "      <td>0.792</td>\n",
       "      <td>0.001</td>\n",
       "    </tr>\n",
       "    <tr>\n",
       "      <th>73</th>\n",
       "      <td>0.732626</td>\n",
       "      <td>0.926</td>\n",
       "      <td>0.989</td>\n",
       "      <td>0.792</td>\n",
       "      <td>0.007</td>\n",
       "    </tr>\n",
       "    <tr>\n",
       "      <th>83</th>\n",
       "      <td>0.831616</td>\n",
       "      <td>0.926</td>\n",
       "      <td>0.989</td>\n",
       "      <td>0.792</td>\n",
       "      <td>0.000</td>\n",
       "    </tr>\n",
       "  </tbody>\n",
       "</table>\n",
       "</div>"
      ],
      "text/plain": [
       "           C accuracy precision recall fit_time\n",
       "99      0.99    0.926     0.989  0.792    0.005\n",
       "74  0.742525    0.926     0.989  0.792    0.001\n",
       "81  0.811818    0.926     0.989  0.792    0.010\n",
       "80  0.801919    0.926     0.989  0.792    0.008\n",
       "79   0.79202    0.926     0.989  0.792    0.000\n",
       "78  0.782121    0.926     0.989  0.792    0.001\n",
       "77  0.772222    0.926     0.989  0.792    0.002\n",
       "75  0.752424    0.926     0.989  0.792    0.001\n",
       "73  0.732626    0.926     0.989  0.792    0.007\n",
       "83  0.831616    0.926     0.989  0.792    0.000"
      ]
     },
     "execution_count": 23,
     "metadata": {},
     "output_type": "execute_result"
    }
   ],
   "source": [
    "selected_columns = [\n",
    "    'param_C',\n",
    "    'mean_test_accuracy',\n",
    "    'mean_test_precision',\n",
    "    'mean_test_recall',\n",
    "    'mean_fit_time'\n",
    "]\n",
    "df_result = pd.DataFrame(cv_grid.cv_results_).sort_values(by='mean_test_accuracy', ascending=False).head(10)[selected_columns]\n",
    "df_result = df_result.rename(columns={\n",
    "    'param_C': \"C\",\n",
    "    \"mean_test_accuracy\": \"accuracy\",\n",
    "    \"mean_test_precision\": \"precision\",\n",
    "    \"mean_test_recall\": \"recall\",\n",
    "    \"mean_fit_time\": \"fit_time\"\n",
    "})\n",
    "\n",
    "\n",
    "for col in df_result.columns:\n",
    "    if df_result[col].dtype == np.float64:\n",
    "        df_result[col] = df_result[col].apply(lambda x: '{0:.3f}'.format(round(x,3)))\n",
    "df_result"
   ]
  },
  {
   "cell_type": "markdown",
   "metadata": {},
   "source": [
    "# SVM: Different Scaling"
   ]
  },
  {
   "cell_type": "code",
   "execution_count": 24,
   "metadata": {},
   "outputs": [
    {
     "name": "stdout",
     "output_type": "stream",
     "text": [
      "[0.97894737 0.94736842 0.95789474]\n",
      "0.9614035087719298\n"
     ]
    }
   ],
   "source": [
    "clf = make_pipeline(SVC(C = 0.01,gamma='auto',kernel='poly'))\n",
    "clf.fit(X, Y)\n",
    "\n",
    "scores= cross_validate(clf, X, Y, cv=3, scoring=['accuracy', 'precision', 'recall'], n_jobs=-1)\n",
    "\n",
    "print(scores[\"test_accuracy\"])\n",
    "print(np.mean(scores[\"test_accuracy\"]))"
   ]
  },
  {
   "cell_type": "code",
   "execution_count": 25,
   "metadata": {},
   "outputs": [
    {
     "name": "stdout",
     "output_type": "stream",
     "text": [
      "[0.73684211 0.76842105 0.67368421]\n",
      "0.7263157894736841\n"
     ]
    }
   ],
   "source": [
    "clf = make_pipeline(StandardScaler(),SVC(C = 0.01,gamma='auto',kernel='poly'))\n",
    "clf.fit(X, Y)\n",
    "\n",
    "scores= cross_validate(clf, X, Y, cv=3, scoring=['accuracy', 'precision', 'recall'], n_jobs=-1)\n",
    "print(scores[\"test_accuracy\"])\n",
    "print(np.mean(scores[\"test_accuracy\"]))"
   ]
  },
  {
   "cell_type": "code",
   "execution_count": 26,
   "metadata": {},
   "outputs": [
    {
     "name": "stdout",
     "output_type": "stream",
     "text": [
      "[0.72631579 0.76842105 0.66315789]\n",
      "0.7192982456140351\n"
     ]
    }
   ],
   "source": [
    "clf = make_pipeline(RobustScaler(),SVC(C = 0.01,gamma='auto',kernel='poly'))\n",
    "clf.fit(X, Y)\n",
    "\n",
    "scores= cross_validate(clf, X, Y, cv=3, scoring=['accuracy', 'precision', 'recall'], n_jobs=-1)\n",
    "print(scores[\"test_accuracy\"])\n",
    "print(np.mean(scores[\"test_accuracy\"]))"
   ]
  },
  {
   "cell_type": "markdown",
   "metadata": {},
   "source": [
    "# SVM: Prediction"
   ]
  },
  {
   "cell_type": "code",
   "execution_count": 27,
   "metadata": {},
   "outputs": [
    {
     "data": {
      "text/plain": [
       "{'accuracy': 0.9614035087719298,\n",
       " 'precision': 0.9585858585858587,\n",
       " 'recall': 0.9270833333333334,\n",
       " 'fit_time': 4.600343783696492}"
      ]
     },
     "metadata": {},
     "output_type": "display_data"
    },
    {
     "data": {
      "text/plain": [
       "{'false': 180, 'false %': 63, 'true': 104, 'true %': 37}"
      ]
     },
     "metadata": {},
     "output_type": "display_data"
    }
   ],
   "source": [
    "clf = make_pipeline(SVC(C = 0.01,gamma='auto',kernel='poly'))\n",
    "clf.fit(X, Y)\n",
    "# CV\n",
    "cv_result = cross_validate(clf, X, Y, cv=3, scoring=['accuracy', 'precision', 'recall'], n_jobs=-1)\n",
    "\n",
    "results_overview['SVC'] = {\n",
    "    'accuracy': cv_result['test_accuracy'].mean(),\n",
    "    'precision': cv_result['test_precision'].mean(),\n",
    "    'recall': cv_result['test_recall'].mean(),\n",
    "    'fit_time' : cv_result['fit_time'].mean()\n",
    "}\n",
    "\n",
    "display(results_overview['SVC'])\n",
    "\n",
    "# Predict\n",
    "y_prediction = clf.predict(X_test)\n",
    "\n",
    "unique_elements, counts_elements = np.unique(y_prediction, return_counts=True)\n",
    "\n",
    "predictions_per_model['SVC'] = {\n",
    "    'false': counts_elements[0],\n",
    "    'false %': int(round(counts_elements[0]/(counts_elements[0]+counts_elements[1])*100.0)),\n",
    "    'true': counts_elements[1],\n",
    "    'true %': int(round(counts_elements[1]/(counts_elements[0]+counts_elements[1])*100.0)),\n",
    "}\n",
    "display(predictions_per_model['SVC'])"
   ]
  },
  {
   "cell_type": "code",
   "execution_count": 28,
   "metadata": {},
   "outputs": [
    {
     "data": {
      "text/plain": [
       "False    180\n",
       "True     104\n",
       "Name: MALIGNANT, dtype: int64"
      ]
     },
     "metadata": {},
     "output_type": "display_data"
    },
    {
     "data": {
      "image/png": "[encoded data removed]",
      "text/plain": [
       "<Figure size 432x288 with 2 Axes>"
      ]
     },
     "metadata": {},
     "output_type": "display_data"
    }
   ],
   "source": [
    "df_solution_test = pd.DataFrame(y_prediction, columns = ['MALIGNANT'])\n",
    "\n",
    "display(df_solution_test['MALIGNANT'].value_counts())\n",
    "\n",
    "fig, axs = plt.subplots(1, 2)\n",
    "\n",
    "axs[0].pie( df_data_train['MALIGNANT'].value_counts() , labels=['false','true'], \n",
    "        autopct='%1.1f%%', shadow=True)\n",
    "axs[0].axis('equal')\n",
    "axs[0].set_title(\"Train data\")\n",
    "\n",
    "\n",
    "axs[1].pie(df_solution_test['MALIGNANT'].value_counts() , labels=['false','true'], \n",
    "        autopct='%1.1f%%', shadow=True)\n",
    "axs[1].axis('equal')\n",
    "axs[1].set_title(\"Prediction\")\n",
    "\n",
    "\n",
    "plt.show()"
   ]
  },
  {
   "cell_type": "markdown",
   "metadata": {},
   "source": [
    "# NuSVC: Different Parameter"
   ]
  },
  {
   "cell_type": "code",
   "execution_count": 29,
   "metadata": {},
   "outputs": [
    {
     "name": "stdout",
     "output_type": "stream",
     "text": [
      "Fitting 3 folds for each of 100 candidates, totalling 300 fits\n"
     ]
    },
    {
     "name": "stderr",
     "output_type": "stream",
     "text": [
      "[Parallel(n_jobs=-1)]: Using backend LokyBackend with 4 concurrent workers.\n",
      "[Parallel(n_jobs=-1)]: Batch computation too fast (0.0156s.) Setting batch_size=2.\n",
      "[Parallel(n_jobs=-1)]: Done   5 tasks      | elapsed:    0.0s\n",
      "[Parallel(n_jobs=-1)]: Batch computation too fast (0.0313s.) Setting batch_size=4.\n",
      "[Parallel(n_jobs=-1)]: Done  12 tasks      | elapsed:    0.0s\n",
      "[Parallel(n_jobs=-1)]: Done  28 tasks      | elapsed:    0.0s\n",
      "[Parallel(n_jobs=-1)]: Batch computation too fast (0.0472s.) Setting batch_size=8.\n",
      "[Parallel(n_jobs=-1)]: Done  56 tasks      | elapsed:    0.1s\n",
      "[Parallel(n_jobs=-1)]: Batch computation too fast (0.1335s.) Setting batch_size=16.\n",
      "[Parallel(n_jobs=-1)]: Done 136 tasks      | elapsed:    0.5s\n",
      "[Parallel(n_jobs=-1)]: Done 220 tasks      | elapsed:    0.7s\n",
      "[Parallel(n_jobs=-1)]: Done 246 tasks      | elapsed:    0.7s\n"
     ]
    },
    {
     "name": "stdout",
     "output_type": "stream",
     "text": [
      "{'nu': 0.06939393939393938}\n"
     ]
    },
    {
     "name": "stderr",
     "output_type": "stream",
     "text": [
      "[Parallel(n_jobs=-1)]: Done 257 tasks      | elapsed:    0.8s\n",
      "[Parallel(n_jobs=-1)]: Done 285 tasks      | elapsed:    0.8s\n",
      "[Parallel(n_jobs=-1)]: Done 300 out of 300 | elapsed:    0.9s finished\n"
     ]
    }
   ],
   "source": [
    "clf = NuSVC()\n",
    "\n",
    "parameter_grid= {\n",
    "    'nu': [x for x in np.linspace(start = 0.01, stop = 0.99, num = 100)]    \n",
    "}\n",
    "                     \n",
    "cv_grid = GridSearchCV(clf, parameter_grid, cv=3, verbose=10, n_jobs=-1, scoring=['accuracy', 'precision', 'recall'], refit='accuracy')\n",
    "cv_grid.fit(X, Y)\n",
    "\n",
    "print(cv_grid.best_params_)"
   ]
  },
  {
   "cell_type": "code",
   "execution_count": 30,
   "metadata": {},
   "outputs": [
    {
     "data": {
      "text/html": [
       "<div>\n",
       "<style scoped>\n",
       "    .dataframe tbody tr th:only-of-type {\n",
       "        vertical-align: middle;\n",
       "    }\n",
       "\n",
       "    .dataframe tbody tr th {\n",
       "        vertical-align: top;\n",
       "    }\n",
       "\n",
       "    .dataframe thead th {\n",
       "        text-align: right;\n",
       "    }\n",
       "</style>\n",
       "<table border=\"1\" class=\"dataframe\">\n",
       "  <thead>\n",
       "    <tr style=\"text-align: right;\">\n",
       "      <th></th>\n",
       "      <th>nu</th>\n",
       "      <th>accuracy</th>\n",
       "      <th>precision</th>\n",
       "      <th>recall</th>\n",
       "      <th>fit_time</th>\n",
       "    </tr>\n",
       "  </thead>\n",
       "  <tbody>\n",
       "    <tr>\n",
       "      <th>6</th>\n",
       "      <td>0.0693939</td>\n",
       "      <td>0.951</td>\n",
       "      <td>0.923</td>\n",
       "      <td>0.938</td>\n",
       "      <td>0.005</td>\n",
       "    </tr>\n",
       "    <tr>\n",
       "      <th>11</th>\n",
       "      <td>0.118889</td>\n",
       "      <td>0.947</td>\n",
       "      <td>0.957</td>\n",
       "      <td>0.885</td>\n",
       "      <td>0.005</td>\n",
       "    </tr>\n",
       "    <tr>\n",
       "      <th>18</th>\n",
       "      <td>0.188182</td>\n",
       "      <td>0.947</td>\n",
       "      <td>0.988</td>\n",
       "      <td>0.854</td>\n",
       "      <td>0.010</td>\n",
       "    </tr>\n",
       "    <tr>\n",
       "      <th>17</th>\n",
       "      <td>0.178283</td>\n",
       "      <td>0.947</td>\n",
       "      <td>0.988</td>\n",
       "      <td>0.854</td>\n",
       "      <td>0.007</td>\n",
       "    </tr>\n",
       "    <tr>\n",
       "      <th>12</th>\n",
       "      <td>0.128788</td>\n",
       "      <td>0.944</td>\n",
       "      <td>0.967</td>\n",
       "      <td>0.865</td>\n",
       "      <td>0.005</td>\n",
       "    </tr>\n",
       "    <tr>\n",
       "      <th>10</th>\n",
       "      <td>0.10899</td>\n",
       "      <td>0.944</td>\n",
       "      <td>0.956</td>\n",
       "      <td>0.875</td>\n",
       "      <td>0.002</td>\n",
       "    </tr>\n",
       "    <tr>\n",
       "      <th>15</th>\n",
       "      <td>0.158485</td>\n",
       "      <td>0.944</td>\n",
       "      <td>0.977</td>\n",
       "      <td>0.854</td>\n",
       "      <td>0.010</td>\n",
       "    </tr>\n",
       "    <tr>\n",
       "      <th>7</th>\n",
       "      <td>0.0792929</td>\n",
       "      <td>0.944</td>\n",
       "      <td>0.929</td>\n",
       "      <td>0.906</td>\n",
       "      <td>0.007</td>\n",
       "    </tr>\n",
       "    <tr>\n",
       "      <th>16</th>\n",
       "      <td>0.168384</td>\n",
       "      <td>0.940</td>\n",
       "      <td>0.967</td>\n",
       "      <td>0.854</td>\n",
       "      <td>0.001</td>\n",
       "    </tr>\n",
       "    <tr>\n",
       "      <th>14</th>\n",
       "      <td>0.148586</td>\n",
       "      <td>0.940</td>\n",
       "      <td>0.967</td>\n",
       "      <td>0.854</td>\n",
       "      <td>0.005</td>\n",
       "    </tr>\n",
       "  </tbody>\n",
       "</table>\n",
       "</div>"
      ],
      "text/plain": [
       "           nu accuracy precision recall fit_time\n",
       "6   0.0693939    0.951     0.923  0.938    0.005\n",
       "11   0.118889    0.947     0.957  0.885    0.005\n",
       "18   0.188182    0.947     0.988  0.854    0.010\n",
       "17   0.178283    0.947     0.988  0.854    0.007\n",
       "12   0.128788    0.944     0.967  0.865    0.005\n",
       "10    0.10899    0.944     0.956  0.875    0.002\n",
       "15   0.158485    0.944     0.977  0.854    0.010\n",
       "7   0.0792929    0.944     0.929  0.906    0.007\n",
       "16   0.168384    0.940     0.967  0.854    0.001\n",
       "14   0.148586    0.940     0.967  0.854    0.005"
      ]
     },
     "execution_count": 30,
     "metadata": {},
     "output_type": "execute_result"
    }
   ],
   "source": [
    "selected_columns = [\n",
    "    'param_nu',\n",
    "    'mean_test_accuracy',\n",
    "    'mean_test_precision',\n",
    "    'mean_test_recall',\n",
    "    'mean_fit_time'\n",
    "]\n",
    "df_result = pd.DataFrame(cv_grid.cv_results_).sort_values(by='mean_test_accuracy', ascending=False).head(10)[selected_columns]\n",
    "df_result = df_result.rename(columns={\n",
    "    'param_nu': \"nu\",\n",
    "    \"mean_test_accuracy\": \"accuracy\",\n",
    "    \"mean_test_precision\": \"precision\",\n",
    "    \"mean_test_recall\": \"recall\",\n",
    "    \"mean_fit_time\": \"fit_time\"\n",
    "})\n",
    "\n",
    "\n",
    "for col in df_result.columns:\n",
    "    if df_result[col].dtype == np.float64:\n",
    "        df_result[col] = df_result[col].apply(lambda x: '{0:.3f}'.format(round(x,3)))\n",
    "df_result"
   ]
  },
  {
   "cell_type": "markdown",
   "metadata": {},
   "source": [
    "# NuSVC: Different Scaling"
   ]
  },
  {
   "cell_type": "code",
   "execution_count": 31,
   "metadata": {},
   "outputs": [
    {
     "name": "stdout",
     "output_type": "stream",
     "text": [
      "[0.93684211 0.94736842 0.96842105]\n",
      "0.9508771929824561\n"
     ]
    }
   ],
   "source": [
    "clf = make_pipeline(NuSVC(nu=0.06939393939393938))\n",
    "clf.fit(X, Y)\n",
    "\n",
    "scores= cross_validate(clf, X, Y, cv=3, scoring=['accuracy', 'precision', 'recall'], n_jobs=-1)\n",
    "\n",
    "print(scores[\"test_accuracy\"])\n",
    "print(np.mean(scores[\"test_accuracy\"]))"
   ]
  },
  {
   "cell_type": "code",
   "execution_count": 32,
   "metadata": {},
   "outputs": [
    {
     "name": "stdout",
     "output_type": "stream",
     "text": [
      "[0.95789474 0.98947368 0.97894737]\n",
      "0.975438596491228\n"
     ]
    }
   ],
   "source": [
    "clf = make_pipeline(StandardScaler(), NuSVC(nu=0.06939393939393938))\n",
    "clf.fit(X, Y)\n",
    "\n",
    "scores= cross_validate(clf, X, Y, cv=3, scoring=['accuracy', 'precision', 'recall'], n_jobs=-1)\n",
    "\n",
    "print(scores[\"test_accuracy\"])\n",
    "print(np.mean(scores[\"test_accuracy\"]))"
   ]
  },
  {
   "cell_type": "code",
   "execution_count": 33,
   "metadata": {},
   "outputs": [
    {
     "name": "stdout",
     "output_type": "stream",
     "text": [
      "[0.95789474 0.98947368 0.97894737]\n",
      "0.975438596491228\n"
     ]
    }
   ],
   "source": [
    "clf = make_pipeline(RobustScaler(), NuSVC(nu=0.06939393939393938))\n",
    "clf.fit(X, Y)\n",
    "\n",
    "scores= cross_validate(clf, X, Y, cv=3, scoring=['accuracy', 'precision', 'recall'], n_jobs=-1)\n",
    "\n",
    "print(scores[\"test_accuracy\"])\n",
    "print(np.mean(scores[\"test_accuracy\"]))"
   ]
  },
  {
   "cell_type": "code",
   "execution_count": 34,
   "metadata": {},
   "outputs": [
    {
     "name": "stdout",
     "output_type": "stream",
     "text": [
      "[0.95789474 0.98947368 0.97894737]\n",
      "0.975438596491228\n"
     ]
    }
   ],
   "source": [
    "clf = make_pipeline(MinMaxScaler(), NuSVC(nu=0.06939393939393938))\n",
    "clf.fit(X, Y)\n",
    "\n",
    "scores= cross_validate(clf, X, Y, cv=3, scoring=['accuracy', 'precision', 'recall'], n_jobs=-1)\n",
    "\n",
    "print(scores[\"test_accuracy\"])\n",
    "print(np.mean(scores[\"test_accuracy\"]))"
   ]
  },
  {
   "cell_type": "markdown",
   "metadata": {},
   "source": [
    "# NuSVC: Prediction"
   ]
  },
  {
   "cell_type": "code",
   "execution_count": 44,
   "metadata": {},
   "outputs": [
    {
     "data": {
      "text/plain": [
       "{'accuracy': 0.975438596491228,\n",
       " 'precision': 0.9784722222222223,\n",
       " 'recall': 0.9479166666666666,\n",
       " 'fit_time': 0.0}"
      ]
     },
     "metadata": {},
     "output_type": "display_data"
    },
    {
     "data": {
      "text/plain": [
       "{'false': 174, 'false %': 61, 'true': 110, 'true %': 39}"
      ]
     },
     "metadata": {},
     "output_type": "display_data"
    }
   ],
   "source": [
    "clf = make_pipeline(StandardScaler(), NuSVC(nu=0.06939393939393938))\n",
    "clf.fit(X, Y)\n",
    "\n",
    "# CV\n",
    "cv_result = cross_validate(clf, X, Y, cv=3, scoring=['accuracy', 'precision', 'recall'], n_jobs=-1)\n",
    "results_overview['NuSVC'] = {\n",
    "    'accuracy': cv_result['test_accuracy'].mean(),\n",
    "    'precision': cv_result['test_precision'].mean(),\n",
    "    'recall': cv_result['test_recall'].mean(),\n",
    "    'fit_time' : cv_result['fit_time'].mean()\n",
    "}\n",
    "\n",
    "display(results_overview['NuSVC'])\n",
    "\n",
    "# Predict\n",
    "y_prediction = clf.predict(X_test)\n",
    "\n",
    "unique_elements, counts_elements = np.unique(y_prediction, return_counts=True)\n",
    "\n",
    "predictions_per_model['NuSVC'] = {\n",
    "    'false': counts_elements[0],\n",
    "    'false %': int(round(counts_elements[0]/(counts_elements[0]+counts_elements[1])*100.0)),\n",
    "    'true': counts_elements[1],\n",
    "    'true %': int(round(counts_elements[1]/(counts_elements[0]+counts_elements[1])*100.0)),\n",
    "}\n",
    "\n",
    "display(predictions_per_model['NuSVC'])"
   ]
  },
  {
   "cell_type": "code",
   "execution_count": 45,
   "metadata": {},
   "outputs": [
    {
     "data": {
      "text/plain": [
       "False    174\n",
       "True     110\n",
       "Name: MALIGNANT, dtype: int64"
      ]
     },
     "metadata": {},
     "output_type": "display_data"
    },
    {
     "data": {
      "image/png": "[encoded data removed]",
      "text/plain": [
       "<Figure size 432x288 with 2 Axes>"
      ]
     },
     "metadata": {},
     "output_type": "display_data"
    }
   ],
   "source": [
    "df_solution_test = pd.DataFrame(y_prediction, columns = ['MALIGNANT'])\n",
    "\n",
    "display(df_solution_test['MALIGNANT'].value_counts())\n",
    "\n",
    "fig, axs = plt.subplots(1, 2)\n",
    "\n",
    "axs[0].pie( df_data_train['MALIGNANT'].value_counts() , labels=['false','true'], \n",
    "        autopct='%1.1f%%', shadow=True)\n",
    "axs[0].axis('equal')\n",
    "axs[0].set_title(\"Train data\")\n",
    "\n",
    "\n",
    "axs[1].pie(df_solution_test['MALIGNANT'].value_counts() , labels=['false','true'], \n",
    "        autopct='%1.1f%%', shadow=True)\n",
    "axs[1].axis('equal')\n",
    "axs[1].set_title(\"Prediction\")\n",
    "\n",
    "\n",
    "plt.show()"
   ]
  },
  {
   "cell_type": "markdown",
   "metadata": {},
   "source": [
    "# Neural Network: Different Parameters"
   ]
  },
  {
   "cell_type": "code",
   "execution_count": 37,
   "metadata": {},
   "outputs": [
    {
     "name": "stdout",
     "output_type": "stream",
     "text": [
      "Fitting 3 folds for each of 21 candidates, totalling 63 fits\n"
     ]
    },
    {
     "name": "stderr",
     "output_type": "stream",
     "text": [
      "[Parallel(n_jobs=-1)]: Using backend LokyBackend with 4 concurrent workers.\n",
      "[Parallel(n_jobs=-1)]: Batch computation too fast (0.0343s.) Setting batch_size=2.\n",
      "[Parallel(n_jobs=-1)]: Done   5 tasks      | elapsed:    0.0s\n",
      "[Parallel(n_jobs=-1)]: Done  12 tasks      | elapsed:    0.4s\n",
      "[Parallel(n_jobs=-1)]: Done  26 tasks      | elapsed:    1.1s\n",
      "[Parallel(n_jobs=-1)]: Done  40 tasks      | elapsed:    1.7s\n",
      "[Parallel(n_jobs=-1)]: Done  56 out of  63 | elapsed:    2.7s remaining:    0.2s\n",
      "[Parallel(n_jobs=-1)]: Done  63 out of  63 | elapsed:    4.2s remaining:    0.0s\n",
      "[Parallel(n_jobs=-1)]: Done  63 out of  63 | elapsed:    4.2s finished\n"
     ]
    },
    {
     "name": "stdout",
     "output_type": "stream",
     "text": [
      "{'hidden_layer_sizes': (10, 4), 'max_iter': 150}\n"
     ]
    },
    {
     "name": "stderr",
     "output_type": "stream",
     "text": [
      "C:\\anaconda3\\lib\\site-packages\\sklearn\\neural_network\\_multilayer_perceptron.py:571: ConvergenceWarning: Stochastic Optimizer: Maximum iterations (150) reached and the optimization hasn't converged yet.\n",
      "  % self.max_iter, ConvergenceWarning)\n"
     ]
    }
   ],
   "source": [
    "clf = MLPClassifier()\n",
    "\n",
    "parameter_grid= {\n",
    "    'max_iter': [10,50,100,150,200,300,1000],\n",
    "    'hidden_layer_sizes' : [(2,2),(3,3),(10,4)]\n",
    "}\n",
    "                     \n",
    "cv_grid = GridSearchCV(clf, parameter_grid, cv=3, verbose=10, n_jobs=-1, scoring=['accuracy', 'precision', 'recall'], refit='accuracy')\n",
    "cv_grid.fit(X, Y)\n",
    "\n",
    "print(cv_grid.best_params_)"
   ]
  },
  {
   "cell_type": "code",
   "execution_count": 38,
   "metadata": {},
   "outputs": [
    {
     "data": {
      "text/html": [
       "<div>\n",
       "<style scoped>\n",
       "    .dataframe tbody tr th:only-of-type {\n",
       "        vertical-align: middle;\n",
       "    }\n",
       "\n",
       "    .dataframe tbody tr th {\n",
       "        vertical-align: top;\n",
       "    }\n",
       "\n",
       "    .dataframe thead th {\n",
       "        text-align: right;\n",
       "    }\n",
       "</style>\n",
       "<table border=\"1\" class=\"dataframe\">\n",
       "  <thead>\n",
       "    <tr style=\"text-align: right;\">\n",
       "      <th></th>\n",
       "      <th>max_iter</th>\n",
       "      <th>hidden_layer</th>\n",
       "      <th>accuracy</th>\n",
       "      <th>precision</th>\n",
       "      <th>recall</th>\n",
       "      <th>fit_time</th>\n",
       "    </tr>\n",
       "  </thead>\n",
       "  <tbody>\n",
       "    <tr>\n",
       "      <th>17</th>\n",
       "      <td>150</td>\n",
       "      <td>(10, 4)</td>\n",
       "      <td>0.832</td>\n",
       "      <td>0.981</td>\n",
       "      <td>0.510</td>\n",
       "      <td>0.173</td>\n",
       "    </tr>\n",
       "    <tr>\n",
       "      <th>15</th>\n",
       "      <td>50</td>\n",
       "      <td>(10, 4)</td>\n",
       "      <td>0.761</td>\n",
       "      <td>0.768</td>\n",
       "      <td>0.635</td>\n",
       "      <td>0.081</td>\n",
       "    </tr>\n",
       "    <tr>\n",
       "      <th>3</th>\n",
       "      <td>150</td>\n",
       "      <td>(2, 2)</td>\n",
       "      <td>0.744</td>\n",
       "      <td>0.445</td>\n",
       "      <td>0.531</td>\n",
       "      <td>0.172</td>\n",
       "    </tr>\n",
       "    <tr>\n",
       "      <th>20</th>\n",
       "      <td>1000</td>\n",
       "      <td>(10, 4)</td>\n",
       "      <td>0.740</td>\n",
       "      <td>0.762</td>\n",
       "      <td>0.844</td>\n",
       "      <td>0.614</td>\n",
       "    </tr>\n",
       "    <tr>\n",
       "      <th>18</th>\n",
       "      <td>200</td>\n",
       "      <td>(10, 4)</td>\n",
       "      <td>0.712</td>\n",
       "      <td>0.731</td>\n",
       "      <td>0.812</td>\n",
       "      <td>0.191</td>\n",
       "    </tr>\n",
       "    <tr>\n",
       "      <th>12</th>\n",
       "      <td>300</td>\n",
       "      <td>(3, 3)</td>\n",
       "      <td>0.695</td>\n",
       "      <td>0.465</td>\n",
       "      <td>0.604</td>\n",
       "      <td>0.523</td>\n",
       "    </tr>\n",
       "    <tr>\n",
       "      <th>13</th>\n",
       "      <td>1000</td>\n",
       "      <td>(3, 3)</td>\n",
       "      <td>0.670</td>\n",
       "      <td>0.333</td>\n",
       "      <td>0.021</td>\n",
       "      <td>0.042</td>\n",
       "    </tr>\n",
       "    <tr>\n",
       "      <th>19</th>\n",
       "      <td>300</td>\n",
       "      <td>(10, 4)</td>\n",
       "      <td>0.663</td>\n",
       "      <td>0.000</td>\n",
       "      <td>0.000</td>\n",
       "      <td>0.414</td>\n",
       "    </tr>\n",
       "    <tr>\n",
       "      <th>14</th>\n",
       "      <td>10</td>\n",
       "      <td>(10, 4)</td>\n",
       "      <td>0.639</td>\n",
       "      <td>0.150</td>\n",
       "      <td>0.323</td>\n",
       "      <td>0.021</td>\n",
       "    </tr>\n",
       "    <tr>\n",
       "      <th>0</th>\n",
       "      <td>10</td>\n",
       "      <td>(2, 2)</td>\n",
       "      <td>0.572</td>\n",
       "      <td>0.446</td>\n",
       "      <td>0.385</td>\n",
       "      <td>0.017</td>\n",
       "    </tr>\n",
       "  </tbody>\n",
       "</table>\n",
       "</div>"
      ],
      "text/plain": [
       "   max_iter hidden_layer accuracy precision recall fit_time\n",
       "17      150      (10, 4)    0.832     0.981  0.510    0.173\n",
       "15       50      (10, 4)    0.761     0.768  0.635    0.081\n",
       "3       150       (2, 2)    0.744     0.445  0.531    0.172\n",
       "20     1000      (10, 4)    0.740     0.762  0.844    0.614\n",
       "18      200      (10, 4)    0.712     0.731  0.812    0.191\n",
       "12      300       (3, 3)    0.695     0.465  0.604    0.523\n",
       "13     1000       (3, 3)    0.670     0.333  0.021    0.042\n",
       "19      300      (10, 4)    0.663     0.000  0.000    0.414\n",
       "14       10      (10, 4)    0.639     0.150  0.323    0.021\n",
       "0        10       (2, 2)    0.572     0.446  0.385    0.017"
      ]
     },
     "execution_count": 38,
     "metadata": {},
     "output_type": "execute_result"
    }
   ],
   "source": [
    "selected_columns = [\n",
    "    'param_max_iter',\n",
    "    'param_hidden_layer_sizes',\n",
    "    'mean_test_accuracy',\n",
    "    'mean_test_precision',\n",
    "    'mean_test_recall',\n",
    "    'mean_fit_time'\n",
    "]\n",
    "df_result = pd.DataFrame(cv_grid.cv_results_).sort_values(by='mean_test_accuracy', ascending=False).head(10)[selected_columns]\n",
    "df_result = df_result.rename(columns={\n",
    "    'param_max_iter': \"max_iter\",\n",
    "    'param_hidden_layer_sizes': \"hidden_layer\",\n",
    "    \"mean_test_accuracy\": \"accuracy\",\n",
    "    \"mean_test_precision\": \"precision\",\n",
    "    \"mean_test_recall\": \"recall\",\n",
    "    \"mean_fit_time\": \"fit_time\"\n",
    "})\n",
    "\n",
    "\n",
    "for col in df_result.columns:\n",
    "    if df_result[col].dtype == np.float64:\n",
    "        df_result[col] = df_result[col].apply(lambda x: '{0:.3f}'.format(round(x,3)))\n",
    "df_result"
   ]
  },
  {
   "cell_type": "code",
   "execution_count": 39,
   "metadata": {},
   "outputs": [
    {
     "name": "stdout",
     "output_type": "stream",
     "text": [
      "[0.66315789 0.66315789 0.87368421]\n",
      "0.7333333333333334\n"
     ]
    }
   ],
   "source": [
    "clf = MLPClassifier(hidden_layer_sizes=(2,2), max_iter = 1000)\n",
    "\n",
    "clf.fit(X, Y)\n",
    "\n",
    "scores= cross_validate(clf, X, Y, cv=3, scoring=['accuracy', 'precision', 'recall'], n_jobs=-1)\n",
    "\n",
    "print(scores[\"test_accuracy\"])\n",
    "print(np.mean(scores[\"test_accuracy\"]))"
   ]
  },
  {
   "cell_type": "markdown",
   "metadata": {},
   "source": [
    "# MLP: Prediction"
   ]
  },
  {
   "cell_type": "code",
   "execution_count": 47,
   "metadata": {},
   "outputs": [
    {
     "name": "stderr",
     "output_type": "stream",
     "text": [
      "C:\\anaconda3\\lib\\site-packages\\sklearn\\neural_network\\_multilayer_perceptron.py:571: ConvergenceWarning: Stochastic Optimizer: Maximum iterations (1000) reached and the optimization hasn't converged yet.\n",
      "  % self.max_iter, ConvergenceWarning)\n"
     ]
    },
    {
     "data": {
      "text/plain": [
       "{'accuracy': 0.4561403508771929,\n",
       " 'precision': 0.4247042364001428,\n",
       " 'recall': 0.8020833333333334,\n",
       " 'fit_time': 0.15976174672444662}"
      ]
     },
     "metadata": {},
     "output_type": "display_data"
    },
    {
     "data": {
      "text/plain": [
       "{'false': 178, 'false %': 63, 'true': 106, 'true %': 37}"
      ]
     },
     "metadata": {},
     "output_type": "display_data"
    }
   ],
   "source": [
    "clf = MLPClassifier(hidden_layer_sizes=(10,4), max_iter = 1000)\n",
    "clf.fit(X, Y)\n",
    "\n",
    "# CV\n",
    "cv_result = cross_validate(clf, X, Y, cv=3, scoring=['accuracy', 'precision', 'recall'], n_jobs=-1)\n",
    "\n",
    "results_overview['MLP'] ={\n",
    "    'accuracy': cv_result['test_accuracy'].mean(),\n",
    "    'precision': cv_result['test_precision'].mean(),\n",
    "    'recall': cv_result['test_recall'].mean(),\n",
    "    'fit_time' : cv_result['fit_time'].mean()\n",
    "}\n",
    "\n",
    "display(results_overview['MLP'])\n",
    "\n",
    "# Predict\n",
    "y_prediction = clf.predict(X_test)\n",
    "\n",
    "unique_elements, counts_elements = np.unique(y_prediction, return_counts=True)\n",
    "\n",
    "predictions_per_model['MLP'] = {\n",
    "    'false': counts_elements[0],\n",
    "    'false %': int(round(counts_elements[0]/(counts_elements[0]+counts_elements[1])*100.0)),\n",
    "    'true': counts_elements[1],\n",
    "    'true %': int(round(counts_elements[1]/(counts_elements[0]+counts_elements[1])*100.0)),\n",
    "}\n",
    "\n",
    "display(predictions_per_model['MLP'])"
   ]
  },
  {
   "cell_type": "code",
   "execution_count": 48,
   "metadata": {},
   "outputs": [
    {
     "data": {
      "text/plain": [
       "False    178\n",
       "True     106\n",
       "Name: MALIGNANT, dtype: int64"
      ]
     },
     "metadata": {},
     "output_type": "display_data"
    },
    {
     "data": {
      "image/png": "[encoded data removed]",
      "text/plain": [
       "<Figure size 432x288 with 2 Axes>"
      ]
     },
     "metadata": {},
     "output_type": "display_data"
    }
   ],
   "source": [
    "df_solution_test = pd.DataFrame(y_prediction, columns = ['MALIGNANT'])\n",
    "\n",
    "display(df_solution_test['MALIGNANT'].value_counts())\n",
    "\n",
    "fig, axs = plt.subplots(1, 2)\n",
    "\n",
    "axs[0].pie( df_data_train['MALIGNANT'].value_counts() , labels=['false','true'], \n",
    "        autopct='%1.1f%%', shadow=True)\n",
    "axs[0].axis('equal')\n",
    "axs[0].set_title(\"Train data\")\n",
    "\n",
    "\n",
    "axs[1].pie(df_solution_test['MALIGNANT'].value_counts() , labels=['false','true'], \n",
    "        autopct='%1.1f%%', shadow=True)\n",
    "axs[1].axis('equal')\n",
    "axs[1].set_title(\"Prediction\")\n",
    "\n",
    "\n",
    "plt.show()"
   ]
  },
  {
   "cell_type": "markdown",
   "metadata": {},
   "source": [
    "# Result overview"
   ]
  },
  {
   "cell_type": "code",
   "execution_count": 49,
   "metadata": {},
   "outputs": [
    {
     "data": {
      "text/html": [
       "<div>\n",
       "<style scoped>\n",
       "    .dataframe tbody tr th:only-of-type {\n",
       "        vertical-align: middle;\n",
       "    }\n",
       "\n",
       "    .dataframe tbody tr th {\n",
       "        vertical-align: top;\n",
       "    }\n",
       "\n",
       "    .dataframe thead th {\n",
       "        text-align: right;\n",
       "    }\n",
       "</style>\n",
       "<table border=\"1\" class=\"dataframe\">\n",
       "  <thead>\n",
       "    <tr style=\"text-align: right;\">\n",
       "      <th></th>\n",
       "      <th>accuracy</th>\n",
       "      <th>precision</th>\n",
       "      <th>recall</th>\n",
       "      <th>fit_time</th>\n",
       "    </tr>\n",
       "  </thead>\n",
       "  <tbody>\n",
       "    <tr>\n",
       "      <th>Linear Model</th>\n",
       "      <td>0.968421</td>\n",
       "      <td>0.978831</td>\n",
       "      <td>0.927083</td>\n",
       "      <td>0.178353</td>\n",
       "    </tr>\n",
       "    <tr>\n",
       "      <th>RandomForest</th>\n",
       "      <td>0.975439</td>\n",
       "      <td>0.978089</td>\n",
       "      <td>0.947917</td>\n",
       "      <td>0.098834</td>\n",
       "    </tr>\n",
       "    <tr>\n",
       "      <th>SVC</th>\n",
       "      <td>0.961404</td>\n",
       "      <td>0.958586</td>\n",
       "      <td>0.927083</td>\n",
       "      <td>4.600344</td>\n",
       "    </tr>\n",
       "    <tr>\n",
       "      <th>NuSVC</th>\n",
       "      <td>0.975439</td>\n",
       "      <td>0.978472</td>\n",
       "      <td>0.947917</td>\n",
       "      <td>0.000000</td>\n",
       "    </tr>\n",
       "    <tr>\n",
       "      <th>MLP</th>\n",
       "      <td>0.456140</td>\n",
       "      <td>0.424704</td>\n",
       "      <td>0.802083</td>\n",
       "      <td>0.159762</td>\n",
       "    </tr>\n",
       "  </tbody>\n",
       "</table>\n",
       "</div>"
      ],
      "text/plain": [
       "              accuracy  precision    recall  fit_time\n",
       "Linear Model  0.968421   0.978831  0.927083  0.178353\n",
       "RandomForest  0.975439   0.978089  0.947917  0.098834\n",
       "SVC           0.961404   0.958586  0.927083  4.600344\n",
       "NuSVC         0.975439   0.978472  0.947917  0.000000\n",
       "MLP           0.456140   0.424704  0.802083  0.159762"
      ]
     },
     "execution_count": 49,
     "metadata": {},
     "output_type": "execute_result"
    }
   ],
   "source": [
    "pd.DataFrame.from_dict(results_overview).T"
   ]
  },
  {
   "cell_type": "code",
   "execution_count": 43,
   "metadata": {},
   "outputs": [
    {
     "data": {
      "text/html": [
       "<div>\n",
       "<style scoped>\n",
       "    .dataframe tbody tr th:only-of-type {\n",
       "        vertical-align: middle;\n",
       "    }\n",
       "\n",
       "    .dataframe tbody tr th {\n",
       "        vertical-align: top;\n",
       "    }\n",
       "\n",
       "    .dataframe thead th {\n",
       "        text-align: right;\n",
       "    }\n",
       "</style>\n",
       "<table border=\"1\" class=\"dataframe\">\n",
       "  <thead>\n",
       "    <tr style=\"text-align: right;\">\n",
       "      <th></th>\n",
       "      <th>false</th>\n",
       "      <th>false %</th>\n",
       "      <th>true</th>\n",
       "      <th>true %</th>\n",
       "    </tr>\n",
       "  </thead>\n",
       "  <tbody>\n",
       "    <tr>\n",
       "      <th>Linear Model</th>\n",
       "      <td>174</td>\n",
       "      <td>61</td>\n",
       "      <td>110</td>\n",
       "      <td>39</td>\n",
       "    </tr>\n",
       "    <tr>\n",
       "      <th>RandomForest</th>\n",
       "      <td>176</td>\n",
       "      <td>62</td>\n",
       "      <td>108</td>\n",
       "      <td>38</td>\n",
       "    </tr>\n",
       "    <tr>\n",
       "      <th>SVC</th>\n",
       "      <td>180</td>\n",
       "      <td>63</td>\n",
       "      <td>104</td>\n",
       "      <td>37</td>\n",
       "    </tr>\n",
       "    <tr>\n",
       "      <th>NuSVC</th>\n",
       "      <td>174</td>\n",
       "      <td>61</td>\n",
       "      <td>110</td>\n",
       "      <td>39</td>\n",
       "    </tr>\n",
       "    <tr>\n",
       "      <th>MLP</th>\n",
       "      <td>180</td>\n",
       "      <td>63</td>\n",
       "      <td>104</td>\n",
       "      <td>37</td>\n",
       "    </tr>\n",
       "  </tbody>\n",
       "</table>\n",
       "</div>"
      ],
      "text/plain": [
       "              false  false %  true  true %\n",
       "Linear Model    174       61   110      39\n",
       "RandomForest    176       62   108      38\n",
       "SVC             180       63   104      37\n",
       "NuSVC           174       61   110      39\n",
       "MLP             180       63   104      37"
      ]
     },
     "execution_count": 43,
     "metadata": {},
     "output_type": "execute_result"
    }
   ],
   "source": [
    "pd.DataFrame.from_dict(predictions_per_model).T"
   ]
  },
  {
   "cell_type": "code",
   "execution_count": null,
   "metadata": {},
   "outputs": [],
   "source": []
  }
 ],
 "metadata": {
  "kernelspec": {
   "display_name": "Python 3",
   "language": "python",
   "name": "python3"
  },
  "language_info": {
   "codemirror_mode": {
    "name": "ipython",
    "version": 3
   },
   "file_extension": ".py",
   "mimetype": "text/x-python",
   "name": "python",
   "nbconvert_exporter": "python",
   "pygments_lexer": "ipython3",
   "version": "3.7.6"
  }
 },
 "nbformat": 4,
 "nbformat_minor": 4
}
